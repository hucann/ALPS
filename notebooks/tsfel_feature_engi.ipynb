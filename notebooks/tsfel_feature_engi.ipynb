{
 "cells": [
  {
   "cell_type": "markdown",
   "metadata": {},
   "source": [
    "Package and their versions:\n",
    "\n",
    "pip install u8darts[all]==0.34.0\n",
    "\n",
    "pip install tsfel==0.1.9"
   ]
  },
  {
   "cell_type": "code",
   "execution_count": 1,
   "metadata": {},
   "outputs": [
    {
     "name": "stderr",
     "output_type": "stream",
     "text": [
      "/Users/canhu/miniforge3/lib/python3.12/site-packages/tqdm/auto.py:21: TqdmWarning: IProgress not found. Please update jupyter and ipywidgets. See https://ipywidgets.readthedocs.io/en/stable/user_install.html\n",
      "  from .autonotebook import tqdm as notebook_tqdm\n"
     ]
    }
   ],
   "source": [
    "import pandas as pd\n",
    "from darts import TimeSeries\n",
    "from darts.models import TCNModel\n",
    "from darts.utils.timeseries_generation import linear_timeseries\n",
    "from darts.utils.likelihood_models import GaussianLikelihood\n",
    "from darts.utils.data import DualCovariatesSequentialDataset"
   ]
  },
  {
   "cell_type": "markdown",
   "metadata": {},
   "source": [
    "### Quite a few datasets available on darts, and some algorithms use specific datasets\n",
    "\n",
    "DualCovariatesSequentialDataset\n",
    "\n",
    "PastCovariatesSequentialDataset\n",
    "\n",
    "SplitCovariatesShiftedDataset"
   ]
  },
  {
   "cell_type": "markdown",
   "metadata": {},
   "source": [
    "### TCNModel has some limitation? Not sure why the output_chunk_length can only be 1"
   ]
  },
  {
   "cell_type": "code",
   "execution_count": 30,
   "metadata": {},
   "outputs": [],
   "source": [
    "# dataset = DualCovariatesSequentialDataset(\n",
    "#     target_series=target_series,\n",
    "#     covariates=past_covariates,  \n",
    "#     input_chunk_length=12,\n",
    "#     output_chunk_length=1,\n",
    "# )\n",
    "\n",
    "# past_dataset = PastCovariatesSequentialDataset(\n",
    "#     target_series=target_series,\n",
    "#     covariates=past_covariates,  \n",
    "#     input_chunk_length=12,\n",
    "#     output_chunk_length=1,\n",
    "# )\n",
    "\n",
    "\n",
    "# shifted_dataset = DualCovariatesShiftedDataset(\n",
    "#     target_series=target_series,\n",
    "#     covariates=past_covariates,\n",
    "#     length =input_chunk_length,\n",
    "#     shift =1\n",
    "\n",
    "# )\n",
    "\n",
    "# from darts.utils.data import SplitCovariatesShiftedDataset\n",
    "\n",
    "# split_dataset = SplitCovariatesShiftedDataset(\n",
    "#     target_series=target_series,\n",
    "#     past_covariates=past_covariates,\n",
    "#     future_covariates=past_covariates,\n",
    "#     length=input_chunk_length,\n",
    "#     shift=output_chunk_length\n",
    "# )\n"
   ]
  },
  {
   "cell_type": "markdown",
   "metadata": {},
   "source": [
    "### Passing windowed dataset into algorithms, instead of letting it perform the windowing under the hood"
   ]
  },
  {
   "cell_type": "code",
   "execution_count": 51,
   "metadata": {},
   "outputs": [],
   "source": [
    "from darts import TimeSeries\n",
    "from darts.utils.timeseries_generation import linear_timeseries\n",
    "from darts.utils.likelihood_models import GaussianLikelihood\n",
    "from darts.utils.data import PastCovariatesSequentialDataset\n",
    "import numpy as np\n",
    "\n",
    "# Generate synthetic target and covariate series\n",
    "target_series = linear_timeseries(length=100, freq=\"W\").astype(np.float32)\n",
    "past_covariates_series = linear_timeseries(length=100, freq=\"W\", start_value=10, end_value=50).astype(np.float32)\n",
    "\n",
    "# Define window parameters\n",
    "input_chunk_length = 12\n",
    "output_chunk_length = 4\n",
    "\n",
    "# Create a dataset for models that support multi-step forecasting\n",
    "dataset = PastCovariatesSequentialDataset(\n",
    "    target_series=target_series,\n",
    "    covariates=past_covariates_series,\n",
    "    input_chunk_length=input_chunk_length,\n",
    "    output_chunk_length=output_chunk_length,\n",
    ")\n"
   ]
  },
  {
   "cell_type": "markdown",
   "metadata": {},
   "source": [
    "### Able to inspect each window"
   ]
  },
  {
   "cell_type": "code",
   "execution_count": 52,
   "metadata": {},
   "outputs": [],
   "source": [
    "window_past_target, window_past_covariates, window_static_covariates, window_sample_weights, window_future_target = dataset[0]"
   ]
  },
  {
   "cell_type": "code",
   "execution_count": 7,
   "metadata": {},
   "outputs": [
    {
     "name": "stderr",
     "output_type": "stream",
     "text": [
      "GPU available: True (mps), used: True\n",
      "TPU available: False, using: 0 TPU cores\n",
      "HPU available: False, using: 0 HPUs\n",
      "\n",
      "  | Name            | Type             | Params | Mode \n",
      "-------------------------------------------------------------\n",
      "0 | criterion       | MSELoss          | 0      | train\n",
      "1 | train_criterion | MSELoss          | 0      | train\n",
      "2 | val_criterion   | MSELoss          | 0      | train\n",
      "3 | train_metrics   | MetricCollection | 0      | train\n",
      "4 | val_metrics     | MetricCollection | 0      | train\n",
      "5 | stacks          | ModuleList       | 6.2 M  | train\n",
      "-------------------------------------------------------------\n",
      "6.2 M     Trainable params\n",
      "1.4 K     Non-trainable params\n",
      "6.2 M     Total params\n",
      "24.939    Total estimated model params size (MB)\n",
      "396       Modules in train mode\n",
      "0         Modules in eval mode\n"
     ]
    },
    {
     "name": "stdout",
     "output_type": "stream",
     "text": [
      "Epoch 9: 100%|██████████| 6/6 [00:00<00:00,  9.42it/s, train_loss=5.200]  "
     ]
    },
    {
     "name": "stderr",
     "output_type": "stream",
     "text": [
      "`Trainer.fit` stopped: `max_epochs=10` reached.\n"
     ]
    },
    {
     "name": "stdout",
     "output_type": "stream",
     "text": [
      "Epoch 9: 100%|██████████| 6/6 [00:00<00:00,  9.41it/s, train_loss=5.200]\n"
     ]
    },
    {
     "data": {
      "text/plain": [
       "NBEATSModel(output_chunk_shift=0, generic_architecture=True, num_stacks=30, num_blocks=1, num_layers=4, layer_widths=256, expansion_coefficient_dim=5, trend_polynomial_degree=2, dropout=0.0, activation=ReLU, input_chunk_length=12, output_chunk_length=4, n_epochs=10, batch_size=16, random_state=42, likelihood=GaussianLikelihood(prior_mu=None, prior_sigma=None, beta_nll=0.0, prior_strength=1.0))"
      ]
     },
     "execution_count": 7,
     "metadata": {},
     "output_type": "execute_result"
    }
   ],
   "source": [
    "from darts.models import NBEATSModel\n",
    "\n",
    "nbeats = NBEATSModel(\n",
    "    input_chunk_length=input_chunk_length,\n",
    "    output_chunk_length=output_chunk_length,\n",
    "    n_epochs=10,\n",
    "    batch_size=16,\n",
    "    random_state=42,\n",
    "    likelihood=GaussianLikelihood(),\n",
    ")\n",
    "\n",
    "nbeats.fit_from_dataset(dataset, verbose=True)\n"
   ]
  },
  {
   "cell_type": "code",
   "execution_count": 75,
   "metadata": {},
   "outputs": [
    {
     "name": "stderr",
     "output_type": "stream",
     "text": [
      "GPU available: False, used: False\n",
      "TPU available: False, using: 0 TPU cores\n",
      "HPU available: False, using: 0 HPUs\n"
     ]
    },
    {
     "name": "stdout",
     "output_type": "stream",
     "text": [
      "Predicting DataLoader 0: 100%|██████████| 1/1 [00:00<00:00, 20.04it/s]\n"
     ]
    }
   ],
   "source": [
    "forecast = nbeats.predict(\n",
    "    n=4,\n",
    "    series=target_series,               # ✅ Required\n",
    "    past_covariates=past_covariates_series     # Optional, if you used them during training\n",
    ")\n"
   ]
  },
  {
   "cell_type": "code",
   "execution_count": 78,
   "metadata": {},
   "outputs": [
    {
     "name": "stderr",
     "output_type": "stream",
     "text": [
      "GPU available: False, used: False\n",
      "TPU available: False, using: 0 TPU cores\n",
      "HPU available: False, using: 0 HPUs\n",
      "\n",
      "  | Name            | Type             | Params | Mode \n",
      "-------------------------------------------------------------\n",
      "0 | criterion       | MSELoss          | 0      | train\n",
      "1 | train_criterion | MSELoss          | 0      | train\n",
      "2 | val_criterion   | MSELoss          | 0      | train\n",
      "3 | train_metrics   | MetricCollection | 0      | train\n",
      "4 | val_metrics     | MetricCollection | 0      | train\n",
      "5 | rnn             | LSTM             | 13.1 K | train\n",
      "6 | fc              | Sequential       | 264    | train\n",
      "-------------------------------------------------------------\n",
      "13.3 K    Trainable params\n",
      "0         Non-trainable params\n",
      "13.3 K    Total params\n",
      "0.053     Total estimated model params size (MB)\n",
      "8         Modules in train mode\n",
      "0         Modules in eval mode\n"
     ]
    },
    {
     "name": "stdout",
     "output_type": "stream",
     "text": [
      "Epoch 0:   0%|          | 0/6 [00:00<?, ?it/s] "
     ]
    },
    {
     "name": "stdout",
     "output_type": "stream",
     "text": [
      "Epoch 49: 100%|██████████| 6/6 [00:00<00:00, 52.40it/s, train_loss=-2.44] "
     ]
    },
    {
     "name": "stderr",
     "output_type": "stream",
     "text": [
      "`Trainer.fit` stopped: `max_epochs=50` reached.\n"
     ]
    },
    {
     "name": "stdout",
     "output_type": "stream",
     "text": [
      "Epoch 49: 100%|██████████| 6/6 [00:00<00:00, 50.64it/s, train_loss=-2.44]\n"
     ]
    },
    {
     "data": {
      "text/plain": [
       "BlockRNNModel(output_chunk_shift=0, model=LSTM, hidden_dim=32, n_rnn_layers=2, hidden_fc_sizes=None, dropout=0.1, activation=ReLU, input_chunk_length=12, output_chunk_length=4, n_epochs=50, batch_size=16, random_state=42, likelihood=GaussianLikelihood(prior_mu=None, prior_sigma=None, prior_strength=1.0, beta_nll=0.0))"
      ]
     },
     "execution_count": 78,
     "metadata": {},
     "output_type": "execute_result"
    }
   ],
   "source": [
    "from darts.models import BlockRNNModel\n",
    "\n",
    "block_rnn = BlockRNNModel(\n",
    "    model=\"LSTM\",\n",
    "    input_chunk_length=input_chunk_length,\n",
    "    output_chunk_length=output_chunk_length,\n",
    "    hidden_dim=32,\n",
    "    n_rnn_layers=2,\n",
    "    n_epochs=50,\n",
    "    batch_size=16,\n",
    "    dropout=0.1,\n",
    "    random_state=42,\n",
    "    likelihood=GaussianLikelihood(),\n",
    ")\n",
    "\n",
    "block_rnn.fit_from_dataset(dataset, verbose=True)\n",
    "\n"
   ]
  },
  {
   "cell_type": "code",
   "execution_count": null,
   "metadata": {},
   "outputs": [
    {
     "name": "stderr",
     "output_type": "stream",
     "text": [
      "GPU available: False, used: False\n",
      "TPU available: False, using: 0 TPU cores\n",
      "HPU available: False, using: 0 HPUs\n"
     ]
    },
    {
     "name": "stdout",
     "output_type": "stream",
     "text": [
      "Predicting DataLoader 0: 100%|██████████| 1/1 [00:00<00:00, 72.16it/s]\n"
     ]
    }
   ],
   "source": [
    "forecast = block_rnn.predict(\n",
    "    n=4,\n",
    "    series=target_series,               # ✅ Required\n",
    "    past_covariates=past_covariates_series     # Optional, if you used them during training\n",
    ")\n"
   ]
  },
  {
   "cell_type": "markdown",
   "metadata": {},
   "source": [
    "### Use dataset windows + creating features with tsfel \n",
    "\n"
   ]
  },
  {
   "cell_type": "code",
   "execution_count": 79,
   "metadata": {},
   "outputs": [],
   "source": [
    "window_past_target, window_past_covariates, window_static_covariates, window_sample_weights, window_future_target = dataset[84]"
   ]
  },
  {
   "cell_type": "code",
   "execution_count": 77,
   "metadata": {},
   "outputs": [
    {
     "data": {
      "text/plain": [
       "array([[0.02020202],\n",
       "       [0.03030303],\n",
       "       [0.04040404],\n",
       "       [0.05050505],\n",
       "       [0.06060606],\n",
       "       [0.07070707],\n",
       "       [0.08080808],\n",
       "       [0.09090909],\n",
       "       [0.1010101 ],\n",
       "       [0.11111111],\n",
       "       [0.12121212],\n",
       "       [0.13131313]], dtype=float32)"
      ]
     },
     "execution_count": 77,
     "metadata": {},
     "output_type": "execute_result"
    }
   ],
   "source": [
    "window_past_target"
   ]
  },
  {
   "cell_type": "code",
   "execution_count": 72,
   "metadata": {},
   "outputs": [
    {
     "name": "stderr",
     "output_type": "stream",
     "text": [
      "DeprecationWarning: `TimeSeries.pd_dataframe()` is deprecated, and will be removed in Darts version 0.35.0. Use `TimeSeries.to_dataframe()` instead\n",
      "/var/folders/kt/yzrbp9yd45q1_4dbfnz81sqm0000gn/T/ipykernel_30676/3084242449.py:35: UserWarning: Using default sampling frequency set in configuration file.\n",
      "  features = tsfel.time_series_features_extractor(cfg, df_window[['signal']], verbose=0) # dataframe of generated features (1, 132)\n",
      "DeprecationWarning: `TimeSeries.pd_dataframe()` is deprecated, and will be removed in Darts version 0.35.0. Use `TimeSeries.to_dataframe()` instead\n",
      "/var/folders/kt/yzrbp9yd45q1_4dbfnz81sqm0000gn/T/ipykernel_30676/3084242449.py:35: UserWarning: Using default sampling frequency set in configuration file.\n",
      "  features = tsfel.time_series_features_extractor(cfg, df_window[['signal']], verbose=0) # dataframe of generated features (1, 132)\n",
      "DeprecationWarning: `TimeSeries.pd_dataframe()` is deprecated, and will be removed in Darts version 0.35.0. Use `TimeSeries.to_dataframe()` instead\n",
      "/var/folders/kt/yzrbp9yd45q1_4dbfnz81sqm0000gn/T/ipykernel_30676/3084242449.py:35: UserWarning: Using default sampling frequency set in configuration file.\n",
      "  features = tsfel.time_series_features_extractor(cfg, df_window[['signal']], verbose=0) # dataframe of generated features (1, 132)\n",
      "DeprecationWarning: `TimeSeries.pd_dataframe()` is deprecated, and will be removed in Darts version 0.35.0. Use `TimeSeries.to_dataframe()` instead\n",
      "/var/folders/kt/yzrbp9yd45q1_4dbfnz81sqm0000gn/T/ipykernel_30676/3084242449.py:35: UserWarning: Using default sampling frequency set in configuration file.\n",
      "  features = tsfel.time_series_features_extractor(cfg, df_window[['signal']], verbose=0) # dataframe of generated features (1, 132)\n",
      "DeprecationWarning: `TimeSeries.pd_dataframe()` is deprecated, and will be removed in Darts version 0.35.0. Use `TimeSeries.to_dataframe()` instead\n",
      "/var/folders/kt/yzrbp9yd45q1_4dbfnz81sqm0000gn/T/ipykernel_30676/3084242449.py:35: UserWarning: Using default sampling frequency set in configuration file.\n",
      "  features = tsfel.time_series_features_extractor(cfg, df_window[['signal']], verbose=0) # dataframe of generated features (1, 132)\n",
      "DeprecationWarning: `TimeSeries.pd_dataframe()` is deprecated, and will be removed in Darts version 0.35.0. Use `TimeSeries.to_dataframe()` instead\n",
      "/var/folders/kt/yzrbp9yd45q1_4dbfnz81sqm0000gn/T/ipykernel_30676/3084242449.py:35: UserWarning: Using default sampling frequency set in configuration file.\n",
      "  features = tsfel.time_series_features_extractor(cfg, df_window[['signal']], verbose=0) # dataframe of generated features (1, 132)\n",
      "DeprecationWarning: `TimeSeries.pd_dataframe()` is deprecated, and will be removed in Darts version 0.35.0. Use `TimeSeries.to_dataframe()` instead\n",
      "/var/folders/kt/yzrbp9yd45q1_4dbfnz81sqm0000gn/T/ipykernel_30676/3084242449.py:35: UserWarning: Using default sampling frequency set in configuration file.\n",
      "  features = tsfel.time_series_features_extractor(cfg, df_window[['signal']], verbose=0) # dataframe of generated features (1, 132)\n",
      "DeprecationWarning: `TimeSeries.pd_dataframe()` is deprecated, and will be removed in Darts version 0.35.0. Use `TimeSeries.to_dataframe()` instead\n",
      "/var/folders/kt/yzrbp9yd45q1_4dbfnz81sqm0000gn/T/ipykernel_30676/3084242449.py:35: UserWarning: Using default sampling frequency set in configuration file.\n",
      "  features = tsfel.time_series_features_extractor(cfg, df_window[['signal']], verbose=0) # dataframe of generated features (1, 132)\n",
      "DeprecationWarning: `TimeSeries.pd_dataframe()` is deprecated, and will be removed in Darts version 0.35.0. Use `TimeSeries.to_dataframe()` instead\n",
      "/var/folders/kt/yzrbp9yd45q1_4dbfnz81sqm0000gn/T/ipykernel_30676/3084242449.py:35: UserWarning: Using default sampling frequency set in configuration file.\n",
      "  features = tsfel.time_series_features_extractor(cfg, df_window[['signal']], verbose=0) # dataframe of generated features (1, 132)\n",
      "DeprecationWarning: `TimeSeries.pd_dataframe()` is deprecated, and will be removed in Darts version 0.35.0. Use `TimeSeries.to_dataframe()` instead\n",
      "/var/folders/kt/yzrbp9yd45q1_4dbfnz81sqm0000gn/T/ipykernel_30676/3084242449.py:35: UserWarning: Using default sampling frequency set in configuration file.\n",
      "  features = tsfel.time_series_features_extractor(cfg, df_window[['signal']], verbose=0) # dataframe of generated features (1, 132)\n",
      "DeprecationWarning: `TimeSeries.pd_dataframe()` is deprecated, and will be removed in Darts version 0.35.0. Use `TimeSeries.to_dataframe()` instead\n",
      "/var/folders/kt/yzrbp9yd45q1_4dbfnz81sqm0000gn/T/ipykernel_30676/3084242449.py:35: UserWarning: Using default sampling frequency set in configuration file.\n",
      "  features = tsfel.time_series_features_extractor(cfg, df_window[['signal']], verbose=0) # dataframe of generated features (1, 132)\n",
      "DeprecationWarning: `TimeSeries.pd_dataframe()` is deprecated, and will be removed in Darts version 0.35.0. Use `TimeSeries.to_dataframe()` instead\n",
      "/var/folders/kt/yzrbp9yd45q1_4dbfnz81sqm0000gn/T/ipykernel_30676/3084242449.py:35: UserWarning: Using default sampling frequency set in configuration file.\n",
      "  features = tsfel.time_series_features_extractor(cfg, df_window[['signal']], verbose=0) # dataframe of generated features (1, 132)\n",
      "DeprecationWarning: `TimeSeries.pd_dataframe()` is deprecated, and will be removed in Darts version 0.35.0. Use `TimeSeries.to_dataframe()` instead\n",
      "/var/folders/kt/yzrbp9yd45q1_4dbfnz81sqm0000gn/T/ipykernel_30676/3084242449.py:35: UserWarning: Using default sampling frequency set in configuration file.\n",
      "  features = tsfel.time_series_features_extractor(cfg, df_window[['signal']], verbose=0) # dataframe of generated features (1, 132)\n",
      "DeprecationWarning: `TimeSeries.pd_dataframe()` is deprecated, and will be removed in Darts version 0.35.0. Use `TimeSeries.to_dataframe()` instead\n",
      "/var/folders/kt/yzrbp9yd45q1_4dbfnz81sqm0000gn/T/ipykernel_30676/3084242449.py:35: UserWarning: Using default sampling frequency set in configuration file.\n",
      "  features = tsfel.time_series_features_extractor(cfg, df_window[['signal']], verbose=0) # dataframe of generated features (1, 132)\n",
      "DeprecationWarning: `TimeSeries.pd_dataframe()` is deprecated, and will be removed in Darts version 0.35.0. Use `TimeSeries.to_dataframe()` instead\n",
      "/var/folders/kt/yzrbp9yd45q1_4dbfnz81sqm0000gn/T/ipykernel_30676/3084242449.py:35: UserWarning: Using default sampling frequency set in configuration file.\n",
      "  features = tsfel.time_series_features_extractor(cfg, df_window[['signal']], verbose=0) # dataframe of generated features (1, 132)\n",
      "DeprecationWarning: `TimeSeries.pd_dataframe()` is deprecated, and will be removed in Darts version 0.35.0. Use `TimeSeries.to_dataframe()` instead\n",
      "/var/folders/kt/yzrbp9yd45q1_4dbfnz81sqm0000gn/T/ipykernel_30676/3084242449.py:35: UserWarning: Using default sampling frequency set in configuration file.\n",
      "  features = tsfel.time_series_features_extractor(cfg, df_window[['signal']], verbose=0) # dataframe of generated features (1, 132)\n",
      "DeprecationWarning: `TimeSeries.pd_dataframe()` is deprecated, and will be removed in Darts version 0.35.0. Use `TimeSeries.to_dataframe()` instead\n",
      "/var/folders/kt/yzrbp9yd45q1_4dbfnz81sqm0000gn/T/ipykernel_30676/3084242449.py:35: UserWarning: Using default sampling frequency set in configuration file.\n",
      "  features = tsfel.time_series_features_extractor(cfg, df_window[['signal']], verbose=0) # dataframe of generated features (1, 132)\n",
      "DeprecationWarning: `TimeSeries.pd_dataframe()` is deprecated, and will be removed in Darts version 0.35.0. Use `TimeSeries.to_dataframe()` instead\n",
      "/var/folders/kt/yzrbp9yd45q1_4dbfnz81sqm0000gn/T/ipykernel_30676/3084242449.py:35: UserWarning: Using default sampling frequency set in configuration file.\n",
      "  features = tsfel.time_series_features_extractor(cfg, df_window[['signal']], verbose=0) # dataframe of generated features (1, 132)\n",
      "DeprecationWarning: `TimeSeries.pd_dataframe()` is deprecated, and will be removed in Darts version 0.35.0. Use `TimeSeries.to_dataframe()` instead\n",
      "/var/folders/kt/yzrbp9yd45q1_4dbfnz81sqm0000gn/T/ipykernel_30676/3084242449.py:35: UserWarning: Using default sampling frequency set in configuration file.\n",
      "  features = tsfel.time_series_features_extractor(cfg, df_window[['signal']], verbose=0) # dataframe of generated features (1, 132)\n",
      "DeprecationWarning: `TimeSeries.pd_dataframe()` is deprecated, and will be removed in Darts version 0.35.0. Use `TimeSeries.to_dataframe()` instead\n",
      "/var/folders/kt/yzrbp9yd45q1_4dbfnz81sqm0000gn/T/ipykernel_30676/3084242449.py:35: UserWarning: Using default sampling frequency set in configuration file.\n",
      "  features = tsfel.time_series_features_extractor(cfg, df_window[['signal']], verbose=0) # dataframe of generated features (1, 132)\n",
      "DeprecationWarning: `TimeSeries.pd_dataframe()` is deprecated, and will be removed in Darts version 0.35.0. Use `TimeSeries.to_dataframe()` instead\n",
      "/var/folders/kt/yzrbp9yd45q1_4dbfnz81sqm0000gn/T/ipykernel_30676/3084242449.py:35: UserWarning: Using default sampling frequency set in configuration file.\n",
      "  features = tsfel.time_series_features_extractor(cfg, df_window[['signal']], verbose=0) # dataframe of generated features (1, 132)\n",
      "DeprecationWarning: `TimeSeries.pd_dataframe()` is deprecated, and will be removed in Darts version 0.35.0. Use `TimeSeries.to_dataframe()` instead\n",
      "/var/folders/kt/yzrbp9yd45q1_4dbfnz81sqm0000gn/T/ipykernel_30676/3084242449.py:35: UserWarning: Using default sampling frequency set in configuration file.\n",
      "  features = tsfel.time_series_features_extractor(cfg, df_window[['signal']], verbose=0) # dataframe of generated features (1, 132)\n",
      "DeprecationWarning: `TimeSeries.pd_dataframe()` is deprecated, and will be removed in Darts version 0.35.0. Use `TimeSeries.to_dataframe()` instead\n",
      "/var/folders/kt/yzrbp9yd45q1_4dbfnz81sqm0000gn/T/ipykernel_30676/3084242449.py:35: UserWarning: Using default sampling frequency set in configuration file.\n",
      "  features = tsfel.time_series_features_extractor(cfg, df_window[['signal']], verbose=0) # dataframe of generated features (1, 132)\n",
      "DeprecationWarning: `TimeSeries.pd_dataframe()` is deprecated, and will be removed in Darts version 0.35.0. Use `TimeSeries.to_dataframe()` instead\n",
      "/var/folders/kt/yzrbp9yd45q1_4dbfnz81sqm0000gn/T/ipykernel_30676/3084242449.py:35: UserWarning: Using default sampling frequency set in configuration file.\n",
      "  features = tsfel.time_series_features_extractor(cfg, df_window[['signal']], verbose=0) # dataframe of generated features (1, 132)\n",
      "DeprecationWarning: `TimeSeries.pd_dataframe()` is deprecated, and will be removed in Darts version 0.35.0. Use `TimeSeries.to_dataframe()` instead\n",
      "/var/folders/kt/yzrbp9yd45q1_4dbfnz81sqm0000gn/T/ipykernel_30676/3084242449.py:35: UserWarning: Using default sampling frequency set in configuration file.\n",
      "  features = tsfel.time_series_features_extractor(cfg, df_window[['signal']], verbose=0) # dataframe of generated features (1, 132)\n",
      "DeprecationWarning: `TimeSeries.pd_dataframe()` is deprecated, and will be removed in Darts version 0.35.0. Use `TimeSeries.to_dataframe()` instead\n",
      "/var/folders/kt/yzrbp9yd45q1_4dbfnz81sqm0000gn/T/ipykernel_30676/3084242449.py:35: UserWarning: Using default sampling frequency set in configuration file.\n",
      "  features = tsfel.time_series_features_extractor(cfg, df_window[['signal']], verbose=0) # dataframe of generated features (1, 132)\n",
      "DeprecationWarning: `TimeSeries.pd_dataframe()` is deprecated, and will be removed in Darts version 0.35.0. Use `TimeSeries.to_dataframe()` instead\n",
      "/var/folders/kt/yzrbp9yd45q1_4dbfnz81sqm0000gn/T/ipykernel_30676/3084242449.py:35: UserWarning: Using default sampling frequency set in configuration file.\n",
      "  features = tsfel.time_series_features_extractor(cfg, df_window[['signal']], verbose=0) # dataframe of generated features (1, 132)\n",
      "DeprecationWarning: `TimeSeries.pd_dataframe()` is deprecated, and will be removed in Darts version 0.35.0. Use `TimeSeries.to_dataframe()` instead\n",
      "/var/folders/kt/yzrbp9yd45q1_4dbfnz81sqm0000gn/T/ipykernel_30676/3084242449.py:35: UserWarning: Using default sampling frequency set in configuration file.\n",
      "  features = tsfel.time_series_features_extractor(cfg, df_window[['signal']], verbose=0) # dataframe of generated features (1, 132)\n",
      "DeprecationWarning: `TimeSeries.pd_dataframe()` is deprecated, and will be removed in Darts version 0.35.0. Use `TimeSeries.to_dataframe()` instead\n",
      "/var/folders/kt/yzrbp9yd45q1_4dbfnz81sqm0000gn/T/ipykernel_30676/3084242449.py:35: UserWarning: Using default sampling frequency set in configuration file.\n",
      "  features = tsfel.time_series_features_extractor(cfg, df_window[['signal']], verbose=0) # dataframe of generated features (1, 132)\n",
      "DeprecationWarning: `TimeSeries.pd_dataframe()` is deprecated, and will be removed in Darts version 0.35.0. Use `TimeSeries.to_dataframe()` instead\n",
      "/var/folders/kt/yzrbp9yd45q1_4dbfnz81sqm0000gn/T/ipykernel_30676/3084242449.py:35: UserWarning: Using default sampling frequency set in configuration file.\n",
      "  features = tsfel.time_series_features_extractor(cfg, df_window[['signal']], verbose=0) # dataframe of generated features (1, 132)\n",
      "DeprecationWarning: `TimeSeries.pd_dataframe()` is deprecated, and will be removed in Darts version 0.35.0. Use `TimeSeries.to_dataframe()` instead\n",
      "/var/folders/kt/yzrbp9yd45q1_4dbfnz81sqm0000gn/T/ipykernel_30676/3084242449.py:35: UserWarning: Using default sampling frequency set in configuration file.\n",
      "  features = tsfel.time_series_features_extractor(cfg, df_window[['signal']], verbose=0) # dataframe of generated features (1, 132)\n",
      "DeprecationWarning: `TimeSeries.pd_dataframe()` is deprecated, and will be removed in Darts version 0.35.0. Use `TimeSeries.to_dataframe()` instead\n",
      "/var/folders/kt/yzrbp9yd45q1_4dbfnz81sqm0000gn/T/ipykernel_30676/3084242449.py:35: UserWarning: Using default sampling frequency set in configuration file.\n",
      "  features = tsfel.time_series_features_extractor(cfg, df_window[['signal']], verbose=0) # dataframe of generated features (1, 132)\n",
      "DeprecationWarning: `TimeSeries.pd_dataframe()` is deprecated, and will be removed in Darts version 0.35.0. Use `TimeSeries.to_dataframe()` instead\n",
      "/var/folders/kt/yzrbp9yd45q1_4dbfnz81sqm0000gn/T/ipykernel_30676/3084242449.py:35: UserWarning: Using default sampling frequency set in configuration file.\n",
      "  features = tsfel.time_series_features_extractor(cfg, df_window[['signal']], verbose=0) # dataframe of generated features (1, 132)\n",
      "DeprecationWarning: `TimeSeries.pd_dataframe()` is deprecated, and will be removed in Darts version 0.35.0. Use `TimeSeries.to_dataframe()` instead\n",
      "/var/folders/kt/yzrbp9yd45q1_4dbfnz81sqm0000gn/T/ipykernel_30676/3084242449.py:35: UserWarning: Using default sampling frequency set in configuration file.\n",
      "  features = tsfel.time_series_features_extractor(cfg, df_window[['signal']], verbose=0) # dataframe of generated features (1, 132)\n",
      "DeprecationWarning: `TimeSeries.pd_dataframe()` is deprecated, and will be removed in Darts version 0.35.0. Use `TimeSeries.to_dataframe()` instead\n",
      "/var/folders/kt/yzrbp9yd45q1_4dbfnz81sqm0000gn/T/ipykernel_30676/3084242449.py:35: UserWarning: Using default sampling frequency set in configuration file.\n",
      "  features = tsfel.time_series_features_extractor(cfg, df_window[['signal']], verbose=0) # dataframe of generated features (1, 132)\n",
      "DeprecationWarning: `TimeSeries.pd_dataframe()` is deprecated, and will be removed in Darts version 0.35.0. Use `TimeSeries.to_dataframe()` instead\n",
      "/var/folders/kt/yzrbp9yd45q1_4dbfnz81sqm0000gn/T/ipykernel_30676/3084242449.py:35: UserWarning: Using default sampling frequency set in configuration file.\n",
      "  features = tsfel.time_series_features_extractor(cfg, df_window[['signal']], verbose=0) # dataframe of generated features (1, 132)\n",
      "DeprecationWarning: `TimeSeries.pd_dataframe()` is deprecated, and will be removed in Darts version 0.35.0. Use `TimeSeries.to_dataframe()` instead\n",
      "/var/folders/kt/yzrbp9yd45q1_4dbfnz81sqm0000gn/T/ipykernel_30676/3084242449.py:35: UserWarning: Using default sampling frequency set in configuration file.\n",
      "  features = tsfel.time_series_features_extractor(cfg, df_window[['signal']], verbose=0) # dataframe of generated features (1, 132)\n",
      "DeprecationWarning: `TimeSeries.pd_dataframe()` is deprecated, and will be removed in Darts version 0.35.0. Use `TimeSeries.to_dataframe()` instead\n",
      "/var/folders/kt/yzrbp9yd45q1_4dbfnz81sqm0000gn/T/ipykernel_30676/3084242449.py:35: UserWarning: Using default sampling frequency set in configuration file.\n",
      "  features = tsfel.time_series_features_extractor(cfg, df_window[['signal']], verbose=0) # dataframe of generated features (1, 132)\n",
      "DeprecationWarning: `TimeSeries.pd_dataframe()` is deprecated, and will be removed in Darts version 0.35.0. Use `TimeSeries.to_dataframe()` instead\n",
      "/var/folders/kt/yzrbp9yd45q1_4dbfnz81sqm0000gn/T/ipykernel_30676/3084242449.py:35: UserWarning: Using default sampling frequency set in configuration file.\n",
      "  features = tsfel.time_series_features_extractor(cfg, df_window[['signal']], verbose=0) # dataframe of generated features (1, 132)\n",
      "DeprecationWarning: `TimeSeries.pd_dataframe()` is deprecated, and will be removed in Darts version 0.35.0. Use `TimeSeries.to_dataframe()` instead\n",
      "/var/folders/kt/yzrbp9yd45q1_4dbfnz81sqm0000gn/T/ipykernel_30676/3084242449.py:35: UserWarning: Using default sampling frequency set in configuration file.\n",
      "  features = tsfel.time_series_features_extractor(cfg, df_window[['signal']], verbose=0) # dataframe of generated features (1, 132)\n",
      "DeprecationWarning: `TimeSeries.pd_dataframe()` is deprecated, and will be removed in Darts version 0.35.0. Use `TimeSeries.to_dataframe()` instead\n",
      "/var/folders/kt/yzrbp9yd45q1_4dbfnz81sqm0000gn/T/ipykernel_30676/3084242449.py:35: UserWarning: Using default sampling frequency set in configuration file.\n",
      "  features = tsfel.time_series_features_extractor(cfg, df_window[['signal']], verbose=0) # dataframe of generated features (1, 132)\n",
      "DeprecationWarning: `TimeSeries.pd_dataframe()` is deprecated, and will be removed in Darts version 0.35.0. Use `TimeSeries.to_dataframe()` instead\n",
      "/var/folders/kt/yzrbp9yd45q1_4dbfnz81sqm0000gn/T/ipykernel_30676/3084242449.py:35: UserWarning: Using default sampling frequency set in configuration file.\n",
      "  features = tsfel.time_series_features_extractor(cfg, df_window[['signal']], verbose=0) # dataframe of generated features (1, 132)\n",
      "DeprecationWarning: `TimeSeries.pd_dataframe()` is deprecated, and will be removed in Darts version 0.35.0. Use `TimeSeries.to_dataframe()` instead\n",
      "/var/folders/kt/yzrbp9yd45q1_4dbfnz81sqm0000gn/T/ipykernel_30676/3084242449.py:35: UserWarning: Using default sampling frequency set in configuration file.\n",
      "  features = tsfel.time_series_features_extractor(cfg, df_window[['signal']], verbose=0) # dataframe of generated features (1, 132)\n",
      "DeprecationWarning: `TimeSeries.pd_dataframe()` is deprecated, and will be removed in Darts version 0.35.0. Use `TimeSeries.to_dataframe()` instead\n",
      "/var/folders/kt/yzrbp9yd45q1_4dbfnz81sqm0000gn/T/ipykernel_30676/3084242449.py:35: UserWarning: Using default sampling frequency set in configuration file.\n",
      "  features = tsfel.time_series_features_extractor(cfg, df_window[['signal']], verbose=0) # dataframe of generated features (1, 132)\n",
      "DeprecationWarning: `TimeSeries.pd_dataframe()` is deprecated, and will be removed in Darts version 0.35.0. Use `TimeSeries.to_dataframe()` instead\n",
      "/var/folders/kt/yzrbp9yd45q1_4dbfnz81sqm0000gn/T/ipykernel_30676/3084242449.py:35: UserWarning: Using default sampling frequency set in configuration file.\n",
      "  features = tsfel.time_series_features_extractor(cfg, df_window[['signal']], verbose=0) # dataframe of generated features (1, 132)\n",
      "DeprecationWarning: `TimeSeries.pd_dataframe()` is deprecated, and will be removed in Darts version 0.35.0. Use `TimeSeries.to_dataframe()` instead\n",
      "/var/folders/kt/yzrbp9yd45q1_4dbfnz81sqm0000gn/T/ipykernel_30676/3084242449.py:35: UserWarning: Using default sampling frequency set in configuration file.\n",
      "  features = tsfel.time_series_features_extractor(cfg, df_window[['signal']], verbose=0) # dataframe of generated features (1, 132)\n",
      "DeprecationWarning: `TimeSeries.pd_dataframe()` is deprecated, and will be removed in Darts version 0.35.0. Use `TimeSeries.to_dataframe()` instead\n",
      "/var/folders/kt/yzrbp9yd45q1_4dbfnz81sqm0000gn/T/ipykernel_30676/3084242449.py:35: UserWarning: Using default sampling frequency set in configuration file.\n",
      "  features = tsfel.time_series_features_extractor(cfg, df_window[['signal']], verbose=0) # dataframe of generated features (1, 132)\n",
      "DeprecationWarning: `TimeSeries.pd_dataframe()` is deprecated, and will be removed in Darts version 0.35.0. Use `TimeSeries.to_dataframe()` instead\n",
      "/var/folders/kt/yzrbp9yd45q1_4dbfnz81sqm0000gn/T/ipykernel_30676/3084242449.py:35: UserWarning: Using default sampling frequency set in configuration file.\n",
      "  features = tsfel.time_series_features_extractor(cfg, df_window[['signal']], verbose=0) # dataframe of generated features (1, 132)\n",
      "DeprecationWarning: `TimeSeries.pd_dataframe()` is deprecated, and will be removed in Darts version 0.35.0. Use `TimeSeries.to_dataframe()` instead\n",
      "/var/folders/kt/yzrbp9yd45q1_4dbfnz81sqm0000gn/T/ipykernel_30676/3084242449.py:35: UserWarning: Using default sampling frequency set in configuration file.\n",
      "  features = tsfel.time_series_features_extractor(cfg, df_window[['signal']], verbose=0) # dataframe of generated features (1, 132)\n",
      "DeprecationWarning: `TimeSeries.pd_dataframe()` is deprecated, and will be removed in Darts version 0.35.0. Use `TimeSeries.to_dataframe()` instead\n",
      "/var/folders/kt/yzrbp9yd45q1_4dbfnz81sqm0000gn/T/ipykernel_30676/3084242449.py:35: UserWarning: Using default sampling frequency set in configuration file.\n",
      "  features = tsfel.time_series_features_extractor(cfg, df_window[['signal']], verbose=0) # dataframe of generated features (1, 132)\n",
      "DeprecationWarning: `TimeSeries.pd_dataframe()` is deprecated, and will be removed in Darts version 0.35.0. Use `TimeSeries.to_dataframe()` instead\n",
      "/var/folders/kt/yzrbp9yd45q1_4dbfnz81sqm0000gn/T/ipykernel_30676/3084242449.py:35: UserWarning: Using default sampling frequency set in configuration file.\n",
      "  features = tsfel.time_series_features_extractor(cfg, df_window[['signal']], verbose=0) # dataframe of generated features (1, 132)\n",
      "DeprecationWarning: `TimeSeries.pd_dataframe()` is deprecated, and will be removed in Darts version 0.35.0. Use `TimeSeries.to_dataframe()` instead\n",
      "/var/folders/kt/yzrbp9yd45q1_4dbfnz81sqm0000gn/T/ipykernel_30676/3084242449.py:35: UserWarning: Using default sampling frequency set in configuration file.\n",
      "  features = tsfel.time_series_features_extractor(cfg, df_window[['signal']], verbose=0) # dataframe of generated features (1, 132)\n",
      "DeprecationWarning: `TimeSeries.pd_dataframe()` is deprecated, and will be removed in Darts version 0.35.0. Use `TimeSeries.to_dataframe()` instead\n",
      "/var/folders/kt/yzrbp9yd45q1_4dbfnz81sqm0000gn/T/ipykernel_30676/3084242449.py:35: UserWarning: Using default sampling frequency set in configuration file.\n",
      "  features = tsfel.time_series_features_extractor(cfg, df_window[['signal']], verbose=0) # dataframe of generated features (1, 132)\n",
      "DeprecationWarning: `TimeSeries.pd_dataframe()` is deprecated, and will be removed in Darts version 0.35.0. Use `TimeSeries.to_dataframe()` instead\n",
      "/var/folders/kt/yzrbp9yd45q1_4dbfnz81sqm0000gn/T/ipykernel_30676/3084242449.py:35: UserWarning: Using default sampling frequency set in configuration file.\n",
      "  features = tsfel.time_series_features_extractor(cfg, df_window[['signal']], verbose=0) # dataframe of generated features (1, 132)\n",
      "DeprecationWarning: `TimeSeries.pd_dataframe()` is deprecated, and will be removed in Darts version 0.35.0. Use `TimeSeries.to_dataframe()` instead\n",
      "/var/folders/kt/yzrbp9yd45q1_4dbfnz81sqm0000gn/T/ipykernel_30676/3084242449.py:35: UserWarning: Using default sampling frequency set in configuration file.\n",
      "  features = tsfel.time_series_features_extractor(cfg, df_window[['signal']], verbose=0) # dataframe of generated features (1, 132)\n",
      "DeprecationWarning: `TimeSeries.pd_dataframe()` is deprecated, and will be removed in Darts version 0.35.0. Use `TimeSeries.to_dataframe()` instead\n",
      "/var/folders/kt/yzrbp9yd45q1_4dbfnz81sqm0000gn/T/ipykernel_30676/3084242449.py:35: UserWarning: Using default sampling frequency set in configuration file.\n",
      "  features = tsfel.time_series_features_extractor(cfg, df_window[['signal']], verbose=0) # dataframe of generated features (1, 132)\n",
      "DeprecationWarning: `TimeSeries.pd_dataframe()` is deprecated, and will be removed in Darts version 0.35.0. Use `TimeSeries.to_dataframe()` instead\n",
      "/var/folders/kt/yzrbp9yd45q1_4dbfnz81sqm0000gn/T/ipykernel_30676/3084242449.py:35: UserWarning: Using default sampling frequency set in configuration file.\n",
      "  features = tsfel.time_series_features_extractor(cfg, df_window[['signal']], verbose=0) # dataframe of generated features (1, 132)\n",
      "DeprecationWarning: `TimeSeries.pd_dataframe()` is deprecated, and will be removed in Darts version 0.35.0. Use `TimeSeries.to_dataframe()` instead\n",
      "/var/folders/kt/yzrbp9yd45q1_4dbfnz81sqm0000gn/T/ipykernel_30676/3084242449.py:35: UserWarning: Using default sampling frequency set in configuration file.\n",
      "  features = tsfel.time_series_features_extractor(cfg, df_window[['signal']], verbose=0) # dataframe of generated features (1, 132)\n",
      "DeprecationWarning: `TimeSeries.pd_dataframe()` is deprecated, and will be removed in Darts version 0.35.0. Use `TimeSeries.to_dataframe()` instead\n",
      "/var/folders/kt/yzrbp9yd45q1_4dbfnz81sqm0000gn/T/ipykernel_30676/3084242449.py:35: UserWarning: Using default sampling frequency set in configuration file.\n",
      "  features = tsfel.time_series_features_extractor(cfg, df_window[['signal']], verbose=0) # dataframe of generated features (1, 132)\n",
      "DeprecationWarning: `TimeSeries.pd_dataframe()` is deprecated, and will be removed in Darts version 0.35.0. Use `TimeSeries.to_dataframe()` instead\n",
      "/var/folders/kt/yzrbp9yd45q1_4dbfnz81sqm0000gn/T/ipykernel_30676/3084242449.py:35: UserWarning: Using default sampling frequency set in configuration file.\n",
      "  features = tsfel.time_series_features_extractor(cfg, df_window[['signal']], verbose=0) # dataframe of generated features (1, 132)\n",
      "DeprecationWarning: `TimeSeries.pd_dataframe()` is deprecated, and will be removed in Darts version 0.35.0. Use `TimeSeries.to_dataframe()` instead\n",
      "/var/folders/kt/yzrbp9yd45q1_4dbfnz81sqm0000gn/T/ipykernel_30676/3084242449.py:35: UserWarning: Using default sampling frequency set in configuration file.\n",
      "  features = tsfel.time_series_features_extractor(cfg, df_window[['signal']], verbose=0) # dataframe of generated features (1, 132)\n",
      "DeprecationWarning: `TimeSeries.pd_dataframe()` is deprecated, and will be removed in Darts version 0.35.0. Use `TimeSeries.to_dataframe()` instead\n",
      "/var/folders/kt/yzrbp9yd45q1_4dbfnz81sqm0000gn/T/ipykernel_30676/3084242449.py:35: UserWarning: Using default sampling frequency set in configuration file.\n",
      "  features = tsfel.time_series_features_extractor(cfg, df_window[['signal']], verbose=0) # dataframe of generated features (1, 132)\n",
      "DeprecationWarning: `TimeSeries.pd_dataframe()` is deprecated, and will be removed in Darts version 0.35.0. Use `TimeSeries.to_dataframe()` instead\n",
      "/var/folders/kt/yzrbp9yd45q1_4dbfnz81sqm0000gn/T/ipykernel_30676/3084242449.py:35: UserWarning: Using default sampling frequency set in configuration file.\n",
      "  features = tsfel.time_series_features_extractor(cfg, df_window[['signal']], verbose=0) # dataframe of generated features (1, 132)\n",
      "DeprecationWarning: `TimeSeries.pd_dataframe()` is deprecated, and will be removed in Darts version 0.35.0. Use `TimeSeries.to_dataframe()` instead\n",
      "/var/folders/kt/yzrbp9yd45q1_4dbfnz81sqm0000gn/T/ipykernel_30676/3084242449.py:35: UserWarning: Using default sampling frequency set in configuration file.\n",
      "  features = tsfel.time_series_features_extractor(cfg, df_window[['signal']], verbose=0) # dataframe of generated features (1, 132)\n",
      "DeprecationWarning: `TimeSeries.pd_dataframe()` is deprecated, and will be removed in Darts version 0.35.0. Use `TimeSeries.to_dataframe()` instead\n",
      "/var/folders/kt/yzrbp9yd45q1_4dbfnz81sqm0000gn/T/ipykernel_30676/3084242449.py:35: UserWarning: Using default sampling frequency set in configuration file.\n",
      "  features = tsfel.time_series_features_extractor(cfg, df_window[['signal']], verbose=0) # dataframe of generated features (1, 132)\n",
      "DeprecationWarning: `TimeSeries.pd_dataframe()` is deprecated, and will be removed in Darts version 0.35.0. Use `TimeSeries.to_dataframe()` instead\n",
      "/var/folders/kt/yzrbp9yd45q1_4dbfnz81sqm0000gn/T/ipykernel_30676/3084242449.py:35: UserWarning: Using default sampling frequency set in configuration file.\n",
      "  features = tsfel.time_series_features_extractor(cfg, df_window[['signal']], verbose=0) # dataframe of generated features (1, 132)\n",
      "DeprecationWarning: `TimeSeries.pd_dataframe()` is deprecated, and will be removed in Darts version 0.35.0. Use `TimeSeries.to_dataframe()` instead\n",
      "/var/folders/kt/yzrbp9yd45q1_4dbfnz81sqm0000gn/T/ipykernel_30676/3084242449.py:35: UserWarning: Using default sampling frequency set in configuration file.\n",
      "  features = tsfel.time_series_features_extractor(cfg, df_window[['signal']], verbose=0) # dataframe of generated features (1, 132)\n",
      "DeprecationWarning: `TimeSeries.pd_dataframe()` is deprecated, and will be removed in Darts version 0.35.0. Use `TimeSeries.to_dataframe()` instead\n",
      "/var/folders/kt/yzrbp9yd45q1_4dbfnz81sqm0000gn/T/ipykernel_30676/3084242449.py:35: UserWarning: Using default sampling frequency set in configuration file.\n",
      "  features = tsfel.time_series_features_extractor(cfg, df_window[['signal']], verbose=0) # dataframe of generated features (1, 132)\n",
      "DeprecationWarning: `TimeSeries.pd_dataframe()` is deprecated, and will be removed in Darts version 0.35.0. Use `TimeSeries.to_dataframe()` instead\n",
      "/var/folders/kt/yzrbp9yd45q1_4dbfnz81sqm0000gn/T/ipykernel_30676/3084242449.py:35: UserWarning: Using default sampling frequency set in configuration file.\n",
      "  features = tsfel.time_series_features_extractor(cfg, df_window[['signal']], verbose=0) # dataframe of generated features (1, 132)\n",
      "DeprecationWarning: `TimeSeries.pd_dataframe()` is deprecated, and will be removed in Darts version 0.35.0. Use `TimeSeries.to_dataframe()` instead\n",
      "/var/folders/kt/yzrbp9yd45q1_4dbfnz81sqm0000gn/T/ipykernel_30676/3084242449.py:35: UserWarning: Using default sampling frequency set in configuration file.\n",
      "  features = tsfel.time_series_features_extractor(cfg, df_window[['signal']], verbose=0) # dataframe of generated features (1, 132)\n",
      "DeprecationWarning: `TimeSeries.pd_dataframe()` is deprecated, and will be removed in Darts version 0.35.0. Use `TimeSeries.to_dataframe()` instead\n",
      "/var/folders/kt/yzrbp9yd45q1_4dbfnz81sqm0000gn/T/ipykernel_30676/3084242449.py:35: UserWarning: Using default sampling frequency set in configuration file.\n",
      "  features = tsfel.time_series_features_extractor(cfg, df_window[['signal']], verbose=0) # dataframe of generated features (1, 132)\n",
      "DeprecationWarning: `TimeSeries.pd_dataframe()` is deprecated, and will be removed in Darts version 0.35.0. Use `TimeSeries.to_dataframe()` instead\n",
      "/var/folders/kt/yzrbp9yd45q1_4dbfnz81sqm0000gn/T/ipykernel_30676/3084242449.py:35: UserWarning: Using default sampling frequency set in configuration file.\n",
      "  features = tsfel.time_series_features_extractor(cfg, df_window[['signal']], verbose=0) # dataframe of generated features (1, 132)\n",
      "DeprecationWarning: `TimeSeries.pd_dataframe()` is deprecated, and will be removed in Darts version 0.35.0. Use `TimeSeries.to_dataframe()` instead\n",
      "/var/folders/kt/yzrbp9yd45q1_4dbfnz81sqm0000gn/T/ipykernel_30676/3084242449.py:35: UserWarning: Using default sampling frequency set in configuration file.\n",
      "  features = tsfel.time_series_features_extractor(cfg, df_window[['signal']], verbose=0) # dataframe of generated features (1, 132)\n",
      "DeprecationWarning: `TimeSeries.pd_dataframe()` is deprecated, and will be removed in Darts version 0.35.0. Use `TimeSeries.to_dataframe()` instead\n",
      "/var/folders/kt/yzrbp9yd45q1_4dbfnz81sqm0000gn/T/ipykernel_30676/3084242449.py:35: UserWarning: Using default sampling frequency set in configuration file.\n",
      "  features = tsfel.time_series_features_extractor(cfg, df_window[['signal']], verbose=0) # dataframe of generated features (1, 132)\n",
      "DeprecationWarning: `TimeSeries.pd_dataframe()` is deprecated, and will be removed in Darts version 0.35.0. Use `TimeSeries.to_dataframe()` instead\n",
      "/var/folders/kt/yzrbp9yd45q1_4dbfnz81sqm0000gn/T/ipykernel_30676/3084242449.py:35: UserWarning: Using default sampling frequency set in configuration file.\n",
      "  features = tsfel.time_series_features_extractor(cfg, df_window[['signal']], verbose=0) # dataframe of generated features (1, 132)\n",
      "DeprecationWarning: `TimeSeries.pd_dataframe()` is deprecated, and will be removed in Darts version 0.35.0. Use `TimeSeries.to_dataframe()` instead\n",
      "/var/folders/kt/yzrbp9yd45q1_4dbfnz81sqm0000gn/T/ipykernel_30676/3084242449.py:35: UserWarning: Using default sampling frequency set in configuration file.\n",
      "  features = tsfel.time_series_features_extractor(cfg, df_window[['signal']], verbose=0) # dataframe of generated features (1, 132)\n",
      "DeprecationWarning: `TimeSeries.pd_dataframe()` is deprecated, and will be removed in Darts version 0.35.0. Use `TimeSeries.to_dataframe()` instead\n",
      "/var/folders/kt/yzrbp9yd45q1_4dbfnz81sqm0000gn/T/ipykernel_30676/3084242449.py:35: UserWarning: Using default sampling frequency set in configuration file.\n",
      "  features = tsfel.time_series_features_extractor(cfg, df_window[['signal']], verbose=0) # dataframe of generated features (1, 132)\n",
      "DeprecationWarning: `TimeSeries.pd_dataframe()` is deprecated, and will be removed in Darts version 0.35.0. Use `TimeSeries.to_dataframe()` instead\n",
      "/var/folders/kt/yzrbp9yd45q1_4dbfnz81sqm0000gn/T/ipykernel_30676/3084242449.py:35: UserWarning: Using default sampling frequency set in configuration file.\n",
      "  features = tsfel.time_series_features_extractor(cfg, df_window[['signal']], verbose=0) # dataframe of generated features (1, 132)\n",
      "DeprecationWarning: `TimeSeries.pd_dataframe()` is deprecated, and will be removed in Darts version 0.35.0. Use `TimeSeries.to_dataframe()` instead\n",
      "/var/folders/kt/yzrbp9yd45q1_4dbfnz81sqm0000gn/T/ipykernel_30676/3084242449.py:35: UserWarning: Using default sampling frequency set in configuration file.\n",
      "  features = tsfel.time_series_features_extractor(cfg, df_window[['signal']], verbose=0) # dataframe of generated features (1, 132)\n",
      "DeprecationWarning: `TimeSeries.pd_dataframe()` is deprecated, and will be removed in Darts version 0.35.0. Use `TimeSeries.to_dataframe()` instead\n",
      "/var/folders/kt/yzrbp9yd45q1_4dbfnz81sqm0000gn/T/ipykernel_30676/3084242449.py:35: UserWarning: Using default sampling frequency set in configuration file.\n",
      "  features = tsfel.time_series_features_extractor(cfg, df_window[['signal']], verbose=0) # dataframe of generated features (1, 132)\n",
      "DeprecationWarning: `TimeSeries.pd_dataframe()` is deprecated, and will be removed in Darts version 0.35.0. Use `TimeSeries.to_dataframe()` instead\n",
      "/var/folders/kt/yzrbp9yd45q1_4dbfnz81sqm0000gn/T/ipykernel_30676/3084242449.py:35: UserWarning: Using default sampling frequency set in configuration file.\n",
      "  features = tsfel.time_series_features_extractor(cfg, df_window[['signal']], verbose=0) # dataframe of generated features (1, 132)\n",
      "DeprecationWarning: `TimeSeries.pd_dataframe()` is deprecated, and will be removed in Darts version 0.35.0. Use `TimeSeries.to_dataframe()` instead\n",
      "/var/folders/kt/yzrbp9yd45q1_4dbfnz81sqm0000gn/T/ipykernel_30676/3084242449.py:35: UserWarning: Using default sampling frequency set in configuration file.\n",
      "  features = tsfel.time_series_features_extractor(cfg, df_window[['signal']], verbose=0) # dataframe of generated features (1, 132)\n",
      "DeprecationWarning: `TimeSeries.pd_dataframe()` is deprecated, and will be removed in Darts version 0.35.0. Use `TimeSeries.to_dataframe()` instead\n",
      "/var/folders/kt/yzrbp9yd45q1_4dbfnz81sqm0000gn/T/ipykernel_30676/3084242449.py:35: UserWarning: Using default sampling frequency set in configuration file.\n",
      "  features = tsfel.time_series_features_extractor(cfg, df_window[['signal']], verbose=0) # dataframe of generated features (1, 132)\n",
      "DeprecationWarning: `TimeSeries.pd_dataframe()` is deprecated, and will be removed in Darts version 0.35.0. Use `TimeSeries.to_dataframe()` instead\n",
      "/var/folders/kt/yzrbp9yd45q1_4dbfnz81sqm0000gn/T/ipykernel_30676/3084242449.py:35: UserWarning: Using default sampling frequency set in configuration file.\n",
      "  features = tsfel.time_series_features_extractor(cfg, df_window[['signal']], verbose=0) # dataframe of generated features (1, 132)\n",
      "DeprecationWarning: `TimeSeries.pd_dataframe()` is deprecated, and will be removed in Darts version 0.35.0. Use `TimeSeries.to_dataframe()` instead\n",
      "/var/folders/kt/yzrbp9yd45q1_4dbfnz81sqm0000gn/T/ipykernel_30676/3084242449.py:35: UserWarning: Using default sampling frequency set in configuration file.\n",
      "  features = tsfel.time_series_features_extractor(cfg, df_window[['signal']], verbose=0) # dataframe of generated features (1, 132)\n"
     ]
    }
   ],
   "source": [
    "from darts.utils.data import PastCovariatesSequentialDataset\n",
    "import tsfel\n",
    "import pandas as pd\n",
    "from darts import TimeSeries\n",
    "\n",
    "\n",
    "# 1. Setup dataset\n",
    "dataset = PastCovariatesSequentialDataset(\n",
    "    target_series=target_series,\n",
    "    covariates=past_covariates_series,\n",
    "    input_chunk_length=input_chunk_length,\n",
    "    output_chunk_length=output_chunk_length,\n",
    ")\n",
    "\n",
    "# 2. TSFEL config\n",
    "cfg = tsfel.get_features_by_domain()\n",
    "\n",
    "# 3. Extract features from each window in the dataset\n",
    "features_list = []\n",
    "\n",
    "for i, (past_target, _, _, _, tar) in enumerate(dataset):\n",
    "\n",
    "    window_start = target_series.time_index[i]\n",
    "    window_end = target_series.time_index[i + input_chunk_length - 1]\n",
    "    time_index = target_series.time_index[i : i + input_chunk_length]\n",
    "\n",
    "    past_target_ts = TimeSeries.from_times_and_values(\n",
    "        times=time_index,\n",
    "        values=past_target\n",
    "    )\n",
    "\n",
    "    df_window = past_target_ts.pd_dataframe().reset_index().rename(columns={\"0\": \"signal\"}) # dataframe with time and signal columns\n",
    "\n",
    "    # Extract TSFEL features\n",
    "    features = tsfel.time_series_features_extractor(cfg, df_window[['signal']], verbose=0) # dataframe of generated features (1, 132)\n",
    "    \n",
    "    # Tag with timestamp from end of input window\n",
    "    features[\"index\"] = df_window['time']\n",
    "    features_list.append(features)\n",
    "\n",
    "# 4. Assemble into a covariates TimeSeries\n",
    "features_df = pd.concat(features_list).set_index(\"index\").sort_index()\n",
    "tsfel_covariates = TimeSeries.from_dataframe(features_df)\n",
    "\n",
    "# 5. (Optional) Align with the target series if needed\n",
    "common_index = target_series.time_index.intersection(tsfel_covariates.time_index) # 85\n",
    "target_trimmed = target_series.drop_before(common_index[0]).drop_after(common_index[-1]).astype(np.float32)  # 83\n",
    "covariates_trimmed = tsfel_covariates.drop_before(common_index[0]).drop_after(common_index[-1]).astype(np.float32) # 83\n"
   ]
  },
  {
   "cell_type": "markdown",
   "metadata": {},
   "source": [
    "Workflow:\n",
    "1. Create slicing/windowing via PastCovariatesSequentialDataset (85 windows of 12+4 from dataset of length 100: 100-12-4+1=85)\n",
    "2. Generate one set of TSFEL features for each window (132 features)\n",
    "\n",
    "For each window:\n",
    "- Target series: 12 + 4 time stamps\n",
    "- TSFEL covariate: 132 features -- without time stamp\n",
    "\n",
    "Idea:\n",
    "- Compute global features with rolling window -- to make them time-reliant \n",
    "- Treat them as covariate time series (length 85 or 83)\n",
    "- The final training dataset is (83-12-4+1=68)"
   ]
  },
  {
   "cell_type": "code",
   "execution_count": null,
   "metadata": {},
   "outputs": [
    {
     "data": {
      "text/plain": [
       "(1, 132)"
      ]
     },
     "execution_count": 40,
     "metadata": {},
     "output_type": "execute_result"
    }
   ],
   "source": [
    "# len(features_list) # 85\n",
    "# features_list[0].shape  # (1, 132)\n",
    "\n",
    "# features_df.shape   # (85, 131)\n",
    "# tsfel_covariates.shape # (85, 131, 1)\n",
    "\n",
    "# target_series.time_index[0] # 2000-01-02 00:00:00\n",
    "# tsfel_covariates.time_index[0] # 2000-01-02 00:00:00\n",
    "\n",
    "window_past_target, window_past_covariates, _, _, window_future_target = dataset[80]\n",
    "window_past_target.shape # (12,1)\n",
    "tsfel_covariates[0].shape # (1, 131, 1)\n"
   ]
  },
  {
   "cell_type": "code",
   "execution_count": null,
   "metadata": {},
   "outputs": [],
   "source": [
    "tsfel_dataset = PastCovariatesSequentialDataset(\n",
    "    target_series=target_trimmed,            # aligned trimmed target\n",
    "    covariates=covariates_trimmed,           # aligned TSFEL features\n",
    "    input_chunk_length=input_chunk_length,\n",
    "    output_chunk_length=output_chunk_length,\n",
    ")\n"
   ]
  },
  {
   "cell_type": "code",
   "execution_count": null,
   "metadata": {},
   "outputs": [
    {
     "name": "stdout",
     "output_type": "stream",
     "text": [
      "100\n",
      "83\n",
      "68\n"
     ]
    }
   ],
   "source": [
    "print(len(target_series))\n",
    "print(len(target_trimmed))\n",
    "print(len(tsfel_dataset))\n",
    "\n",
    "window_past_target, window_past_covariates, _, _, window_future_target = tsfel_dataset[0]\n",
    "# window_past_target.shape     # (12,1)\n",
    "# window_past_covariates.shape # (12, 131)\n",
    "# window_future_target.shape   # (4,1)"
   ]
  },
  {
   "cell_type": "code",
   "execution_count": 75,
   "metadata": {},
   "outputs": [
    {
     "name": "stderr",
     "output_type": "stream",
     "text": [
      "GPU available: True (mps), used: True\n",
      "TPU available: False, using: 0 TPU cores\n",
      "HPU available: False, using: 0 HPUs\n",
      "\n",
      "  | Name            | Type             | Params | Mode \n",
      "-------------------------------------------------------------\n",
      "0 | criterion       | MSELoss          | 0      | train\n",
      "1 | train_criterion | MSELoss          | 0      | train\n",
      "2 | val_criterion   | MSELoss          | 0      | train\n",
      "3 | train_metrics   | MetricCollection | 0      | train\n",
      "4 | val_metrics     | MetricCollection | 0      | train\n",
      "5 | stacks          | ModuleList       | 18.6 M | train\n",
      "-------------------------------------------------------------\n",
      "18.6 M    Trainable params\n",
      "10.8 K    Non-trainable params\n",
      "18.6 M    Total params\n",
      "74.360    Total estimated model params size (MB)\n",
      "396       Modules in train mode\n",
      "0         Modules in eval mode\n"
     ]
    },
    {
     "name": "stdout",
     "output_type": "stream",
     "text": [
      "Epoch 9: 100%|██████████| 5/5 [00:00<00:00,  9.26it/s, train_loss=6.640]  "
     ]
    },
    {
     "name": "stderr",
     "output_type": "stream",
     "text": [
      "`Trainer.fit` stopped: `max_epochs=10` reached.\n"
     ]
    },
    {
     "name": "stdout",
     "output_type": "stream",
     "text": [
      "Epoch 9: 100%|██████████| 5/5 [00:00<00:00,  9.25it/s, train_loss=6.640]\n"
     ]
    },
    {
     "data": {
      "text/plain": [
       "NBEATSModel(output_chunk_shift=0, generic_architecture=True, num_stacks=30, num_blocks=1, num_layers=4, layer_widths=256, expansion_coefficient_dim=5, trend_polynomial_degree=2, dropout=0.0, activation=ReLU, input_chunk_length=12, output_chunk_length=4, n_epochs=10, batch_size=16, random_state=42, likelihood=GaussianLikelihood(prior_mu=None, prior_sigma=None, prior_strength=1.0, beta_nll=0.0))"
      ]
     },
     "execution_count": 75,
     "metadata": {},
     "output_type": "execute_result"
    }
   ],
   "source": [
    "from darts.models import NBEATSModel\n",
    "\n",
    "nbeats = NBEATSModel(\n",
    "    input_chunk_length=input_chunk_length,\n",
    "    output_chunk_length=output_chunk_length,\n",
    "    n_epochs=10,\n",
    "    batch_size=16,\n",
    "    random_state=42,\n",
    "    likelihood=GaussianLikelihood(),\n",
    ")\n",
    "\n",
    "# 5. Train the model directly from the dataset\n",
    "nbeats.fit_from_dataset(tsfel_dataset, verbose=True)"
   ]
  }
 ],
 "metadata": {
  "kernelspec": {
   "display_name": "base",
   "language": "python",
   "name": "python3"
  },
  "language_info": {
   "codemirror_mode": {
    "name": "ipython",
    "version": 3
   },
   "file_extension": ".py",
   "mimetype": "text/x-python",
   "name": "python",
   "nbconvert_exporter": "python",
   "pygments_lexer": "ipython3",
   "version": "3.12.8"
  }
 },
 "nbformat": 4,
 "nbformat_minor": 2
}
