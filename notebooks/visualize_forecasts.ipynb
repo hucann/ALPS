{
 "cells": [
  {
   "cell_type": "markdown",
   "metadata": {},
   "source": [
    "## Forecast Visualization\n",
    "\n",
    "This notebook allows you to load saved forecasts and ground truth data for each product, and visualize them interactively."
   ]
  },
  {
   "cell_type": "code",
   "execution_count": 2,
   "metadata": {},
   "outputs": [],
   "source": [
    "import pandas as pd\n",
    "import matplotlib.pyplot as plt\n",
    "import os\n",
    "import ipywidgets as widgets\n",
    "from IPython.display import display"
   ]
  },
  {
   "cell_type": "markdown",
   "metadata": {},
   "source": [
    "### Load metrics summary and available forecasts"
   ]
  },
  {
   "cell_type": "code",
   "execution_count": 3,
   "metadata": {},
   "outputs": [
    {
     "data": {
      "application/vnd.microsoft.datawrangler.viewer.v0+json": {
       "columns": [
        {
         "name": "index",
         "rawType": "int64",
         "type": "integer"
        },
        {
         "name": "product_id",
         "rawType": "int64",
         "type": "integer"
        },
        {
         "name": "mape",
         "rawType": "float64",
         "type": "float"
        },
        {
         "name": "rmse",
         "rawType": "float64",
         "type": "float"
        },
        {
         "name": "forecast_file",
         "rawType": "object",
         "type": "string"
        },
        {
         "name": "ground_truth_file",
         "rawType": "object",
         "type": "string"
        }
       ],
       "conversionMethod": "pd.DataFrame",
       "ref": "7fa934b7-b796-4fd4-9bf8-cde2a2ce2672",
       "rows": [
        [
         "0",
         "0",
         "58.61617",
         "0.24089077",
         "results/forecasts/forecast_product_0.csv",
         "results/forecasts/ground_truth_product_0.csv"
        ],
        [
         "1",
         "1",
         "30.139889",
         "0.15923186",
         "results/forecasts/forecast_product_1.csv",
         "results/forecasts/ground_truth_product_1.csv"
        ],
        [
         "2",
         "2",
         "41.376545",
         "0.24781053",
         "results/forecasts/forecast_product_2.csv",
         "results/forecasts/ground_truth_product_2.csv"
        ],
        [
         "3",
         "3",
         "38.923344",
         "0.2213636",
         "results/forecasts/forecast_product_3.csv",
         "results/forecasts/ground_truth_product_3.csv"
        ],
        [
         "4",
         "4",
         "76.62038",
         "0.23245348",
         "results/forecasts/forecast_product_4.csv",
         "results/forecasts/ground_truth_product_4.csv"
        ],
        [
         "5",
         "5",
         "55.841366",
         "0.21855076",
         "results/forecasts/forecast_product_5.csv",
         "results/forecasts/ground_truth_product_5.csv"
        ],
        [
         "6",
         "6",
         "35.65481",
         "0.21297483",
         "results/forecasts/forecast_product_6.csv",
         "results/forecasts/ground_truth_product_6.csv"
        ],
        [
         "7",
         "7",
         "66.44078",
         "0.19760735",
         "results/forecasts/forecast_product_7.csv",
         "results/forecasts/ground_truth_product_7.csv"
        ],
        [
         "8",
         "8",
         "34.208374",
         "0.20331186",
         "results/forecasts/forecast_product_8.csv",
         "results/forecasts/ground_truth_product_8.csv"
        ],
        [
         "9",
         "9",
         "90.33864",
         "0.17116497",
         "results/forecasts/forecast_product_9.csv",
         "results/forecasts/ground_truth_product_9.csv"
        ],
        [
         "10",
         "10",
         "36.49232",
         "0.21602598",
         "results/forecasts/forecast_product_10.csv",
         "results/forecasts/ground_truth_product_10.csv"
        ],
        [
         "11",
         "11",
         "49.257626",
         "0.23740348",
         "results/forecasts/forecast_product_11.csv",
         "results/forecasts/ground_truth_product_11.csv"
        ],
        [
         "12",
         "12",
         "46.149895",
         "0.22350502",
         "results/forecasts/forecast_product_12.csv",
         "results/forecasts/ground_truth_product_12.csv"
        ],
        [
         "13",
         "13",
         "82.03762",
         "0.23298968",
         "results/forecasts/forecast_product_13.csv",
         "results/forecasts/ground_truth_product_13.csv"
        ],
        [
         "14",
         "14",
         "64.30931",
         "0.20659809",
         "results/forecasts/forecast_product_14.csv",
         "results/forecasts/ground_truth_product_14.csv"
        ],
        [
         "15",
         "15",
         "41.047047",
         "0.2335404",
         "results/forecasts/forecast_product_15.csv",
         "results/forecasts/ground_truth_product_15.csv"
        ],
        [
         "16",
         "16",
         "44.878098",
         "0.26418737",
         "results/forecasts/forecast_product_16.csv",
         "results/forecasts/ground_truth_product_16.csv"
        ],
        [
         "17",
         "17",
         "45.19374",
         "0.27098545",
         "results/forecasts/forecast_product_17.csv",
         "results/forecasts/ground_truth_product_17.csv"
        ],
        [
         "18",
         "18",
         "66.716576",
         "0.23819342",
         "results/forecasts/forecast_product_18.csv",
         "results/forecasts/ground_truth_product_18.csv"
        ],
        [
         "19",
         "19",
         "49.23457",
         "0.20308314",
         "results/forecasts/forecast_product_19.csv",
         "results/forecasts/ground_truth_product_19.csv"
        ]
       ],
       "shape": {
        "columns": 5,
        "rows": 20
       }
      },
      "text/html": [
       "<div>\n",
       "<style scoped>\n",
       "    .dataframe tbody tr th:only-of-type {\n",
       "        vertical-align: middle;\n",
       "    }\n",
       "\n",
       "    .dataframe tbody tr th {\n",
       "        vertical-align: top;\n",
       "    }\n",
       "\n",
       "    .dataframe thead th {\n",
       "        text-align: right;\n",
       "    }\n",
       "</style>\n",
       "<table border=\"1\" class=\"dataframe\">\n",
       "  <thead>\n",
       "    <tr style=\"text-align: right;\">\n",
       "      <th></th>\n",
       "      <th>product_id</th>\n",
       "      <th>mape</th>\n",
       "      <th>rmse</th>\n",
       "      <th>forecast_file</th>\n",
       "      <th>ground_truth_file</th>\n",
       "    </tr>\n",
       "  </thead>\n",
       "  <tbody>\n",
       "    <tr>\n",
       "      <th>0</th>\n",
       "      <td>0</td>\n",
       "      <td>58.616170</td>\n",
       "      <td>0.240891</td>\n",
       "      <td>results/forecasts/forecast_product_0.csv</td>\n",
       "      <td>results/forecasts/ground_truth_product_0.csv</td>\n",
       "    </tr>\n",
       "    <tr>\n",
       "      <th>1</th>\n",
       "      <td>1</td>\n",
       "      <td>30.139889</td>\n",
       "      <td>0.159232</td>\n",
       "      <td>results/forecasts/forecast_product_1.csv</td>\n",
       "      <td>results/forecasts/ground_truth_product_1.csv</td>\n",
       "    </tr>\n",
       "    <tr>\n",
       "      <th>2</th>\n",
       "      <td>2</td>\n",
       "      <td>41.376545</td>\n",
       "      <td>0.247811</td>\n",
       "      <td>results/forecasts/forecast_product_2.csv</td>\n",
       "      <td>results/forecasts/ground_truth_product_2.csv</td>\n",
       "    </tr>\n",
       "    <tr>\n",
       "      <th>3</th>\n",
       "      <td>3</td>\n",
       "      <td>38.923344</td>\n",
       "      <td>0.221364</td>\n",
       "      <td>results/forecasts/forecast_product_3.csv</td>\n",
       "      <td>results/forecasts/ground_truth_product_3.csv</td>\n",
       "    </tr>\n",
       "    <tr>\n",
       "      <th>4</th>\n",
       "      <td>4</td>\n",
       "      <td>76.620380</td>\n",
       "      <td>0.232453</td>\n",
       "      <td>results/forecasts/forecast_product_4.csv</td>\n",
       "      <td>results/forecasts/ground_truth_product_4.csv</td>\n",
       "    </tr>\n",
       "    <tr>\n",
       "      <th>5</th>\n",
       "      <td>5</td>\n",
       "      <td>55.841366</td>\n",
       "      <td>0.218551</td>\n",
       "      <td>results/forecasts/forecast_product_5.csv</td>\n",
       "      <td>results/forecasts/ground_truth_product_5.csv</td>\n",
       "    </tr>\n",
       "    <tr>\n",
       "      <th>6</th>\n",
       "      <td>6</td>\n",
       "      <td>35.654810</td>\n",
       "      <td>0.212975</td>\n",
       "      <td>results/forecasts/forecast_product_6.csv</td>\n",
       "      <td>results/forecasts/ground_truth_product_6.csv</td>\n",
       "    </tr>\n",
       "    <tr>\n",
       "      <th>7</th>\n",
       "      <td>7</td>\n",
       "      <td>66.440780</td>\n",
       "      <td>0.197607</td>\n",
       "      <td>results/forecasts/forecast_product_7.csv</td>\n",
       "      <td>results/forecasts/ground_truth_product_7.csv</td>\n",
       "    </tr>\n",
       "    <tr>\n",
       "      <th>8</th>\n",
       "      <td>8</td>\n",
       "      <td>34.208374</td>\n",
       "      <td>0.203312</td>\n",
       "      <td>results/forecasts/forecast_product_8.csv</td>\n",
       "      <td>results/forecasts/ground_truth_product_8.csv</td>\n",
       "    </tr>\n",
       "    <tr>\n",
       "      <th>9</th>\n",
       "      <td>9</td>\n",
       "      <td>90.338640</td>\n",
       "      <td>0.171165</td>\n",
       "      <td>results/forecasts/forecast_product_9.csv</td>\n",
       "      <td>results/forecasts/ground_truth_product_9.csv</td>\n",
       "    </tr>\n",
       "    <tr>\n",
       "      <th>10</th>\n",
       "      <td>10</td>\n",
       "      <td>36.492320</td>\n",
       "      <td>0.216026</td>\n",
       "      <td>results/forecasts/forecast_product_10.csv</td>\n",
       "      <td>results/forecasts/ground_truth_product_10.csv</td>\n",
       "    </tr>\n",
       "    <tr>\n",
       "      <th>11</th>\n",
       "      <td>11</td>\n",
       "      <td>49.257626</td>\n",
       "      <td>0.237403</td>\n",
       "      <td>results/forecasts/forecast_product_11.csv</td>\n",
       "      <td>results/forecasts/ground_truth_product_11.csv</td>\n",
       "    </tr>\n",
       "    <tr>\n",
       "      <th>12</th>\n",
       "      <td>12</td>\n",
       "      <td>46.149895</td>\n",
       "      <td>0.223505</td>\n",
       "      <td>results/forecasts/forecast_product_12.csv</td>\n",
       "      <td>results/forecasts/ground_truth_product_12.csv</td>\n",
       "    </tr>\n",
       "    <tr>\n",
       "      <th>13</th>\n",
       "      <td>13</td>\n",
       "      <td>82.037620</td>\n",
       "      <td>0.232990</td>\n",
       "      <td>results/forecasts/forecast_product_13.csv</td>\n",
       "      <td>results/forecasts/ground_truth_product_13.csv</td>\n",
       "    </tr>\n",
       "    <tr>\n",
       "      <th>14</th>\n",
       "      <td>14</td>\n",
       "      <td>64.309310</td>\n",
       "      <td>0.206598</td>\n",
       "      <td>results/forecasts/forecast_product_14.csv</td>\n",
       "      <td>results/forecasts/ground_truth_product_14.csv</td>\n",
       "    </tr>\n",
       "    <tr>\n",
       "      <th>15</th>\n",
       "      <td>15</td>\n",
       "      <td>41.047047</td>\n",
       "      <td>0.233540</td>\n",
       "      <td>results/forecasts/forecast_product_15.csv</td>\n",
       "      <td>results/forecasts/ground_truth_product_15.csv</td>\n",
       "    </tr>\n",
       "    <tr>\n",
       "      <th>16</th>\n",
       "      <td>16</td>\n",
       "      <td>44.878098</td>\n",
       "      <td>0.264187</td>\n",
       "      <td>results/forecasts/forecast_product_16.csv</td>\n",
       "      <td>results/forecasts/ground_truth_product_16.csv</td>\n",
       "    </tr>\n",
       "    <tr>\n",
       "      <th>17</th>\n",
       "      <td>17</td>\n",
       "      <td>45.193740</td>\n",
       "      <td>0.270985</td>\n",
       "      <td>results/forecasts/forecast_product_17.csv</td>\n",
       "      <td>results/forecasts/ground_truth_product_17.csv</td>\n",
       "    </tr>\n",
       "    <tr>\n",
       "      <th>18</th>\n",
       "      <td>18</td>\n",
       "      <td>66.716576</td>\n",
       "      <td>0.238193</td>\n",
       "      <td>results/forecasts/forecast_product_18.csv</td>\n",
       "      <td>results/forecasts/ground_truth_product_18.csv</td>\n",
       "    </tr>\n",
       "    <tr>\n",
       "      <th>19</th>\n",
       "      <td>19</td>\n",
       "      <td>49.234570</td>\n",
       "      <td>0.203083</td>\n",
       "      <td>results/forecasts/forecast_product_19.csv</td>\n",
       "      <td>results/forecasts/ground_truth_product_19.csv</td>\n",
       "    </tr>\n",
       "  </tbody>\n",
       "</table>\n",
       "</div>"
      ],
      "text/plain": [
       "    product_id       mape      rmse  \\\n",
       "0            0  58.616170  0.240891   \n",
       "1            1  30.139889  0.159232   \n",
       "2            2  41.376545  0.247811   \n",
       "3            3  38.923344  0.221364   \n",
       "4            4  76.620380  0.232453   \n",
       "5            5  55.841366  0.218551   \n",
       "6            6  35.654810  0.212975   \n",
       "7            7  66.440780  0.197607   \n",
       "8            8  34.208374  0.203312   \n",
       "9            9  90.338640  0.171165   \n",
       "10          10  36.492320  0.216026   \n",
       "11          11  49.257626  0.237403   \n",
       "12          12  46.149895  0.223505   \n",
       "13          13  82.037620  0.232990   \n",
       "14          14  64.309310  0.206598   \n",
       "15          15  41.047047  0.233540   \n",
       "16          16  44.878098  0.264187   \n",
       "17          17  45.193740  0.270985   \n",
       "18          18  66.716576  0.238193   \n",
       "19          19  49.234570  0.203083   \n",
       "\n",
       "                                forecast_file  \\\n",
       "0    results/forecasts/forecast_product_0.csv   \n",
       "1    results/forecasts/forecast_product_1.csv   \n",
       "2    results/forecasts/forecast_product_2.csv   \n",
       "3    results/forecasts/forecast_product_3.csv   \n",
       "4    results/forecasts/forecast_product_4.csv   \n",
       "5    results/forecasts/forecast_product_5.csv   \n",
       "6    results/forecasts/forecast_product_6.csv   \n",
       "7    results/forecasts/forecast_product_7.csv   \n",
       "8    results/forecasts/forecast_product_8.csv   \n",
       "9    results/forecasts/forecast_product_9.csv   \n",
       "10  results/forecasts/forecast_product_10.csv   \n",
       "11  results/forecasts/forecast_product_11.csv   \n",
       "12  results/forecasts/forecast_product_12.csv   \n",
       "13  results/forecasts/forecast_product_13.csv   \n",
       "14  results/forecasts/forecast_product_14.csv   \n",
       "15  results/forecasts/forecast_product_15.csv   \n",
       "16  results/forecasts/forecast_product_16.csv   \n",
       "17  results/forecasts/forecast_product_17.csv   \n",
       "18  results/forecasts/forecast_product_18.csv   \n",
       "19  results/forecasts/forecast_product_19.csv   \n",
       "\n",
       "                                ground_truth_file  \n",
       "0    results/forecasts/ground_truth_product_0.csv  \n",
       "1    results/forecasts/ground_truth_product_1.csv  \n",
       "2    results/forecasts/ground_truth_product_2.csv  \n",
       "3    results/forecasts/ground_truth_product_3.csv  \n",
       "4    results/forecasts/ground_truth_product_4.csv  \n",
       "5    results/forecasts/ground_truth_product_5.csv  \n",
       "6    results/forecasts/ground_truth_product_6.csv  \n",
       "7    results/forecasts/ground_truth_product_7.csv  \n",
       "8    results/forecasts/ground_truth_product_8.csv  \n",
       "9    results/forecasts/ground_truth_product_9.csv  \n",
       "10  results/forecasts/ground_truth_product_10.csv  \n",
       "11  results/forecasts/ground_truth_product_11.csv  \n",
       "12  results/forecasts/ground_truth_product_12.csv  \n",
       "13  results/forecasts/ground_truth_product_13.csv  \n",
       "14  results/forecasts/ground_truth_product_14.csv  \n",
       "15  results/forecasts/ground_truth_product_15.csv  \n",
       "16  results/forecasts/ground_truth_product_16.csv  \n",
       "17  results/forecasts/ground_truth_product_17.csv  \n",
       "18  results/forecasts/ground_truth_product_18.csv  \n",
       "19  results/forecasts/ground_truth_product_19.csv  "
      ]
     },
     "execution_count": 3,
     "metadata": {},
     "output_type": "execute_result"
    }
   ],
   "source": [
    "results_dir = '../results/forecasts/'\n",
    "metrics_summary = pd.read_csv(os.path.join(results_dir, 'metrics_summary.csv'))\n",
    "metrics_summary"
   ]
  },
  {
   "cell_type": "markdown",
   "metadata": {},
   "source": [
    "### Define visualization function"
   ]
  },
  {
   "cell_type": "code",
   "execution_count": 17,
   "metadata": {},
   "outputs": [],
   "source": [
    "def plot_forecast_vs_truth(product_id):\n",
    "    row = metrics_summary[metrics_summary['product_id'] == product_id].iloc[0]\n",
    "    forecast_path = os.path.join('..', row['forecast_file'])\n",
    "    truth_path = forecast_path.replace('forecast_', 'ground_truth_')\n",
    "    \n",
    "    forecast_df = pd.read_csv(forecast_path, index_col=0, parse_dates=True)\n",
    "    ground_truth_df = pd.read_csv(truth_path, index_col=0, parse_dates=True)\n",
    "    \n",
    "    plt.figure(figsize=(10, 5))\n",
    "    plt.plot(ground_truth_df, label='Ground Truth', color='blue')\n",
    "    plt.plot(forecast_df, label='Forecast', color='orange')\n",
    "    plt.title(f'Product {product_id} Forecast vs. Ground Truth\\nMAPE: {row['mape']:.2f}%  RMSE: {row['rmse']:.2f}')\n",
    "    plt.xlabel('Date')\n",
    "    plt.ylabel('Units Sold')\n",
    "    plt.legend()\n",
    "    plt.grid(True)\n",
    "    plt.show()"
   ]
  },
  {
   "cell_type": "markdown",
   "metadata": {},
   "source": [
    "### Interactive widget to select product and visualize"
   ]
  },
  {
   "cell_type": "code",
   "execution_count": 18,
   "metadata": {},
   "outputs": [
    {
     "data": {
      "application/vnd.jupyter.widget-view+json": {
       "model_id": "e95fe3e053f24e3295569c706aec7e85",
       "version_major": 2,
       "version_minor": 0
      },
      "text/plain": [
       "interactive(children=(Dropdown(description='Product:', options=(0, 1, 2, 3, 4, 5, 6, 7, 8, 9, 10, 11, 12, 13, …"
      ]
     },
     "metadata": {},
     "output_type": "display_data"
    },
    {
     "data": {
      "text/plain": [
       "<function __main__.plot_forecast_vs_truth(product_id)>"
      ]
     },
     "execution_count": 18,
     "metadata": {},
     "output_type": "execute_result"
    }
   ],
   "source": [
    "product_ids = metrics_summary['product_id'].unique()\n",
    "product_selector = widgets.Dropdown(options=product_ids, description='Product:')\n",
    "widgets.interact(plot_forecast_vs_truth, product_id=product_selector)"
   ]
  }
 ],
 "metadata": {
  "kernelspec": {
   "display_name": "Python 3",
   "language": "python",
   "name": "python3"
  },
  "language_info": {
   "codemirror_mode": {
    "name": "ipython",
    "version": 3
   },
   "file_extension": ".py",
   "mimetype": "text/x-python",
   "name": "python",
   "nbconvert_exporter": "python",
   "pygments_lexer": "ipython3",
   "version": "3.12.4"
  }
 },
 "nbformat": 4,
 "nbformat_minor": 2
}
