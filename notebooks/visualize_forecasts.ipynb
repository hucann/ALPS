{
 "cells": [
  {
   "cell_type": "markdown",
   "metadata": {},
   "source": [
    "### Forecast Visualization"
   ]
  },
  {
   "cell_type": "code",
   "execution_count": 1,
   "metadata": {},
   "outputs": [],
   "source": [
    "import pandas as pd\n",
    "import matplotlib.pyplot as plt\n",
    "import os\n",
    "import ipywidgets as widgets\n",
    "from IPython.display import display"
   ]
  },
  {
   "cell_type": "markdown",
   "metadata": {},
   "source": [
    "### Evaluation metrics summary"
   ]
  },
  {
   "cell_type": "code",
   "execution_count": 10,
   "metadata": {},
   "outputs": [],
   "source": [
    "RESULTS_DIR = '../results/forecasts/'\n",
    "\n",
    "# Load all model directories\n",
    "model_dirs = [d for d in os.listdir(RESULTS_DIR) if os.path.isdir(os.path.join(RESULTS_DIR, d))]\n",
    "\n",
    "all_metrics = []\n",
    "\n",
    "# Load and combine metrics\n",
    "for model_name in model_dirs:\n",
    "    metrics_path = os.path.join(RESULTS_DIR, model_name, 'metrics_summary.csv')\n",
    "    if os.path.exists(metrics_path):\n",
    "        df = pd.read_csv(metrics_path)\n",
    "        df['model'] = model_name\n",
    "        all_metrics.append(df)\n",
    "\n",
    "metrics_df = pd.concat(all_metrics, ignore_index=True)\n"
   ]
  },
  {
   "cell_type": "code",
   "execution_count": 11,
   "metadata": {},
   "outputs": [
    {
     "name": "stdout",
     "output_type": "stream",
     "text": [
      "\n",
      "📊 Model Comparison Table (Averaged over all products):\n"
     ]
    },
    {
     "data": {
      "application/vnd.microsoft.datawrangler.viewer.v0+json": {
       "columns": [
        {
         "name": "index",
         "rawType": "int64",
         "type": "integer"
        },
        {
         "name": "model",
         "rawType": "object",
         "type": "string"
        },
        {
         "name": "mape",
         "rawType": "float64",
         "type": "float"
        },
        {
         "name": "rmse",
         "rawType": "float64",
         "type": "float"
        }
       ],
       "conversionMethod": "pd.DataFrame",
       "ref": "9b0e3800-43b1-433a-b320-1eee72327930",
       "rows": [
        [
         "1",
         "NBEATSModel",
         "45.1899478",
         "0.1850659185"
        ],
        [
         "0",
         "ARIMA",
         "47.705417710193124",
         "0.20268887037004424"
        ],
        [
         "2",
         "Prophet",
         "48.28156533670533",
         "0.200658400945396"
        ],
        [
         "4",
         "RandomForest",
         "48.9075901553489",
         "0.18734219619293735"
        ],
        [
         "5",
         "TCNModel",
         "48.9792489",
         "0.18706360049999998"
        ],
        [
         "3",
         "RNNModel",
         "53.2210702",
         "0.2243446305"
        ]
       ],
       "shape": {
        "columns": 3,
        "rows": 6
       }
      },
      "text/html": [
       "<div>\n",
       "<style scoped>\n",
       "    .dataframe tbody tr th:only-of-type {\n",
       "        vertical-align: middle;\n",
       "    }\n",
       "\n",
       "    .dataframe tbody tr th {\n",
       "        vertical-align: top;\n",
       "    }\n",
       "\n",
       "    .dataframe thead th {\n",
       "        text-align: right;\n",
       "    }\n",
       "</style>\n",
       "<table border=\"1\" class=\"dataframe\">\n",
       "  <thead>\n",
       "    <tr style=\"text-align: right;\">\n",
       "      <th></th>\n",
       "      <th>model</th>\n",
       "      <th>mape</th>\n",
       "      <th>rmse</th>\n",
       "    </tr>\n",
       "  </thead>\n",
       "  <tbody>\n",
       "    <tr>\n",
       "      <th>1</th>\n",
       "      <td>NBEATSModel</td>\n",
       "      <td>45.189948</td>\n",
       "      <td>0.185066</td>\n",
       "    </tr>\n",
       "    <tr>\n",
       "      <th>0</th>\n",
       "      <td>ARIMA</td>\n",
       "      <td>47.705418</td>\n",
       "      <td>0.202689</td>\n",
       "    </tr>\n",
       "    <tr>\n",
       "      <th>2</th>\n",
       "      <td>Prophet</td>\n",
       "      <td>48.281565</td>\n",
       "      <td>0.200658</td>\n",
       "    </tr>\n",
       "    <tr>\n",
       "      <th>4</th>\n",
       "      <td>RandomForest</td>\n",
       "      <td>48.907590</td>\n",
       "      <td>0.187342</td>\n",
       "    </tr>\n",
       "    <tr>\n",
       "      <th>5</th>\n",
       "      <td>TCNModel</td>\n",
       "      <td>48.979249</td>\n",
       "      <td>0.187064</td>\n",
       "    </tr>\n",
       "    <tr>\n",
       "      <th>3</th>\n",
       "      <td>RNNModel</td>\n",
       "      <td>53.221070</td>\n",
       "      <td>0.224345</td>\n",
       "    </tr>\n",
       "  </tbody>\n",
       "</table>\n",
       "</div>"
      ],
      "text/plain": [
       "          model       mape      rmse\n",
       "1   NBEATSModel  45.189948  0.185066\n",
       "0         ARIMA  47.705418  0.202689\n",
       "2       Prophet  48.281565  0.200658\n",
       "4  RandomForest  48.907590  0.187342\n",
       "5      TCNModel  48.979249  0.187064\n",
       "3      RNNModel  53.221070  0.224345"
      ]
     },
     "metadata": {},
     "output_type": "display_data"
    }
   ],
   "source": [
    "# Summary table: average metrics per model\n",
    "summary_df = metrics_df.groupby('model').agg({'mape': 'mean', 'rmse': 'mean'}).reset_index()\n",
    "summary_df = summary_df.sort_values(by='mape')\n",
    "\n",
    "print(\"\\n📊 Model Comparison Table (Averaged over all products):\")\n",
    "display(summary_df)"
   ]
  },
  {
   "cell_type": "markdown",
   "metadata": {},
   "source": [
    "### Interactive Forecast Visualisation"
   ]
  },
  {
   "cell_type": "code",
   "execution_count": 13,
   "metadata": {},
   "outputs": [],
   "source": [
    "# === Interactive Forecast Plot ===\n",
    "def plot_forecast_vs_truth(model_name, product_id):\n",
    "    forecast_path = os.path.join(RESULTS_DIR, model_name, f'forecast_product_{product_id}.csv')\n",
    "    truth_path = os.path.join(RESULTS_DIR, model_name, f'ground_truth_product_{product_id}.csv')\n",
    "\n",
    "    if not os.path.exists(forecast_path) or not os.path.exists(truth_path):\n",
    "        print(f\"❌ No forecast or ground truth data for model {model_name} product {product_id}\")\n",
    "        return\n",
    "\n",
    "    forecast_df = pd.read_csv(forecast_path, index_col=0, parse_dates=True)\n",
    "    truth_df = pd.read_csv(truth_path, index_col=0, parse_dates=True)\n",
    "\n",
    "    plt.figure(figsize=(10, 5))\n",
    "    plt.plot(truth_df, label='Ground Truth', color='blue')\n",
    "    plt.plot(forecast_df, label='Forecast', color='orange')\n",
    "    plt.title(f'{model_name} - Product {product_id} Forecast vs. Ground Truth')\n",
    "    plt.xlabel('Date')\n",
    "    plt.ylabel('Units Sold')\n",
    "    plt.legend()\n",
    "    plt.grid(True)\n",
    "    plt.show()"
   ]
  },
  {
   "cell_type": "code",
   "execution_count": 14,
   "metadata": {},
   "outputs": [
    {
     "data": {
      "application/vnd.jupyter.widget-view+json": {
       "model_id": "b97990b564ea4039b9f09b3820de90d4",
       "version_major": 2,
       "version_minor": 0
      },
      "text/plain": [
       "interactive(children=(Dropdown(description='Model:', options=('ARIMA', 'TCNModel', 'RandomForest', 'Prophet', …"
      ]
     },
     "metadata": {},
     "output_type": "display_data"
    }
   ],
   "source": [
    "model_selector = widgets.Dropdown(options=model_dirs, description='Model:')\n",
    "product_selector = widgets.IntSlider(value=0, min=0, max=10, step=1, description='Product ID:')  # adjust max as needed\n",
    "\n",
    "interactive_plot = widgets.interact(plot_forecast_vs_truth, model_name=model_selector, product_id=product_selector)"
   ]
  }
 ],
 "metadata": {
  "kernelspec": {
   "display_name": "Python 3",
   "language": "python",
   "name": "python3"
  },
  "language_info": {
   "codemirror_mode": {
    "name": "ipython",
    "version": 3
   },
   "file_extension": ".py",
   "mimetype": "text/x-python",
   "name": "python",
   "nbconvert_exporter": "python",
   "pygments_lexer": "ipython3",
   "version": "3.12.4"
  }
 },
 "nbformat": 4,
 "nbformat_minor": 2
}
