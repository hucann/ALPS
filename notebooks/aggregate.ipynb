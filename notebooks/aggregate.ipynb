{
 "cells": [
  {
   "cell_type": "code",
   "execution_count": null,
   "id": "d202dade",
   "metadata": {},
   "outputs": [],
   "source": [
    "import pandas as pd\n",
    "import numpy as np\n",
    "import matplotlib.pyplot as plt\n",
    "import os\n",
    "\n",
    "from darts import TimeSeries\n",
    "from darts.utils.data import PastCovariatesSequentialDataset\n",
    "\n",
    "from darts.dataprocessing.transformers import Scaler\n",
    "from darts.models import BlockRNNModel\n",
    "\n",
    "from darts.models import NBEATSModel\n",
    "\n",
    "from darts.utils.likelihood_models import GaussianLikelihood\n",
    "from darts.metrics import mape, rmse\n"
   ]
  },
  {
   "cell_type": "markdown",
   "id": "e6af7672",
   "metadata": {},
   "source": [
    "### Data preprocessing"
   ]
  },
  {
   "cell_type": "code",
   "execution_count": 2,
   "id": "d8e5d6b0",
   "metadata": {},
   "outputs": [],
   "source": [
    "df = pd.read_csv('../data/retail_store_inventory.csv')\n",
    "df['Date'] = pd.to_datetime(df['Date'])\n",
    "\n",
    "df.drop(['Store ID', 'Category', 'Region', 'Inventory Level', 'Units Ordered', 'Demand Forecast', 'Price', 'Discount', 'Competitor Pricing'], axis=1, inplace=True)\n",
    "\n",
    "# Aggregate across all stores/ regions/ categories\n",
    "aggregated_df = df.groupby(['Date', 'Product ID']).agg({ # Keep unique Date and Product ID pairs\n",
    "    'Units Sold': 'sum',\n",
    "    'Weather Condition': lambda x: x.mode()[0] if not x.mode().empty else None,  # Mode\n",
    "    'Holiday/Promotion': 'max',  # If any promotion/holiday exists, it is recorded\n",
    "    'Seasonality': lambda x: x.mode()[0] if not x.mode().empty else None  # Mode\n",
    "}).reset_index()\n",
    "\n",
    "# Aggregate on weekly baisis\n",
    "aggregated_df['Week'] = aggregated_df['Date'].dt.to_period('W').astype(str)  # Create a 'Week' column based on the ISO calendar week\n",
    "\n",
    "weekly_aggregated_df = aggregated_df.groupby(['Week', 'Product ID']).agg({\n",
    "    'Units Sold': 'sum',\n",
    "    'Weather Condition': lambda x: x.mode()[0] if not x.mode().empty else None,  # Mode\n",
    "    'Holiday/Promotion': 'max',  # If any promotion/holiday exists, it is recorded\n",
    "    'Seasonality': lambda x: x.mode()[0] if not x.mode().empty else None  # Mode\n",
    "}).reset_index()\n",
    "\n",
    "# Reformat the 'Week' column\n",
    "weekly_aggregated_df['Week'] = pd.to_datetime(weekly_aggregated_df['Week'].str.split('/').str[0])  # Takes the first date of the week\n",
    "weekly_aggregated_df = weekly_aggregated_df.sort_values(by=['Product ID', 'Week']) # Sort for consistency\n",
    "\n",
    "# Encoding categorical variables as numerical for Darts\n",
    "weekly_aggregated_df['Weather Condition'] = weekly_aggregated_df['Weather Condition'].astype('category').cat.codes\n",
    "weekly_aggregated_df['Seasonality'] = weekly_aggregated_df['Seasonality'].astype('category').cat.codes"
   ]
  },
  {
   "cell_type": "markdown",
   "id": "ee382735",
   "metadata": {},
   "source": [
    "### Prepare Input for Darts"
   ]
  },
  {
   "cell_type": "code",
   "execution_count": 3,
   "id": "2c5382a7",
   "metadata": {},
   "outputs": [
    {
     "name": "stdout",
     "output_type": "stream",
     "text": [
      "Split point: 2023-08-14 00:00:00\n"
     ]
    }
   ],
   "source": [
    "df = weekly_aggregated_df\n",
    "\n",
    "# Train-test split based on forecast horizon\n",
    "forecast_horizon = 20  # Forecast for the next 4 weeks\n",
    "last_valid_time = df.set_index(\"Week\")['Weather Condition'].last_valid_index() # Find the last available timestamp for future covariates\n",
    "split_point = last_valid_time - pd.Timedelta(weeks=forecast_horizon)  # Compute the train-test split point (Leave `forecast_horizon` weeks for testing)\n",
    "print(f\"Split point: {split_point}\")\n",
    "\n",
    "target_series_dict = {}  # 'Units Sold'\n",
    "past_covariates_dict = {}  # 'Weather Condition', 'Holiday/Promotion', 'Seasonality'\n",
    "\n",
    "# Initialize lists for train/test sets\n",
    "train_series_list = []\n",
    "test_series_list = []\n",
    "past_covariates_list = []\n",
    "product_id_list = []\n",
    "\n",
    "for product_id in df['Product ID'].unique():\n",
    "    product_id_list.append(product_id)\n",
    "    df_product = df[df['Product ID'] == product_id] # Select relevant rows for the product\n",
    "    df_product = df_product.set_index('Week') # Set week as index\n",
    "    \n",
    "    # Create TimeSeries objects\n",
    "    target_series = TimeSeries.from_dataframe(df_product, value_cols=['Units Sold'])\n",
    "    past_covariates = TimeSeries.from_dataframe(df_product, \n",
    "                                                  value_cols=['Weather Condition', 'Holiday/Promotion', 'Seasonality'])\n",
    "    \n",
    "    train_series, test_series = target_series.split_after(split_point)\n",
    "\n",
    "    # Convert to float32 for Darts compatibility\n",
    "    train_series_list.append(train_series.astype(np.float32))\n",
    "    test_series_list.append(test_series.astype(np.float32))\n",
    "    past_covariates_list.append(past_covariates.astype(np.float32))\n",
    "\n",
    "target_scaler = Scaler()\n",
    "past_covariates_scaler = Scaler()\n",
    "\n",
    "# Fit only on the training set, then transform train & test sets -- so the model does not see future information while scaling\n",
    "train_series_scaled = [target_scaler.fit_transform(ts) for ts in train_series_list]\n",
    "test_series_scaled = [target_scaler.transform(ts) for ts in test_series_list]  \n",
    "full_series_scaled = [train.append(test) for train, test in zip(train_series_scaled, test_series_scaled)]\n",
    "\n",
    "past_covariates_scaled = [past_covariates_scaler.fit_transform(ts) for ts in past_covariates_list]"
   ]
  },
  {
   "cell_type": "markdown",
   "id": "32aef1be",
   "metadata": {},
   "source": [
    "### Customized Dataset Class"
   ]
  },
  {
   "cell_type": "code",
   "execution_count": null,
   "id": "c9b71b4c",
   "metadata": {},
   "outputs": [],
   "source": [
    "class PastCovariatesSequentialDataset_aggregate_target(PastCovariatesSequentialDataset):\n",
    "    def __getitem__(self, idx):\n",
    "        past_target, past_covariates, static_covariates, future_covariates, future_target = super().__getitem__(idx)\n",
    "\n",
    "        monthly_demand = np.sum(future_target, axis=0, keepdims=True)\n",
    "\n",
    "        return past_target, past_covariates, static_covariates, future_covariates, monthly_demand\n",
    "    \n",
    "    \n",
    "    def to_dataframe(self, limit=None):\n",
    "        \"\"\"\n",
    "        Return all windowed samples as a flattened DataFrame.\n",
    "        Each element in past_target, past_covariates, and future_target becomes its own column.\n",
    "        \"\"\"\n",
    "        n = len(self)\n",
    "        if limit is not None:\n",
    "            n = min(n, limit)\n",
    "        \n",
    "        all_rows = []\n",
    "        for i in range(n):\n",
    "            past_target, past_covariates, _, _, future_target = self[i]\n",
    "            \n",
    "            row = {\"sample\": i}\n",
    "            \n",
    "            # Flatten and add past_target columns\n",
    "            pt_vals = past_target.flatten().tolist()\n",
    "            for j, val in enumerate(pt_vals):\n",
    "                row[f\"past_target_{j+1}\"] = val\n",
    "\n",
    "            # Flatten and add future_target columns\n",
    "            ft_vals = future_target.flatten().tolist()\n",
    "            for j, val in enumerate(ft_vals):\n",
    "                row[f\"future_target_{j+1}\"] = val\n",
    "\n",
    "            # Flatten and add past_covariates columns (assume univariate covariates)\n",
    "            pc_vals = past_covariates.flatten().tolist()\n",
    "            for j, val in enumerate(pc_vals):\n",
    "                row[f\"past_covariates_{j+1}\"] = val\n",
    "            \n",
    "            all_rows.append(row)\n",
    "\n",
    "        return pd.DataFrame(all_rows)"
   ]
  },
  {
   "cell_type": "code",
   "execution_count": null,
   "id": "83285bc2",
   "metadata": {},
   "outputs": [
    {
     "name": "stdout",
     "output_type": "stream",
     "text": [
      "\n",
      "🔍 Inspecting future target:\n",
      "\n",
      "Default window:\n",
      "[[0.8541549 ]\n",
      " [0.64518565]\n",
      " [0.59694743]\n",
      " [0.541172  ]]\n",
      "\n",
      "Aggregate window:\n",
      "[[2.63746]]\n",
      "[[0.33333334 0.         0.6666667 ]\n",
      " [0.         0.         0.        ]\n",
      " [0.33333334 0.         0.6666667 ]\n",
      " [0.         0.         0.6666667 ]\n",
      " [0.         0.         0.        ]\n",
      " [0.         0.         0.        ]\n",
      " [0.         0.         0.33333334]\n",
      " [0.33333334 0.         0.33333334]\n",
      " [0.         0.         0.33333334]\n",
      " [0.33333334 0.         0.        ]\n",
      " [0.33333334 0.         0.        ]\n",
      " [0.33333334 0.         0.        ]]\n"
     ]
    }
   ],
   "source": [
    "input_chunk_length = 12\n",
    "output_chunk_length = 4 \n",
    "\n",
    "dataset = PastCovariatesSequentialDataset(\n",
    "    target_series=train_series_scaled,\n",
    "    covariates=past_covariates_scaled,\n",
    "    input_chunk_length=input_chunk_length,\n",
    "    output_chunk_length=output_chunk_length\n",
    ")\n",
    "\n",
    "dataset_aggregate = PastCovariatesSequentialDataset_aggregate_target(\n",
    "    target_series=train_series_scaled,\n",
    "    covariates=past_covariates_scaled,\n",
    "    input_chunk_length=input_chunk_length,\n",
    "    output_chunk_length=output_chunk_length\n",
    ")\n",
    "\n",
    "# === Inspect window ===\n",
    "window_past_target, window_past_covariates, _, _, window_future_target = dataset[0]  # first window\n",
    "window_past_target_aggregate, window_past_covariates_aggregate, _, _, window_future_target_aggregate = dataset_aggregate[0]  # first window\n",
    "\n",
    "print(\"\\n🔍 Inspecting future target:\")\n",
    "print(\"\\nDefault window:\")\n",
    "print(window_future_target)\n",
    "\n",
    "print(\"\\nAggregate window:\")\n",
    "print(window_future_target_aggregate)\n",
    "# === Inspect window ==="
   ]
  },
  {
   "cell_type": "code",
   "execution_count": 56,
   "id": "c305c46b",
   "metadata": {},
   "outputs": [
    {
     "data": {
      "application/vnd.microsoft.datawrangler.viewer.v0+json": {
       "columns": [
        {
         "name": "index",
         "rawType": "int64",
         "type": "integer"
        },
        {
         "name": "sample",
         "rawType": "int64",
         "type": "integer"
        },
        {
         "name": "past_target_1",
         "rawType": "float64",
         "type": "float"
        },
        {
         "name": "past_target_2",
         "rawType": "float64",
         "type": "float"
        },
        {
         "name": "past_target_3",
         "rawType": "float64",
         "type": "float"
        },
        {
         "name": "past_target_4",
         "rawType": "float64",
         "type": "float"
        },
        {
         "name": "past_target_5",
         "rawType": "float64",
         "type": "float"
        },
        {
         "name": "past_target_6",
         "rawType": "float64",
         "type": "float"
        },
        {
         "name": "past_target_7",
         "rawType": "float64",
         "type": "float"
        },
        {
         "name": "past_target_8",
         "rawType": "float64",
         "type": "float"
        },
        {
         "name": "past_target_9",
         "rawType": "float64",
         "type": "float"
        },
        {
         "name": "past_target_10",
         "rawType": "float64",
         "type": "float"
        },
        {
         "name": "past_target_11",
         "rawType": "float64",
         "type": "float"
        },
        {
         "name": "past_target_12",
         "rawType": "float64",
         "type": "float"
        },
        {
         "name": "future_target_1",
         "rawType": "float64",
         "type": "float"
        },
        {
         "name": "past_covariates_1",
         "rawType": "float64",
         "type": "float"
        },
        {
         "name": "past_covariates_2",
         "rawType": "float64",
         "type": "float"
        },
        {
         "name": "past_covariates_3",
         "rawType": "float64",
         "type": "float"
        },
        {
         "name": "past_covariates_4",
         "rawType": "float64",
         "type": "float"
        },
        {
         "name": "past_covariates_5",
         "rawType": "float64",
         "type": "float"
        },
        {
         "name": "past_covariates_6",
         "rawType": "float64",
         "type": "float"
        },
        {
         "name": "past_covariates_7",
         "rawType": "float64",
         "type": "float"
        },
        {
         "name": "past_covariates_8",
         "rawType": "float64",
         "type": "float"
        },
        {
         "name": "past_covariates_9",
         "rawType": "float64",
         "type": "float"
        },
        {
         "name": "past_covariates_10",
         "rawType": "float64",
         "type": "float"
        },
        {
         "name": "past_covariates_11",
         "rawType": "float64",
         "type": "float"
        },
        {
         "name": "past_covariates_12",
         "rawType": "float64",
         "type": "float"
        },
        {
         "name": "past_covariates_13",
         "rawType": "float64",
         "type": "float"
        },
        {
         "name": "past_covariates_14",
         "rawType": "float64",
         "type": "float"
        },
        {
         "name": "past_covariates_15",
         "rawType": "float64",
         "type": "float"
        },
        {
         "name": "past_covariates_16",
         "rawType": "float64",
         "type": "float"
        },
        {
         "name": "past_covariates_17",
         "rawType": "float64",
         "type": "float"
        },
        {
         "name": "past_covariates_18",
         "rawType": "float64",
         "type": "float"
        },
        {
         "name": "past_covariates_19",
         "rawType": "float64",
         "type": "float"
        },
        {
         "name": "past_covariates_20",
         "rawType": "float64",
         "type": "float"
        },
        {
         "name": "past_covariates_21",
         "rawType": "float64",
         "type": "float"
        },
        {
         "name": "past_covariates_22",
         "rawType": "float64",
         "type": "float"
        },
        {
         "name": "past_covariates_23",
         "rawType": "float64",
         "type": "float"
        },
        {
         "name": "past_covariates_24",
         "rawType": "float64",
         "type": "float"
        },
        {
         "name": "past_covariates_25",
         "rawType": "float64",
         "type": "float"
        },
        {
         "name": "past_covariates_26",
         "rawType": "float64",
         "type": "float"
        },
        {
         "name": "past_covariates_27",
         "rawType": "float64",
         "type": "float"
        },
        {
         "name": "past_covariates_28",
         "rawType": "float64",
         "type": "float"
        },
        {
         "name": "past_covariates_29",
         "rawType": "float64",
         "type": "float"
        },
        {
         "name": "past_covariates_30",
         "rawType": "float64",
         "type": "float"
        },
        {
         "name": "past_covariates_31",
         "rawType": "float64",
         "type": "float"
        },
        {
         "name": "past_covariates_32",
         "rawType": "float64",
         "type": "float"
        },
        {
         "name": "past_covariates_33",
         "rawType": "float64",
         "type": "float"
        },
        {
         "name": "past_covariates_34",
         "rawType": "float64",
         "type": "float"
        },
        {
         "name": "past_covariates_35",
         "rawType": "float64",
         "type": "float"
        },
        {
         "name": "past_covariates_36",
         "rawType": "float64",
         "type": "float"
        }
       ],
       "conversionMethod": "pd.DataFrame",
       "ref": "1457f103-d4c2-462f-be33-ed348d95e28a",
       "rows": [
        [
         "0",
         "0",
         "0.593932569026947",
         "0.5732052326202393",
         "0.6623327732086182",
         "0.5703787803649902",
         "0.48483139276504517",
         "0.46824949979782104",
         "0.8603730797767639",
         "0.540041446685791",
         "0.5818729996681213",
         "0.4100245237350464",
         "0.8517053723335266",
         "0.7691728472709656",
         "2.6374599933624268",
         "0.3333333432674408",
         "0.0",
         "0.6666666865348816",
         "0.0",
         "0.0",
         "0.0",
         "0.3333333432674408",
         "0.0",
         "0.6666666865348816",
         "0.0",
         "0.0",
         "0.6666666865348816",
         "0.0",
         "0.0",
         "0.0",
         "0.0",
         "0.0",
         "0.0",
         "0.0",
         "0.0",
         "0.3333333432674408",
         "0.3333333432674408",
         "0.0",
         "0.3333333432674408",
         "0.0",
         "0.0",
         "0.3333333432674408",
         "0.3333333432674408",
         "0.0",
         "0.0",
         "0.3333333432674408",
         "0.0",
         "0.0",
         "0.3333333432674408",
         "0.0",
         "0.0"
        ],
        [
         "1",
         "1",
         "0.8015828728675842",
         "0.593932569026947",
         "0.5732052326202393",
         "0.6623327732086182",
         "0.5703787803649902",
         "0.48483139276504517",
         "0.46824949979782104",
         "0.8603730797767639",
         "0.540041446685791",
         "0.5818729996681213",
         "0.4100245237350464",
         "0.8517053723335266",
         "2.8654608726501465",
         "0.0",
         "0.0",
         "0.3333333432674408",
         "0.3333333432674408",
         "0.0",
         "0.6666666865348816",
         "0.0",
         "0.0",
         "0.0",
         "0.3333333432674408",
         "0.0",
         "0.6666666865348816",
         "0.0",
         "0.0",
         "0.6666666865348816",
         "0.0",
         "0.0",
         "0.0",
         "0.0",
         "0.0",
         "0.0",
         "0.0",
         "0.0",
         "0.3333333432674408",
         "0.3333333432674408",
         "0.0",
         "0.3333333432674408",
         "0.0",
         "0.0",
         "0.3333333432674408",
         "0.3333333432674408",
         "0.0",
         "0.0",
         "0.3333333432674408",
         "0.0",
         "0.0"
        ],
        [
         "2",
         "2",
         "0.6007160544395447",
         "0.8015828728675842",
         "0.593932569026947",
         "0.5732052326202393",
         "0.6623327732086182",
         "0.5703787803649902",
         "0.48483139276504517",
         "0.46824949979782104",
         "0.8603730797767639",
         "0.540041446685791",
         "0.5818729996681213",
         "0.4100245237350464",
         "3.1202187538146973",
         "0.3333333432674408",
         "0.0",
         "0.0",
         "0.0",
         "0.0",
         "0.3333333432674408",
         "0.3333333432674408",
         "0.0",
         "0.6666666865348816",
         "0.0",
         "0.0",
         "0.0",
         "0.3333333432674408",
         "0.0",
         "0.6666666865348816",
         "0.0",
         "0.0",
         "0.6666666865348816",
         "0.0",
         "0.0",
         "0.0",
         "0.0",
         "0.0",
         "0.0",
         "0.0",
         "0.0",
         "0.3333333432674408",
         "0.3333333432674408",
         "0.0",
         "0.3333333432674408",
         "0.0",
         "0.0",
         "0.3333333432674408",
         "0.3333333432674408",
         "0.0",
         "0.0"
        ],
        [
         "3",
         "3",
         "0.5379687547683716",
         "0.6007160544395447",
         "0.8015828728675842",
         "0.593932569026947",
         "0.5732052326202393",
         "0.6623327732086182",
         "0.5703787803649902",
         "0.48483139276504517",
         "0.46824949979782104",
         "0.8603730797767639",
         "0.540041446685791",
         "0.5818729996681213",
         "2.8850576877593994",
         "0.0",
         "0.0",
         "0.0",
         "0.3333333432674408",
         "0.0",
         "0.0",
         "0.0",
         "0.0",
         "0.3333333432674408",
         "0.3333333432674408",
         "0.0",
         "0.6666666865348816",
         "0.0",
         "0.0",
         "0.0",
         "0.3333333432674408",
         "0.0",
         "0.6666666865348816",
         "0.0",
         "0.0",
         "0.6666666865348816",
         "0.0",
         "0.0",
         "0.0",
         "0.0",
         "0.0",
         "0.0",
         "0.0",
         "0.0",
         "0.3333333432674408",
         "0.3333333432674408",
         "0.0",
         "0.3333333432674408",
         "0.0",
         "0.0",
         "0.3333333432674408"
        ],
        [
         "4",
         "4",
         "0.5560580492019653",
         "0.5379687547683716",
         "0.6007160544395447",
         "0.8015828728675842",
         "0.593932569026947",
         "0.5732052326202393",
         "0.6623327732086182",
         "0.5703787803649902",
         "0.48483139276504517",
         "0.46824949979782104",
         "0.8603730797767639",
         "0.540041446685791",
         "2.6127758026123047",
         "0.0",
         "0.0",
         "0.0",
         "0.0",
         "0.0",
         "0.0",
         "0.3333333432674408",
         "0.0",
         "0.0",
         "0.0",
         "0.0",
         "0.3333333432674408",
         "0.3333333432674408",
         "0.0",
         "0.6666666865348816",
         "0.0",
         "0.0",
         "0.0",
         "0.3333333432674408",
         "0.0",
         "0.6666666865348816",
         "0.0",
         "0.0",
         "0.6666666865348816",
         "0.0",
         "0.0",
         "0.0",
         "0.0",
         "0.0",
         "0.0",
         "0.0",
         "0.0",
         "0.3333333432674408",
         "0.3333333432674408",
         "0.0",
         "0.3333333432674408"
        ]
       ],
       "shape": {
        "columns": 50,
        "rows": 5
       }
      },
      "text/html": [
       "<div>\n",
       "<style scoped>\n",
       "    .dataframe tbody tr th:only-of-type {\n",
       "        vertical-align: middle;\n",
       "    }\n",
       "\n",
       "    .dataframe tbody tr th {\n",
       "        vertical-align: top;\n",
       "    }\n",
       "\n",
       "    .dataframe thead th {\n",
       "        text-align: right;\n",
       "    }\n",
       "</style>\n",
       "<table border=\"1\" class=\"dataframe\">\n",
       "  <thead>\n",
       "    <tr style=\"text-align: right;\">\n",
       "      <th></th>\n",
       "      <th>sample</th>\n",
       "      <th>past_target_1</th>\n",
       "      <th>past_target_2</th>\n",
       "      <th>past_target_3</th>\n",
       "      <th>past_target_4</th>\n",
       "      <th>past_target_5</th>\n",
       "      <th>past_target_6</th>\n",
       "      <th>past_target_7</th>\n",
       "      <th>past_target_8</th>\n",
       "      <th>past_target_9</th>\n",
       "      <th>past_target_10</th>\n",
       "      <th>past_target_11</th>\n",
       "      <th>past_target_12</th>\n",
       "      <th>future_target_1</th>\n",
       "      <th>past_covariates_1</th>\n",
       "      <th>past_covariates_2</th>\n",
       "      <th>past_covariates_3</th>\n",
       "      <th>past_covariates_4</th>\n",
       "      <th>past_covariates_5</th>\n",
       "      <th>past_covariates_6</th>\n",
       "      <th>past_covariates_7</th>\n",
       "      <th>past_covariates_8</th>\n",
       "      <th>past_covariates_9</th>\n",
       "      <th>past_covariates_10</th>\n",
       "      <th>past_covariates_11</th>\n",
       "      <th>past_covariates_12</th>\n",
       "      <th>past_covariates_13</th>\n",
       "      <th>past_covariates_14</th>\n",
       "      <th>past_covariates_15</th>\n",
       "      <th>past_covariates_16</th>\n",
       "      <th>past_covariates_17</th>\n",
       "      <th>past_covariates_18</th>\n",
       "      <th>past_covariates_19</th>\n",
       "      <th>past_covariates_20</th>\n",
       "      <th>past_covariates_21</th>\n",
       "      <th>past_covariates_22</th>\n",
       "      <th>past_covariates_23</th>\n",
       "      <th>past_covariates_24</th>\n",
       "      <th>past_covariates_25</th>\n",
       "      <th>past_covariates_26</th>\n",
       "      <th>past_covariates_27</th>\n",
       "      <th>past_covariates_28</th>\n",
       "      <th>past_covariates_29</th>\n",
       "      <th>past_covariates_30</th>\n",
       "      <th>past_covariates_31</th>\n",
       "      <th>past_covariates_32</th>\n",
       "      <th>past_covariates_33</th>\n",
       "      <th>past_covariates_34</th>\n",
       "      <th>past_covariates_35</th>\n",
       "      <th>past_covariates_36</th>\n",
       "    </tr>\n",
       "  </thead>\n",
       "  <tbody>\n",
       "    <tr>\n",
       "      <th>0</th>\n",
       "      <td>0</td>\n",
       "      <td>0.593933</td>\n",
       "      <td>0.573205</td>\n",
       "      <td>0.662333</td>\n",
       "      <td>0.570379</td>\n",
       "      <td>0.484831</td>\n",
       "      <td>0.468249</td>\n",
       "      <td>0.860373</td>\n",
       "      <td>0.540041</td>\n",
       "      <td>0.581873</td>\n",
       "      <td>0.410025</td>\n",
       "      <td>0.851705</td>\n",
       "      <td>0.769173</td>\n",
       "      <td>2.637460</td>\n",
       "      <td>0.333333</td>\n",
       "      <td>0.0</td>\n",
       "      <td>0.666667</td>\n",
       "      <td>0.000000</td>\n",
       "      <td>0.0</td>\n",
       "      <td>0.000000</td>\n",
       "      <td>0.333333</td>\n",
       "      <td>0.0</td>\n",
       "      <td>0.666667</td>\n",
       "      <td>0.000000</td>\n",
       "      <td>0.0</td>\n",
       "      <td>0.666667</td>\n",
       "      <td>0.000000</td>\n",
       "      <td>0.0</td>\n",
       "      <td>0.000000</td>\n",
       "      <td>0.000000</td>\n",
       "      <td>0.0</td>\n",
       "      <td>0.000000</td>\n",
       "      <td>0.000000</td>\n",
       "      <td>0.0</td>\n",
       "      <td>0.333333</td>\n",
       "      <td>0.333333</td>\n",
       "      <td>0.0</td>\n",
       "      <td>0.333333</td>\n",
       "      <td>0.000000</td>\n",
       "      <td>0.0</td>\n",
       "      <td>0.333333</td>\n",
       "      <td>0.333333</td>\n",
       "      <td>0.0</td>\n",
       "      <td>0.000000</td>\n",
       "      <td>0.333333</td>\n",
       "      <td>0.0</td>\n",
       "      <td>0.000000</td>\n",
       "      <td>0.333333</td>\n",
       "      <td>0.0</td>\n",
       "      <td>0.000000</td>\n",
       "    </tr>\n",
       "    <tr>\n",
       "      <th>1</th>\n",
       "      <td>1</td>\n",
       "      <td>0.801583</td>\n",
       "      <td>0.593933</td>\n",
       "      <td>0.573205</td>\n",
       "      <td>0.662333</td>\n",
       "      <td>0.570379</td>\n",
       "      <td>0.484831</td>\n",
       "      <td>0.468249</td>\n",
       "      <td>0.860373</td>\n",
       "      <td>0.540041</td>\n",
       "      <td>0.581873</td>\n",
       "      <td>0.410025</td>\n",
       "      <td>0.851705</td>\n",
       "      <td>2.865461</td>\n",
       "      <td>0.000000</td>\n",
       "      <td>0.0</td>\n",
       "      <td>0.333333</td>\n",
       "      <td>0.333333</td>\n",
       "      <td>0.0</td>\n",
       "      <td>0.666667</td>\n",
       "      <td>0.000000</td>\n",
       "      <td>0.0</td>\n",
       "      <td>0.000000</td>\n",
       "      <td>0.333333</td>\n",
       "      <td>0.0</td>\n",
       "      <td>0.666667</td>\n",
       "      <td>0.000000</td>\n",
       "      <td>0.0</td>\n",
       "      <td>0.666667</td>\n",
       "      <td>0.000000</td>\n",
       "      <td>0.0</td>\n",
       "      <td>0.000000</td>\n",
       "      <td>0.000000</td>\n",
       "      <td>0.0</td>\n",
       "      <td>0.000000</td>\n",
       "      <td>0.000000</td>\n",
       "      <td>0.0</td>\n",
       "      <td>0.333333</td>\n",
       "      <td>0.333333</td>\n",
       "      <td>0.0</td>\n",
       "      <td>0.333333</td>\n",
       "      <td>0.000000</td>\n",
       "      <td>0.0</td>\n",
       "      <td>0.333333</td>\n",
       "      <td>0.333333</td>\n",
       "      <td>0.0</td>\n",
       "      <td>0.000000</td>\n",
       "      <td>0.333333</td>\n",
       "      <td>0.0</td>\n",
       "      <td>0.000000</td>\n",
       "    </tr>\n",
       "    <tr>\n",
       "      <th>2</th>\n",
       "      <td>2</td>\n",
       "      <td>0.600716</td>\n",
       "      <td>0.801583</td>\n",
       "      <td>0.593933</td>\n",
       "      <td>0.573205</td>\n",
       "      <td>0.662333</td>\n",
       "      <td>0.570379</td>\n",
       "      <td>0.484831</td>\n",
       "      <td>0.468249</td>\n",
       "      <td>0.860373</td>\n",
       "      <td>0.540041</td>\n",
       "      <td>0.581873</td>\n",
       "      <td>0.410025</td>\n",
       "      <td>3.120219</td>\n",
       "      <td>0.333333</td>\n",
       "      <td>0.0</td>\n",
       "      <td>0.000000</td>\n",
       "      <td>0.000000</td>\n",
       "      <td>0.0</td>\n",
       "      <td>0.333333</td>\n",
       "      <td>0.333333</td>\n",
       "      <td>0.0</td>\n",
       "      <td>0.666667</td>\n",
       "      <td>0.000000</td>\n",
       "      <td>0.0</td>\n",
       "      <td>0.000000</td>\n",
       "      <td>0.333333</td>\n",
       "      <td>0.0</td>\n",
       "      <td>0.666667</td>\n",
       "      <td>0.000000</td>\n",
       "      <td>0.0</td>\n",
       "      <td>0.666667</td>\n",
       "      <td>0.000000</td>\n",
       "      <td>0.0</td>\n",
       "      <td>0.000000</td>\n",
       "      <td>0.000000</td>\n",
       "      <td>0.0</td>\n",
       "      <td>0.000000</td>\n",
       "      <td>0.000000</td>\n",
       "      <td>0.0</td>\n",
       "      <td>0.333333</td>\n",
       "      <td>0.333333</td>\n",
       "      <td>0.0</td>\n",
       "      <td>0.333333</td>\n",
       "      <td>0.000000</td>\n",
       "      <td>0.0</td>\n",
       "      <td>0.333333</td>\n",
       "      <td>0.333333</td>\n",
       "      <td>0.0</td>\n",
       "      <td>0.000000</td>\n",
       "    </tr>\n",
       "    <tr>\n",
       "      <th>3</th>\n",
       "      <td>3</td>\n",
       "      <td>0.537969</td>\n",
       "      <td>0.600716</td>\n",
       "      <td>0.801583</td>\n",
       "      <td>0.593933</td>\n",
       "      <td>0.573205</td>\n",
       "      <td>0.662333</td>\n",
       "      <td>0.570379</td>\n",
       "      <td>0.484831</td>\n",
       "      <td>0.468249</td>\n",
       "      <td>0.860373</td>\n",
       "      <td>0.540041</td>\n",
       "      <td>0.581873</td>\n",
       "      <td>2.885058</td>\n",
       "      <td>0.000000</td>\n",
       "      <td>0.0</td>\n",
       "      <td>0.000000</td>\n",
       "      <td>0.333333</td>\n",
       "      <td>0.0</td>\n",
       "      <td>0.000000</td>\n",
       "      <td>0.000000</td>\n",
       "      <td>0.0</td>\n",
       "      <td>0.333333</td>\n",
       "      <td>0.333333</td>\n",
       "      <td>0.0</td>\n",
       "      <td>0.666667</td>\n",
       "      <td>0.000000</td>\n",
       "      <td>0.0</td>\n",
       "      <td>0.000000</td>\n",
       "      <td>0.333333</td>\n",
       "      <td>0.0</td>\n",
       "      <td>0.666667</td>\n",
       "      <td>0.000000</td>\n",
       "      <td>0.0</td>\n",
       "      <td>0.666667</td>\n",
       "      <td>0.000000</td>\n",
       "      <td>0.0</td>\n",
       "      <td>0.000000</td>\n",
       "      <td>0.000000</td>\n",
       "      <td>0.0</td>\n",
       "      <td>0.000000</td>\n",
       "      <td>0.000000</td>\n",
       "      <td>0.0</td>\n",
       "      <td>0.333333</td>\n",
       "      <td>0.333333</td>\n",
       "      <td>0.0</td>\n",
       "      <td>0.333333</td>\n",
       "      <td>0.000000</td>\n",
       "      <td>0.0</td>\n",
       "      <td>0.333333</td>\n",
       "    </tr>\n",
       "    <tr>\n",
       "      <th>4</th>\n",
       "      <td>4</td>\n",
       "      <td>0.556058</td>\n",
       "      <td>0.537969</td>\n",
       "      <td>0.600716</td>\n",
       "      <td>0.801583</td>\n",
       "      <td>0.593933</td>\n",
       "      <td>0.573205</td>\n",
       "      <td>0.662333</td>\n",
       "      <td>0.570379</td>\n",
       "      <td>0.484831</td>\n",
       "      <td>0.468249</td>\n",
       "      <td>0.860373</td>\n",
       "      <td>0.540041</td>\n",
       "      <td>2.612776</td>\n",
       "      <td>0.000000</td>\n",
       "      <td>0.0</td>\n",
       "      <td>0.000000</td>\n",
       "      <td>0.000000</td>\n",
       "      <td>0.0</td>\n",
       "      <td>0.000000</td>\n",
       "      <td>0.333333</td>\n",
       "      <td>0.0</td>\n",
       "      <td>0.000000</td>\n",
       "      <td>0.000000</td>\n",
       "      <td>0.0</td>\n",
       "      <td>0.333333</td>\n",
       "      <td>0.333333</td>\n",
       "      <td>0.0</td>\n",
       "      <td>0.666667</td>\n",
       "      <td>0.000000</td>\n",
       "      <td>0.0</td>\n",
       "      <td>0.000000</td>\n",
       "      <td>0.333333</td>\n",
       "      <td>0.0</td>\n",
       "      <td>0.666667</td>\n",
       "      <td>0.000000</td>\n",
       "      <td>0.0</td>\n",
       "      <td>0.666667</td>\n",
       "      <td>0.000000</td>\n",
       "      <td>0.0</td>\n",
       "      <td>0.000000</td>\n",
       "      <td>0.000000</td>\n",
       "      <td>0.0</td>\n",
       "      <td>0.000000</td>\n",
       "      <td>0.000000</td>\n",
       "      <td>0.0</td>\n",
       "      <td>0.333333</td>\n",
       "      <td>0.333333</td>\n",
       "      <td>0.0</td>\n",
       "      <td>0.333333</td>\n",
       "    </tr>\n",
       "  </tbody>\n",
       "</table>\n",
       "</div>"
      ],
      "text/plain": [
       "   sample  past_target_1  ...  past_covariates_35  past_covariates_36\n",
       "0       0       0.593933  ...                 0.0            0.000000\n",
       "1       1       0.801583  ...                 0.0            0.000000\n",
       "2       2       0.600716  ...                 0.0            0.000000\n",
       "3       3       0.537969  ...                 0.0            0.333333\n",
       "4       4       0.556058  ...                 0.0            0.333333\n",
       "\n",
       "[5 rows x 50 columns]"
      ]
     },
     "execution_count": 56,
     "metadata": {},
     "output_type": "execute_result"
    }
   ],
   "source": [
    "df_window = dataset_aggregate.to_dataframe()\n",
    "df_window.head()"
   ]
  },
  {
   "cell_type": "markdown",
   "id": "6b0f9f7d",
   "metadata": {},
   "source": [
    "### Instantiate & Fit model"
   ]
  },
  {
   "cell_type": "code",
   "execution_count": 9,
   "id": "3a06acf5",
   "metadata": {},
   "outputs": [],
   "source": [
    "add_encoders = {\n",
    "    'cyclic': {'future': ['month']},   # this will add sin/cos month features\n",
    "    'datetime_attribute': {'future': ['year', 'month', 'weekofyear']},  # optional, if you also want year, week etc.\n",
    "}"
   ]
  },
  {
   "cell_type": "code",
   "execution_count": null,
   "id": "cdb64959",
   "metadata": {},
   "outputs": [
    {
     "name": "stderr",
     "output_type": "stream",
     "text": [
      "GPU available: True (mps), used: True\n",
      "TPU available: False, using: 0 TPU cores\n",
      "HPU available: False, using: 0 HPUs\n",
      "\n",
      "  | Name            | Type             | Params | Mode \n",
      "-------------------------------------------------------------\n",
      "0 | criterion       | MSELoss          | 0      | train\n",
      "1 | train_criterion | MSELoss          | 0      | train\n",
      "2 | val_criterion   | MSELoss          | 0      | train\n",
      "3 | train_metrics   | MetricCollection | 0      | train\n",
      "4 | val_metrics     | MetricCollection | 0      | train\n",
      "5 | stacks          | ModuleList       | 6.4 M  | train\n",
      "-------------------------------------------------------------\n",
      "6.4 M     Trainable params\n",
      "1.6 K     Non-trainable params\n",
      "6.4 M     Total params\n",
      "25.545    Total estimated model params size (MB)\n",
      "396       Modules in train mode\n",
      "0         Modules in eval mode\n"
     ]
    },
    {
     "data": {
      "application/vnd.jupyter.widget-view+json": {
       "model_id": "e3cbe56b820c4f0f9eb5496083b818c4",
       "version_major": 2,
       "version_minor": 0
      },
      "text/plain": [
       "Training: |          | 0/? [00:00<?, ?it/s]"
      ]
     },
     "metadata": {},
     "output_type": "display_data"
    },
    {
     "name": "stderr",
     "output_type": "stream",
     "text": [
      "`Trainer.fit` stopped: `max_epochs=10` reached.\n",
      "GPU available: True (mps), used: True\n",
      "TPU available: False, using: 0 TPU cores\n",
      "HPU available: False, using: 0 HPUs\n"
     ]
    },
    {
     "data": {
      "application/vnd.jupyter.widget-view+json": {
       "model_id": "9fc3ab5447dc4b028ca4e5e88053af7d",
       "version_major": 2,
       "version_minor": 0
      },
      "text/plain": [
       "Predicting: |          | 0/? [00:00<?, ?it/s]"
      ]
     },
     "metadata": {},
     "output_type": "display_data"
    },
    {
     "name": "stdout",
     "output_type": "stream",
     "text": [
      "<TimeSeries (DataArray) (Week: 4, component: 1, sample: 1)> Size: 16B\n",
      "array([[[0.6388899 ]],\n",
      "\n",
      "       [[0.71163917]],\n",
      "\n",
      "       [[0.72174066]],\n",
      "\n",
      "       [[0.6380856 ]]], dtype=float32)\n",
      "Coordinates:\n",
      "  * Week       (Week) datetime64[ns] 32B 2023-08-21 2023-08-28 ... 2023-09-11\n",
      "  * component  (component) object 8B 'Units Sold'\n",
      "Dimensions without coordinates: sample\n",
      "Attributes:\n",
      "    static_covariates:  None\n",
      "    hierarchy:          None\n"
     ]
    }
   ],
   "source": [
    "model_nbeats = NBEATSModel(\n",
    "    input_chunk_length=12,\n",
    "    output_chunk_length=4,\n",
    "    add_encoders=add_encoders, \n",
    "    n_epochs=10, \n",
    ")\n",
    "model_nbeats.fit_from_dataset(dataset, verbose=True)\n",
    "\n",
    "# === Print forecast ===\n",
    "forecast_horizon = 4\n",
    "pred = model_nbeats.predict(n=forecast_horizon, \n",
    "                    series=train_series_scaled,\n",
    "                    past_covariates=past_covariates_scaled)\n",
    "print(pred[0])"
   ]
  },
  {
   "cell_type": "code",
   "execution_count": null,
   "id": "e637b4a8",
   "metadata": {},
   "outputs": [
    {
     "name": "stderr",
     "output_type": "stream",
     "text": [
      "GPU available: True (mps), used: True\n",
      "TPU available: False, using: 0 TPU cores\n",
      "HPU available: False, using: 0 HPUs\n"
     ]
    },
    {
     "data": {
      "application/vnd.jupyter.widget-view+json": {
       "model_id": "5986a0af7c48430baa6c1790eabf8eb6",
       "version_major": 2,
       "version_minor": 0
      },
      "text/plain": [
       "Predicting: |          | 0/? [00:00<?, ?it/s]"
      ]
     },
     "metadata": {},
     "output_type": "display_data"
    },
    {
     "name": "stdout",
     "output_type": "stream",
     "text": [
      "<TimeSeries (DataArray) (Week: 1, component: 1, sample: 1)> Size: 4B\n",
      "array([[[2.5738595]]], dtype=float32)\n",
      "Coordinates:\n",
      "  * Week       (Week) datetime64[ns] 8B 2023-08-21\n",
      "  * component  (component) object 8B 'Units Sold'\n",
      "Dimensions without coordinates: sample\n",
      "Attributes:\n",
      "    static_covariates:  None\n",
      "    hierarchy:          None\n"
     ]
    }
   ],
   "source": [
    "model_nbeats_aggregate = NBEATSModel(\n",
    "    input_chunk_length=12,\n",
    "    output_chunk_length=1,   # Aggregate to 1 month\n",
    "    add_encoders=add_encoders, \n",
    "    n_epochs=10, \n",
    ")\n",
    "model_nbeats_aggregate.fit_from_dataset(dataset_aggregate, verbose=True)  # Fit on the aggregated dataset\n",
    "\n",
    "# === Print forecast ===\n",
    "forecast_horizon = 1  # Aggregate to 1 month\n",
    "pred = model_nbeats_aggregate.predict(n=forecast_horizon, \n",
    "                    series=train_series_scaled,\n",
    "                    past_covariates=past_covariates_scaled)\n",
    "print(pred[0])"
   ]
  },
  {
   "cell_type": "code",
   "execution_count": null,
   "id": "99d6f8cf",
   "metadata": {},
   "outputs": [
    {
     "name": "stdout",
     "output_type": "stream",
     "text": [
      "<TimeSeries (DataArray) (Week: 4, component: 1, sample: 1)> Size: 16B\n",
      "array([[[0.65983105]],\n",
      "\n",
      "       [[0.7807355 ]],\n",
      "\n",
      "       [[0.2835676 ]],\n",
      "\n",
      "       [[0.6193588 ]]], dtype=float32)\n",
      "Coordinates:\n",
      "  * Week       (Week) datetime64[ns] 32B 2023-08-21 2023-08-28 ... 2023-09-11\n",
      "  * component  (component) object 8B 'Units Sold'\n",
      "Dimensions without coordinates: sample\n",
      "Attributes:\n",
      "    static_covariates:  None\n",
      "    hierarchy:          None\n"
     ]
    }
   ],
   "source": [
    "model_rnn = BlockRNNModel(\n",
    "    model=\"LSTM\",              \n",
    "    input_chunk_length=12,     \n",
    "    output_chunk_length=4,\n",
    "    n_epochs=10,             \n",
    "    likelihood=GaussianLikelihood(),     \n",
    "    add_encoders=add_encoders, \n",
    ")\n",
    "model_rnn.fit_from_dataset(dataset, verbose=True)\n",
    "\n",
    "# === Print forecast ===\n",
    "forecast_horizon = 4\n",
    "pred = model_rnn.predict(n=forecast_horizon, \n",
    "                    series=train_series_scaled,\n",
    "                    past_covariates=past_covariates_scaled)\n",
    "print(pred[0])"
   ]
  },
  {
   "cell_type": "code",
   "execution_count": 18,
   "id": "8c18264f",
   "metadata": {},
   "outputs": [
    {
     "name": "stderr",
     "output_type": "stream",
     "text": [
      "GPU available: True (mps), used: True\n",
      "TPU available: False, using: 0 TPU cores\n",
      "HPU available: False, using: 0 HPUs\n",
      "\n",
      "  | Name            | Type             | Params | Mode \n",
      "-------------------------------------------------------------\n",
      "0 | criterion       | MSELoss          | 0      | train\n",
      "1 | train_criterion | MSELoss          | 0      | train\n",
      "2 | val_criterion   | MSELoss          | 0      | train\n",
      "3 | train_metrics   | MetricCollection | 0      | train\n",
      "4 | val_metrics     | MetricCollection | 0      | train\n",
      "5 | rnn             | LSTM             | 3.1 K  | train\n",
      "6 | fc              | Sequential       | 52     | train\n",
      "-------------------------------------------------------------\n",
      "3.2 K     Trainable params\n",
      "0         Non-trainable params\n",
      "3.2 K     Total params\n",
      "0.013     Total estimated model params size (MB)\n",
      "8         Modules in train mode\n",
      "0         Modules in eval mode\n"
     ]
    },
    {
     "data": {
      "application/vnd.jupyter.widget-view+json": {
       "model_id": "df6b07f5c05948f3831f5494a8fd2433",
       "version_major": 2,
       "version_minor": 0
      },
      "text/plain": [
       "Training: |          | 0/? [00:00<?, ?it/s]"
      ]
     },
     "metadata": {},
     "output_type": "display_data"
    },
    {
     "name": "stderr",
     "output_type": "stream",
     "text": [
      "`Trainer.fit` stopped: `max_epochs=10` reached.\n",
      "GPU available: True (mps), used: True\n",
      "TPU available: False, using: 0 TPU cores\n",
      "HPU available: False, using: 0 HPUs\n"
     ]
    },
    {
     "data": {
      "application/vnd.jupyter.widget-view+json": {
       "model_id": "62fd59438f474559beedcce7c714c564",
       "version_major": 2,
       "version_minor": 0
      },
      "text/plain": [
       "Predicting: |          | 0/? [00:00<?, ?it/s]"
      ]
     },
     "metadata": {},
     "output_type": "display_data"
    },
    {
     "name": "stdout",
     "output_type": "stream",
     "text": [
      "<TimeSeries (DataArray) (Week: 1, component: 1, sample: 1)> Size: 4B\n",
      "array([[[2.7239957]]], dtype=float32)\n",
      "Coordinates:\n",
      "  * Week       (Week) datetime64[ns] 8B 2023-08-21\n",
      "  * component  (component) object 8B 'Units Sold'\n",
      "Dimensions without coordinates: sample\n",
      "Attributes:\n",
      "    static_covariates:  None\n",
      "    hierarchy:          None\n"
     ]
    }
   ],
   "source": [
    "model_rnn_aggregate = BlockRNNModel(\n",
    "    model=\"LSTM\",              \n",
    "    input_chunk_length=12,     \n",
    "    output_chunk_length=1, # Aggregate to 1 month\n",
    "    n_epochs=10,             \n",
    "    likelihood=GaussianLikelihood(),     \n",
    "    add_encoders=add_encoders, \n",
    ")\n",
    "model_rnn_aggregate.fit_from_dataset(dataset_aggregate, verbose=True)\n",
    "\n",
    "# === Print forecast ===\n",
    "forecast_horizon = 1  # Aggregate to 1 month\n",
    "pred = model_rnn_aggregate.predict(n=forecast_horizon, \n",
    "                    series=train_series_scaled,\n",
    "                    past_covariates=past_covariates_scaled)\n",
    "print(pred[0])"
   ]
  },
  {
   "cell_type": "markdown",
   "id": "1939f4b1",
   "metadata": {},
   "source": [
    "### Evaluate model"
   ]
  },
  {
   "cell_type": "code",
   "execution_count": 34,
   "id": "6e447e92",
   "metadata": {},
   "outputs": [
    {
     "name": "stderr",
     "output_type": "stream",
     "text": [
      "GPU available: True (mps), used: True\n",
      "TPU available: False, using: 0 TPU cores\n",
      "HPU available: False, using: 0 HPUs\n"
     ]
    },
    {
     "data": {
      "application/vnd.jupyter.widget-view+json": {
       "model_id": "706041dfa6ba4c3bb3130493d7ec9222",
       "version_major": 2,
       "version_minor": 0
      },
      "text/plain": [
       "Predicting: |          | 0/? [00:00<?, ?it/s]"
      ]
     },
     "metadata": {},
     "output_type": "display_data"
    },
    {
     "name": "stderr",
     "output_type": "stream",
     "text": [
      "GPU available: True (mps), used: True\n",
      "TPU available: False, using: 0 TPU cores\n",
      "HPU available: False, using: 0 HPUs\n"
     ]
    },
    {
     "name": "stdout",
     "output_type": "stream",
     "text": [
      "NBEATS - Product 0: MAPE = 8.44%  RMSE = 0.2745\n"
     ]
    },
    {
     "data": {
      "application/vnd.jupyter.widget-view+json": {
       "model_id": "c432e114d89143ffb8434a472e4fec24",
       "version_major": 2,
       "version_minor": 0
      },
      "text/plain": [
       "Predicting: |          | 0/? [00:00<?, ?it/s]"
      ]
     },
     "metadata": {},
     "output_type": "display_data"
    },
    {
     "name": "stderr",
     "output_type": "stream",
     "text": [
      "GPU available: True (mps), used: True\n",
      "TPU available: False, using: 0 TPU cores\n",
      "HPU available: False, using: 0 HPUs\n"
     ]
    },
    {
     "name": "stdout",
     "output_type": "stream",
     "text": [
      "NBEATS - Product 1: MAPE = 10.15%  RMSE = 0.2467\n"
     ]
    },
    {
     "data": {
      "application/vnd.jupyter.widget-view+json": {
       "model_id": "9b02561c8ed14d3a9b2ca4ff49e614ac",
       "version_major": 2,
       "version_minor": 0
      },
      "text/plain": [
       "Predicting: |          | 0/? [00:00<?, ?it/s]"
      ]
     },
     "metadata": {},
     "output_type": "display_data"
    },
    {
     "name": "stderr",
     "output_type": "stream",
     "text": [
      "GPU available: True (mps), used: True\n",
      "TPU available: False, using: 0 TPU cores\n",
      "HPU available: False, using: 0 HPUs\n"
     ]
    },
    {
     "name": "stdout",
     "output_type": "stream",
     "text": [
      "NBEATS - Product 2: MAPE = 9.12%  RMSE = 0.2985\n"
     ]
    },
    {
     "data": {
      "application/vnd.jupyter.widget-view+json": {
       "model_id": "fbc1b22e1a9b4e4e84609a3ec9c08a44",
       "version_major": 2,
       "version_minor": 0
      },
      "text/plain": [
       "Predicting: |          | 0/? [00:00<?, ?it/s]"
      ]
     },
     "metadata": {},
     "output_type": "display_data"
    },
    {
     "name": "stderr",
     "output_type": "stream",
     "text": [
      "GPU available: True (mps), used: True\n",
      "TPU available: False, using: 0 TPU cores\n",
      "HPU available: False, using: 0 HPUs\n"
     ]
    },
    {
     "name": "stdout",
     "output_type": "stream",
     "text": [
      "NBEATS - Product 3: MAPE = 12.26%  RMSE = 0.3310\n"
     ]
    },
    {
     "data": {
      "application/vnd.jupyter.widget-view+json": {
       "model_id": "17caba29844e456781184120c9b1b559",
       "version_major": 2,
       "version_minor": 0
      },
      "text/plain": [
       "Predicting: |          | 0/? [00:00<?, ?it/s]"
      ]
     },
     "metadata": {},
     "output_type": "display_data"
    },
    {
     "name": "stderr",
     "output_type": "stream",
     "text": [
      "GPU available: True (mps), used: True\n",
      "TPU available: False, using: 0 TPU cores\n",
      "HPU available: False, using: 0 HPUs\n"
     ]
    },
    {
     "name": "stdout",
     "output_type": "stream",
     "text": [
      "NBEATS - Product 4: MAPE = 6.40%  RMSE = 0.2201\n"
     ]
    },
    {
     "data": {
      "application/vnd.jupyter.widget-view+json": {
       "model_id": "840e1a1935224f05a03e837d22fab5d4",
       "version_major": 2,
       "version_minor": 0
      },
      "text/plain": [
       "Predicting: |          | 0/? [00:00<?, ?it/s]"
      ]
     },
     "metadata": {},
     "output_type": "display_data"
    },
    {
     "name": "stderr",
     "output_type": "stream",
     "text": [
      "GPU available: True (mps), used: True\n",
      "TPU available: False, using: 0 TPU cores\n",
      "HPU available: False, using: 0 HPUs\n"
     ]
    },
    {
     "name": "stdout",
     "output_type": "stream",
     "text": [
      "NBEATS - Product 5: MAPE = 16.16%  RMSE = 0.4448\n"
     ]
    },
    {
     "data": {
      "application/vnd.jupyter.widget-view+json": {
       "model_id": "7dbe4b0074ed467fa60c76a8a1b92005",
       "version_major": 2,
       "version_minor": 0
      },
      "text/plain": [
       "Predicting: |          | 0/? [00:00<?, ?it/s]"
      ]
     },
     "metadata": {},
     "output_type": "display_data"
    },
    {
     "name": "stderr",
     "output_type": "stream",
     "text": [
      "GPU available: True (mps), used: True\n",
      "TPU available: False, using: 0 TPU cores\n",
      "HPU available: False, using: 0 HPUs\n"
     ]
    },
    {
     "name": "stdout",
     "output_type": "stream",
     "text": [
      "NBEATS - Product 6: MAPE = 9.86%  RMSE = 0.3014\n"
     ]
    },
    {
     "data": {
      "application/vnd.jupyter.widget-view+json": {
       "model_id": "8a0d1bebb369455fabd732e5f295a055",
       "version_major": 2,
       "version_minor": 0
      },
      "text/plain": [
       "Predicting: |          | 0/? [00:00<?, ?it/s]"
      ]
     },
     "metadata": {},
     "output_type": "display_data"
    },
    {
     "name": "stderr",
     "output_type": "stream",
     "text": [
      "GPU available: True (mps), used: True\n",
      "TPU available: False, using: 0 TPU cores\n",
      "HPU available: False, using: 0 HPUs\n"
     ]
    },
    {
     "name": "stdout",
     "output_type": "stream",
     "text": [
      "NBEATS - Product 7: MAPE = 16.87%  RMSE = 0.4170\n"
     ]
    },
    {
     "data": {
      "application/vnd.jupyter.widget-view+json": {
       "model_id": "3b46602d56414bed82925e9b18bc44d5",
       "version_major": 2,
       "version_minor": 0
      },
      "text/plain": [
       "Predicting: |          | 0/? [00:00<?, ?it/s]"
      ]
     },
     "metadata": {},
     "output_type": "display_data"
    },
    {
     "name": "stderr",
     "output_type": "stream",
     "text": [
      "GPU available: True (mps), used: True\n",
      "TPU available: False, using: 0 TPU cores\n",
      "HPU available: False, using: 0 HPUs\n"
     ]
    },
    {
     "name": "stdout",
     "output_type": "stream",
     "text": [
      "NBEATS - Product 8: MAPE = 8.49%  RMSE = 0.2762\n"
     ]
    },
    {
     "data": {
      "application/vnd.jupyter.widget-view+json": {
       "model_id": "68d51e7dd3154441adb220352875a435",
       "version_major": 2,
       "version_minor": 0
      },
      "text/plain": [
       "Predicting: |          | 0/? [00:00<?, ?it/s]"
      ]
     },
     "metadata": {},
     "output_type": "display_data"
    },
    {
     "name": "stderr",
     "output_type": "stream",
     "text": [
      "GPU available: True (mps), used: True\n",
      "TPU available: False, using: 0 TPU cores\n",
      "HPU available: False, using: 0 HPUs\n"
     ]
    },
    {
     "name": "stdout",
     "output_type": "stream",
     "text": [
      "NBEATS - Product 9: MAPE = 10.41%  RMSE = 0.3050\n"
     ]
    },
    {
     "data": {
      "application/vnd.jupyter.widget-view+json": {
       "model_id": "653e62078e59408ca3cc675ba0ab91f2",
       "version_major": 2,
       "version_minor": 0
      },
      "text/plain": [
       "Predicting: |          | 0/? [00:00<?, ?it/s]"
      ]
     },
     "metadata": {},
     "output_type": "display_data"
    },
    {
     "name": "stderr",
     "output_type": "stream",
     "text": [
      "GPU available: True (mps), used: True\n",
      "TPU available: False, using: 0 TPU cores\n",
      "HPU available: False, using: 0 HPUs\n"
     ]
    },
    {
     "name": "stdout",
     "output_type": "stream",
     "text": [
      "NBEATS - Product 10: MAPE = 9.40%  RMSE = 0.2947\n"
     ]
    },
    {
     "data": {
      "application/vnd.jupyter.widget-view+json": {
       "model_id": "faecfcef72684e658ce1219a95e9a654",
       "version_major": 2,
       "version_minor": 0
      },
      "text/plain": [
       "Predicting: |          | 0/? [00:00<?, ?it/s]"
      ]
     },
     "metadata": {},
     "output_type": "display_data"
    },
    {
     "name": "stderr",
     "output_type": "stream",
     "text": [
      "GPU available: True (mps), used: True\n",
      "TPU available: False, using: 0 TPU cores\n",
      "HPU available: False, using: 0 HPUs\n"
     ]
    },
    {
     "name": "stdout",
     "output_type": "stream",
     "text": [
      "NBEATS - Product 11: MAPE = 7.41%  RMSE = 0.2194\n"
     ]
    },
    {
     "data": {
      "application/vnd.jupyter.widget-view+json": {
       "model_id": "5dc1e1ab705143e99bdd5f422b98f1f8",
       "version_major": 2,
       "version_minor": 0
      },
      "text/plain": [
       "Predicting: |          | 0/? [00:00<?, ?it/s]"
      ]
     },
     "metadata": {},
     "output_type": "display_data"
    },
    {
     "name": "stderr",
     "output_type": "stream",
     "text": [
      "GPU available: True (mps), used: True\n",
      "TPU available: False, using: 0 TPU cores\n",
      "HPU available: False, using: 0 HPUs\n"
     ]
    },
    {
     "name": "stdout",
     "output_type": "stream",
     "text": [
      "NBEATS - Product 12: MAPE = 11.82%  RMSE = 0.3152\n"
     ]
    },
    {
     "data": {
      "application/vnd.jupyter.widget-view+json": {
       "model_id": "46e0521ce16f464c86eb12915872b3bc",
       "version_major": 2,
       "version_minor": 0
      },
      "text/plain": [
       "Predicting: |          | 0/? [00:00<?, ?it/s]"
      ]
     },
     "metadata": {},
     "output_type": "display_data"
    },
    {
     "name": "stderr",
     "output_type": "stream",
     "text": [
      "GPU available: True (mps), used: True\n",
      "TPU available: False, using: 0 TPU cores\n",
      "HPU available: False, using: 0 HPUs\n"
     ]
    },
    {
     "name": "stdout",
     "output_type": "stream",
     "text": [
      "NBEATS - Product 13: MAPE = 8.39%  RMSE = 0.2621\n"
     ]
    },
    {
     "data": {
      "application/vnd.jupyter.widget-view+json": {
       "model_id": "0640bcae5de9475db9f6776fa57a3ac2",
       "version_major": 2,
       "version_minor": 0
      },
      "text/plain": [
       "Predicting: |          | 0/? [00:00<?, ?it/s]"
      ]
     },
     "metadata": {},
     "output_type": "display_data"
    },
    {
     "name": "stderr",
     "output_type": "stream",
     "text": [
      "GPU available: True (mps), used: True\n",
      "TPU available: False, using: 0 TPU cores\n",
      "HPU available: False, using: 0 HPUs\n"
     ]
    },
    {
     "name": "stdout",
     "output_type": "stream",
     "text": [
      "NBEATS - Product 14: MAPE = 10.31%  RMSE = 0.3221\n"
     ]
    },
    {
     "data": {
      "application/vnd.jupyter.widget-view+json": {
       "model_id": "e7a1bbaa270a4562b4feab39f38b7676",
       "version_major": 2,
       "version_minor": 0
      },
      "text/plain": [
       "Predicting: |          | 0/? [00:00<?, ?it/s]"
      ]
     },
     "metadata": {},
     "output_type": "display_data"
    },
    {
     "name": "stderr",
     "output_type": "stream",
     "text": [
      "GPU available: True (mps), used: True\n",
      "TPU available: False, using: 0 TPU cores\n",
      "HPU available: False, using: 0 HPUs\n"
     ]
    },
    {
     "name": "stdout",
     "output_type": "stream",
     "text": [
      "NBEATS - Product 15: MAPE = 12.51%  RMSE = 0.3731\n"
     ]
    },
    {
     "data": {
      "application/vnd.jupyter.widget-view+json": {
       "model_id": "820967a3681645368142263dc1fb900d",
       "version_major": 2,
       "version_minor": 0
      },
      "text/plain": [
       "Predicting: |          | 0/? [00:00<?, ?it/s]"
      ]
     },
     "metadata": {},
     "output_type": "display_data"
    },
    {
     "name": "stderr",
     "output_type": "stream",
     "text": [
      "GPU available: True (mps), used: True\n",
      "TPU available: False, using: 0 TPU cores\n",
      "HPU available: False, using: 0 HPUs\n"
     ]
    },
    {
     "name": "stdout",
     "output_type": "stream",
     "text": [
      "NBEATS - Product 16: MAPE = 18.36%  RMSE = 0.5762\n"
     ]
    },
    {
     "data": {
      "application/vnd.jupyter.widget-view+json": {
       "model_id": "134632b722344c4194ce6bc9282a3ec3",
       "version_major": 2,
       "version_minor": 0
      },
      "text/plain": [
       "Predicting: |          | 0/? [00:00<?, ?it/s]"
      ]
     },
     "metadata": {},
     "output_type": "display_data"
    },
    {
     "name": "stderr",
     "output_type": "stream",
     "text": [
      "GPU available: True (mps), used: True\n",
      "TPU available: False, using: 0 TPU cores\n",
      "HPU available: False, using: 0 HPUs\n"
     ]
    },
    {
     "name": "stdout",
     "output_type": "stream",
     "text": [
      "NBEATS - Product 17: MAPE = 10.74%  RMSE = 0.3618\n"
     ]
    },
    {
     "data": {
      "application/vnd.jupyter.widget-view+json": {
       "model_id": "da6ca633d0fc444a980ec72516f1483b",
       "version_major": 2,
       "version_minor": 0
      },
      "text/plain": [
       "Predicting: |          | 0/? [00:00<?, ?it/s]"
      ]
     },
     "metadata": {},
     "output_type": "display_data"
    },
    {
     "name": "stderr",
     "output_type": "stream",
     "text": [
      "GPU available: True (mps), used: True\n",
      "TPU available: False, using: 0 TPU cores\n",
      "HPU available: False, using: 0 HPUs\n"
     ]
    },
    {
     "name": "stdout",
     "output_type": "stream",
     "text": [
      "NBEATS - Product 18: MAPE = 18.91%  RMSE = 0.5553\n"
     ]
    },
    {
     "data": {
      "application/vnd.jupyter.widget-view+json": {
       "model_id": "07fe70b5fa0d41a083f1facb521b945e",
       "version_major": 2,
       "version_minor": 0
      },
      "text/plain": [
       "Predicting: |          | 0/? [00:00<?, ?it/s]"
      ]
     },
     "metadata": {},
     "output_type": "display_data"
    },
    {
     "name": "stdout",
     "output_type": "stream",
     "text": [
      "NBEATS - Product 19: MAPE = 17.57%  RMSE = 0.5064\n"
     ]
    },
    {
     "name": "stderr",
     "output_type": "stream",
     "text": [
      "GPU available: True (mps), used: True\n",
      "TPU available: False, using: 0 TPU cores\n",
      "HPU available: False, using: 0 HPUs\n"
     ]
    },
    {
     "data": {
      "application/vnd.jupyter.widget-view+json": {
       "model_id": "3e8a639c4f604751ab871c7e904ba6db",
       "version_major": 2,
       "version_minor": 0
      },
      "text/plain": [
       "Predicting: |          | 0/? [00:00<?, ?it/s]"
      ]
     },
     "metadata": {},
     "output_type": "display_data"
    },
    {
     "name": "stderr",
     "output_type": "stream",
     "text": [
      "GPU available: True (mps), used: True\n",
      "TPU available: False, using: 0 TPU cores\n",
      "HPU available: False, using: 0 HPUs\n"
     ]
    },
    {
     "name": "stdout",
     "output_type": "stream",
     "text": [
      "RNN - Product 0: MAPE = 15.15%  RMSE = 0.4464\n"
     ]
    },
    {
     "data": {
      "application/vnd.jupyter.widget-view+json": {
       "model_id": "850e1d0b12774348b87cc0310c6c1ef8",
       "version_major": 2,
       "version_minor": 0
      },
      "text/plain": [
       "Predicting: |          | 0/? [00:00<?, ?it/s]"
      ]
     },
     "metadata": {},
     "output_type": "display_data"
    },
    {
     "name": "stderr",
     "output_type": "stream",
     "text": [
      "GPU available: True (mps), used: True\n",
      "TPU available: False, using: 0 TPU cores\n",
      "HPU available: False, using: 0 HPUs\n"
     ]
    },
    {
     "name": "stdout",
     "output_type": "stream",
     "text": [
      "RNN - Product 1: MAPE = 30.76%  RMSE = 0.7175\n"
     ]
    },
    {
     "data": {
      "application/vnd.jupyter.widget-view+json": {
       "model_id": "be942be5aca54a9abcecedbde00389cf",
       "version_major": 2,
       "version_minor": 0
      },
      "text/plain": [
       "Predicting: |          | 0/? [00:00<?, ?it/s]"
      ]
     },
     "metadata": {},
     "output_type": "display_data"
    },
    {
     "name": "stderr",
     "output_type": "stream",
     "text": [
      "GPU available: True (mps), used: True\n",
      "TPU available: False, using: 0 TPU cores\n",
      "HPU available: False, using: 0 HPUs\n"
     ]
    },
    {
     "name": "stdout",
     "output_type": "stream",
     "text": [
      "RNN - Product 2: MAPE = 18.27%  RMSE = 0.5231\n"
     ]
    },
    {
     "data": {
      "application/vnd.jupyter.widget-view+json": {
       "model_id": "a0c12af45879497193c1a3242a596ee0",
       "version_major": 2,
       "version_minor": 0
      },
      "text/plain": [
       "Predicting: |          | 0/? [00:00<?, ?it/s]"
      ]
     },
     "metadata": {},
     "output_type": "display_data"
    },
    {
     "name": "stderr",
     "output_type": "stream",
     "text": [
      "GPU available: True (mps), used: True\n",
      "TPU available: False, using: 0 TPU cores\n",
      "HPU available: False, using: 0 HPUs\n"
     ]
    },
    {
     "name": "stdout",
     "output_type": "stream",
     "text": [
      "RNN - Product 3: MAPE = 14.87%  RMSE = 0.3881\n"
     ]
    },
    {
     "data": {
      "application/vnd.jupyter.widget-view+json": {
       "model_id": "bcbcb1a1591a4eb3bb14717d00725b26",
       "version_major": 2,
       "version_minor": 0
      },
      "text/plain": [
       "Predicting: |          | 0/? [00:00<?, ?it/s]"
      ]
     },
     "metadata": {},
     "output_type": "display_data"
    },
    {
     "name": "stderr",
     "output_type": "stream",
     "text": [
      "GPU available: True (mps), used: True\n",
      "TPU available: False, using: 0 TPU cores\n",
      "HPU available: False, using: 0 HPUs\n"
     ]
    },
    {
     "name": "stdout",
     "output_type": "stream",
     "text": [
      "RNN - Product 4: MAPE = 12.10%  RMSE = 0.3602\n"
     ]
    },
    {
     "data": {
      "application/vnd.jupyter.widget-view+json": {
       "model_id": "8c0c542ee3cc4cafa814ce881b244cf1",
       "version_major": 2,
       "version_minor": 0
      },
      "text/plain": [
       "Predicting: |          | 0/? [00:00<?, ?it/s]"
      ]
     },
     "metadata": {},
     "output_type": "display_data"
    },
    {
     "name": "stderr",
     "output_type": "stream",
     "text": [
      "GPU available: True (mps), used: True\n",
      "TPU available: False, using: 0 TPU cores\n",
      "HPU available: False, using: 0 HPUs\n"
     ]
    },
    {
     "name": "stdout",
     "output_type": "stream",
     "text": [
      "RNN - Product 5: MAPE = 14.16%  RMSE = 0.4089\n"
     ]
    },
    {
     "data": {
      "application/vnd.jupyter.widget-view+json": {
       "model_id": "fbab607edd1348afa54cfa76c33ff87d",
       "version_major": 2,
       "version_minor": 0
      },
      "text/plain": [
       "Predicting: |          | 0/? [00:00<?, ?it/s]"
      ]
     },
     "metadata": {},
     "output_type": "display_data"
    },
    {
     "name": "stderr",
     "output_type": "stream",
     "text": [
      "GPU available: True (mps), used: True\n",
      "TPU available: False, using: 0 TPU cores\n",
      "HPU available: False, using: 0 HPUs\n"
     ]
    },
    {
     "name": "stdout",
     "output_type": "stream",
     "text": [
      "RNN - Product 6: MAPE = 14.24%  RMSE = 0.4251\n"
     ]
    },
    {
     "data": {
      "application/vnd.jupyter.widget-view+json": {
       "model_id": "d2c0470e1f644c5c97393309abbb10d1",
       "version_major": 2,
       "version_minor": 0
      },
      "text/plain": [
       "Predicting: |          | 0/? [00:00<?, ?it/s]"
      ]
     },
     "metadata": {},
     "output_type": "display_data"
    },
    {
     "name": "stderr",
     "output_type": "stream",
     "text": [
      "GPU available: True (mps), used: True\n",
      "TPU available: False, using: 0 TPU cores\n",
      "HPU available: False, using: 0 HPUs\n"
     ]
    },
    {
     "name": "stdout",
     "output_type": "stream",
     "text": [
      "RNN - Product 7: MAPE = 17.41%  RMSE = 0.4641\n"
     ]
    },
    {
     "data": {
      "application/vnd.jupyter.widget-view+json": {
       "model_id": "38fea5ff971b48ee99b162bf615a9045",
       "version_major": 2,
       "version_minor": 0
      },
      "text/plain": [
       "Predicting: |          | 0/? [00:00<?, ?it/s]"
      ]
     },
     "metadata": {},
     "output_type": "display_data"
    },
    {
     "name": "stderr",
     "output_type": "stream",
     "text": [
      "GPU available: True (mps), used: True\n",
      "TPU available: False, using: 0 TPU cores\n",
      "HPU available: False, using: 0 HPUs\n"
     ]
    },
    {
     "name": "stdout",
     "output_type": "stream",
     "text": [
      "RNN - Product 8: MAPE = 9.23%  RMSE = 0.2845\n"
     ]
    },
    {
     "data": {
      "application/vnd.jupyter.widget-view+json": {
       "model_id": "08c5129ffdf74b7e866b0749f0bc52eb",
       "version_major": 2,
       "version_minor": 0
      },
      "text/plain": [
       "Predicting: |          | 0/? [00:00<?, ?it/s]"
      ]
     },
     "metadata": {},
     "output_type": "display_data"
    },
    {
     "name": "stderr",
     "output_type": "stream",
     "text": [
      "GPU available: True (mps), used: True\n",
      "TPU available: False, using: 0 TPU cores\n",
      "HPU available: False, using: 0 HPUs\n"
     ]
    },
    {
     "name": "stdout",
     "output_type": "stream",
     "text": [
      "RNN - Product 9: MAPE = 8.33%  RMSE = 0.2709\n"
     ]
    },
    {
     "data": {
      "application/vnd.jupyter.widget-view+json": {
       "model_id": "e3d70ea85ab04d438fe215362fb043f7",
       "version_major": 2,
       "version_minor": 0
      },
      "text/plain": [
       "Predicting: |          | 0/? [00:00<?, ?it/s]"
      ]
     },
     "metadata": {},
     "output_type": "display_data"
    },
    {
     "name": "stderr",
     "output_type": "stream",
     "text": [
      "GPU available: True (mps), used: True\n",
      "TPU available: False, using: 0 TPU cores\n",
      "HPU available: False, using: 0 HPUs\n"
     ]
    },
    {
     "name": "stdout",
     "output_type": "stream",
     "text": [
      "RNN - Product 10: MAPE = 13.79%  RMSE = 0.4474\n"
     ]
    },
    {
     "data": {
      "application/vnd.jupyter.widget-view+json": {
       "model_id": "d05b56018198433ea41808fdcc5d2597",
       "version_major": 2,
       "version_minor": 0
      },
      "text/plain": [
       "Predicting: |          | 0/? [00:00<?, ?it/s]"
      ]
     },
     "metadata": {},
     "output_type": "display_data"
    },
    {
     "name": "stderr",
     "output_type": "stream",
     "text": [
      "GPU available: True (mps), used: True\n",
      "TPU available: False, using: 0 TPU cores\n",
      "HPU available: False, using: 0 HPUs\n"
     ]
    },
    {
     "name": "stdout",
     "output_type": "stream",
     "text": [
      "RNN - Product 11: MAPE = 14.51%  RMSE = 0.4781\n"
     ]
    },
    {
     "data": {
      "application/vnd.jupyter.widget-view+json": {
       "model_id": "61bf104899e24f1586f6cde637c9efc8",
       "version_major": 2,
       "version_minor": 0
      },
      "text/plain": [
       "Predicting: |          | 0/? [00:00<?, ?it/s]"
      ]
     },
     "metadata": {},
     "output_type": "display_data"
    },
    {
     "name": "stderr",
     "output_type": "stream",
     "text": [
      "GPU available: True (mps), used: True\n",
      "TPU available: False, using: 0 TPU cores\n",
      "HPU available: False, using: 0 HPUs\n"
     ]
    },
    {
     "name": "stdout",
     "output_type": "stream",
     "text": [
      "RNN - Product 12: MAPE = 20.47%  RMSE = 0.5248\n"
     ]
    },
    {
     "data": {
      "application/vnd.jupyter.widget-view+json": {
       "model_id": "93160213f513470c91f1ab75f369e796",
       "version_major": 2,
       "version_minor": 0
      },
      "text/plain": [
       "Predicting: |          | 0/? [00:00<?, ?it/s]"
      ]
     },
     "metadata": {},
     "output_type": "display_data"
    },
    {
     "name": "stderr",
     "output_type": "stream",
     "text": [
      "GPU available: True (mps), used: True\n",
      "TPU available: False, using: 0 TPU cores\n",
      "HPU available: False, using: 0 HPUs\n"
     ]
    },
    {
     "name": "stdout",
     "output_type": "stream",
     "text": [
      "RNN - Product 13: MAPE = 11.00%  RMSE = 0.3547\n"
     ]
    },
    {
     "data": {
      "application/vnd.jupyter.widget-view+json": {
       "model_id": "407c386e0ee84c3bb0b1596828cc0bb5",
       "version_major": 2,
       "version_minor": 0
      },
      "text/plain": [
       "Predicting: |          | 0/? [00:00<?, ?it/s]"
      ]
     },
     "metadata": {},
     "output_type": "display_data"
    },
    {
     "name": "stderr",
     "output_type": "stream",
     "text": [
      "GPU available: True (mps), used: True\n",
      "TPU available: False, using: 0 TPU cores\n",
      "HPU available: False, using: 0 HPUs\n"
     ]
    },
    {
     "name": "stdout",
     "output_type": "stream",
     "text": [
      "RNN - Product 14: MAPE = 12.88%  RMSE = 0.3738\n"
     ]
    },
    {
     "data": {
      "application/vnd.jupyter.widget-view+json": {
       "model_id": "ac32fdcca4ff4cb4a7a5e36c0694c326",
       "version_major": 2,
       "version_minor": 0
      },
      "text/plain": [
       "Predicting: |          | 0/? [00:00<?, ?it/s]"
      ]
     },
     "metadata": {},
     "output_type": "display_data"
    },
    {
     "name": "stderr",
     "output_type": "stream",
     "text": [
      "GPU available: True (mps), used: True\n",
      "TPU available: False, using: 0 TPU cores\n",
      "HPU available: False, using: 0 HPUs\n"
     ]
    },
    {
     "name": "stdout",
     "output_type": "stream",
     "text": [
      "RNN - Product 15: MAPE = 21.97%  RMSE = 0.5948\n"
     ]
    },
    {
     "data": {
      "application/vnd.jupyter.widget-view+json": {
       "model_id": "38dcf7d3624248b895d0682413fe760b",
       "version_major": 2,
       "version_minor": 0
      },
      "text/plain": [
       "Predicting: |          | 0/? [00:00<?, ?it/s]"
      ]
     },
     "metadata": {},
     "output_type": "display_data"
    },
    {
     "name": "stderr",
     "output_type": "stream",
     "text": [
      "GPU available: True (mps), used: True\n",
      "TPU available: False, using: 0 TPU cores\n",
      "HPU available: False, using: 0 HPUs\n"
     ]
    },
    {
     "name": "stdout",
     "output_type": "stream",
     "text": [
      "RNN - Product 16: MAPE = 21.57%  RMSE = 0.6314\n"
     ]
    },
    {
     "data": {
      "application/vnd.jupyter.widget-view+json": {
       "model_id": "d6d050aaa7aa406b8597eb21ab21c421",
       "version_major": 2,
       "version_minor": 0
      },
      "text/plain": [
       "Predicting: |          | 0/? [00:00<?, ?it/s]"
      ]
     },
     "metadata": {},
     "output_type": "display_data"
    },
    {
     "name": "stdout",
     "output_type": "stream",
     "text": [
      "RNN - Product 17: MAPE = 13.86%  RMSE = 0.4199\n"
     ]
    },
    {
     "name": "stderr",
     "output_type": "stream",
     "text": [
      "GPU available: True (mps), used: True\n",
      "TPU available: False, using: 0 TPU cores\n",
      "HPU available: False, using: 0 HPUs\n"
     ]
    },
    {
     "data": {
      "application/vnd.jupyter.widget-view+json": {
       "model_id": "1b050e3b8c324c19b5b7ba91f27c8c85",
       "version_major": 2,
       "version_minor": 0
      },
      "text/plain": [
       "Predicting: |          | 0/? [00:00<?, ?it/s]"
      ]
     },
     "metadata": {},
     "output_type": "display_data"
    },
    {
     "name": "stderr",
     "output_type": "stream",
     "text": [
      "GPU available: True (mps), used: True\n",
      "TPU available: False, using: 0 TPU cores\n",
      "HPU available: False, using: 0 HPUs\n"
     ]
    },
    {
     "name": "stdout",
     "output_type": "stream",
     "text": [
      "RNN - Product 18: MAPE = 12.80%  RMSE = 0.4643\n"
     ]
    },
    {
     "data": {
      "application/vnd.jupyter.widget-view+json": {
       "model_id": "e80960250bf34142a9de33e82c06e56a",
       "version_major": 2,
       "version_minor": 0
      },
      "text/plain": [
       "Predicting: |          | 0/? [00:00<?, ?it/s]"
      ]
     },
     "metadata": {},
     "output_type": "display_data"
    },
    {
     "name": "stdout",
     "output_type": "stream",
     "text": [
      "RNN - Product 19: MAPE = 9.60%  RMSE = 0.3233\n"
     ]
    }
   ],
   "source": [
    "output_dir = 'models_test'\n",
    "\n",
    "models = [model_nbeats, model_rnn]\n",
    "model_names = ['NBEATS', 'RNN' ]\n",
    "\n",
    "metrics = []\n",
    "\n",
    "for model, model_name in zip(models, model_names):  # for each model\n",
    "    model_dir = os.path.join(output_dir, model_name)\n",
    "    os.makedirs(model_dir, exist_ok=True)\n",
    "\n",
    "    for idx, full_ts in enumerate(full_series_scaled):  # for each product\n",
    "        forecast = model.historical_forecasts(\n",
    "            series=full_ts,\n",
    "            past_covariates=past_covariates_scaled[idx],\n",
    "            start=train_series_scaled[idx].end_time(),\n",
    "            forecast_horizon= 4, \n",
    "            retrain=False,\n",
    "            verbose=True\n",
    "        )\n",
    "\n",
    "        test_slice = full_ts.slice_intersect(forecast)\n",
    "        truth_df = test_slice.pd_dataframe()\n",
    "        forecast_df = forecast.pd_dataframe()\n",
    "        forecast_df.to_csv(os.path.join(model_dir, f'forecast_product_{idx}.csv'))\n",
    "        truth_df.to_csv(os.path.join(model_dir, f'ground_truth_product_{idx}.csv'))\n",
    "\n",
    "        # Compute future 4 weeks\n",
    "        truth_df['Future_4Week_Sum'] = (\n",
    "            truth_df['Units Sold'][::-1]\n",
    "            .rolling(window=4)\n",
    "            .sum()[::-1]\n",
    "        )\n",
    "        truth = TimeSeries.from_dataframe(truth_df[:-3], value_cols='Future_4Week_Sum')\n",
    "        forecast_df['Future_4Week_Sum'] = (\n",
    "            forecast_df['Units Sold'][::-1]\n",
    "            .rolling(window=4)\n",
    "            .sum()[::-1]\n",
    "        )\n",
    "        forecast = TimeSeries.from_dataframe(forecast_df[:-3], value_cols='Future_4Week_Sum')\n",
    "        \n",
    "        mape_score = mape(truth, forecast)\n",
    "        rmse_score = rmse(truth, forecast)\n",
    "\n",
    "        print(f\"{model_name} - Product {idx}: MAPE = {mape_score:.2f}%  RMSE = {rmse_score:.4f}\")\n",
    "\n",
    "        metrics.append({\n",
    "                'product_id': idx,\n",
    "                'mape': mape_score,\n",
    "                'rmse': rmse_score\n",
    "                })\n",
    "\n",
    "    pd.DataFrame(metrics).to_csv(os.path.join(model_dir, 'metrics_summary.csv'), index=False)"
   ]
  },
  {
   "cell_type": "code",
   "execution_count": 35,
   "id": "00a1ef7b",
   "metadata": {},
   "outputs": [
    {
     "name": "stdout",
     "output_type": "stream",
     "text": [
      "component   Units Sold  Future_4Week_Sum\n",
      "Week                                    \n",
      "2023-09-04    0.464052          2.602033\n",
      "2023-09-11    0.723675          2.801198\n",
      "2023-09-18    0.651416          2.621641\n",
      "2023-09-25    0.762890          2.704067\n",
      "2023-10-02    0.663217          2.518156\n",
      "2023-10-09    0.544118          2.421750\n",
      "2023-10-16    0.733842          2.654140\n",
      "2023-10-23    0.576979          2.796660\n",
      "2023-10-30    0.566812          2.941540\n",
      "2023-11-06    0.776507          2.901416\n",
      "2023-11-13    0.876362          2.754721\n",
      "2023-11-20    0.721859          2.754721\n",
      "2023-11-27    0.526688          2.681373\n",
      "2023-12-04    0.629811          2.747821\n",
      "2023-12-11    0.876362          2.035403\n",
      "2023-12-18    0.648511               NaN\n",
      "2023-12-25    0.593137               NaN\n",
      "2024-01-01   -0.082607               NaN\n",
      "<TimeSeries (DataArray) (Week: 15, component: 1, sample: 1)> Size: 120B\n",
      "array([[[2.60203344]],\n",
      "\n",
      "       [[2.8011983 ]],\n",
      "\n",
      "       [[2.62164134]],\n",
      "\n",
      "       [[2.70406693]],\n",
      "\n",
      "       [[2.51815557]],\n",
      "\n",
      "       [[2.42175031]],\n",
      "\n",
      "       [[2.65413958]],\n",
      "\n",
      "       [[2.79665953]],\n",
      "\n",
      "       [[2.9415397 ]],\n",
      "\n",
      "       [[2.90141624]],\n",
      "\n",
      "       [[2.75472051]],\n",
      "\n",
      "       [[2.75472051]],\n",
      "\n",
      "       [[2.68137264]],\n",
      "\n",
      "       [[2.74782145]],\n",
      "\n",
      "       [[2.0354031 ]]])\n",
      "Coordinates:\n",
      "  * Week       (Week) datetime64[ns] 120B 2023-09-04 2023-09-11 ... 2023-12-11\n",
      "  * component  (component) object 8B 'Future_4Week_Sum'\n",
      "Dimensions without coordinates: sample\n",
      "Attributes:\n",
      "    static_covariates:  None\n",
      "    hierarchy:          None\n"
     ]
    }
   ],
   "source": [
    "print(truth_df)\n",
    "print(truth)"
   ]
  },
  {
   "cell_type": "code",
   "execution_count": 29,
   "id": "be7e43df",
   "metadata": {},
   "outputs": [
    {
     "name": "stderr",
     "output_type": "stream",
     "text": [
      "GPU available: True (mps), used: True\n",
      "TPU available: False, using: 0 TPU cores\n",
      "HPU available: False, using: 0 HPUs\n"
     ]
    },
    {
     "data": {
      "application/vnd.jupyter.widget-view+json": {
       "model_id": "4f467abce9934b1bba485c3ef3ba5d78",
       "version_major": 2,
       "version_minor": 0
      },
      "text/plain": [
       "Predicting: |          | 0/? [00:00<?, ?it/s]"
      ]
     },
     "metadata": {},
     "output_type": "display_data"
    },
    {
     "name": "stderr",
     "output_type": "stream",
     "text": [
      "GPU available: True (mps), used: True\n",
      "TPU available: False, using: 0 TPU cores\n",
      "HPU available: False, using: 0 HPUs\n"
     ]
    },
    {
     "name": "stdout",
     "output_type": "stream",
     "text": [
      "NBEATS Aggregate - Product 0: MAPE = 8.95%  RMSE = 0.2831\n"
     ]
    },
    {
     "data": {
      "application/vnd.jupyter.widget-view+json": {
       "model_id": "c7a07181c0f84c5a868006dde7202603",
       "version_major": 2,
       "version_minor": 0
      },
      "text/plain": [
       "Predicting: |          | 0/? [00:00<?, ?it/s]"
      ]
     },
     "metadata": {},
     "output_type": "display_data"
    },
    {
     "name": "stderr",
     "output_type": "stream",
     "text": [
      "GPU available: True (mps), used: True\n",
      "TPU available: False, using: 0 TPU cores\n",
      "HPU available: False, using: 0 HPUs\n"
     ]
    },
    {
     "name": "stdout",
     "output_type": "stream",
     "text": [
      "NBEATS Aggregate - Product 1: MAPE = 13.72%  RMSE = 0.3336\n"
     ]
    },
    {
     "data": {
      "application/vnd.jupyter.widget-view+json": {
       "model_id": "0459aa194e824d42a635d5683dc1dee2",
       "version_major": 2,
       "version_minor": 0
      },
      "text/plain": [
       "Predicting: |          | 0/? [00:00<?, ?it/s]"
      ]
     },
     "metadata": {},
     "output_type": "display_data"
    },
    {
     "name": "stderr",
     "output_type": "stream",
     "text": [
      "GPU available: True (mps), used: True\n",
      "TPU available: False, using: 0 TPU cores\n",
      "HPU available: False, using: 0 HPUs\n"
     ]
    },
    {
     "name": "stdout",
     "output_type": "stream",
     "text": [
      "NBEATS Aggregate - Product 2: MAPE = 9.00%  RMSE = 0.2898\n"
     ]
    },
    {
     "data": {
      "application/vnd.jupyter.widget-view+json": {
       "model_id": "8a14a3d1ff7840fc8ed6c2c97958b5f4",
       "version_major": 2,
       "version_minor": 0
      },
      "text/plain": [
       "Predicting: |          | 0/? [00:00<?, ?it/s]"
      ]
     },
     "metadata": {},
     "output_type": "display_data"
    },
    {
     "name": "stderr",
     "output_type": "stream",
     "text": [
      "GPU available: True (mps), used: True\n",
      "TPU available: False, using: 0 TPU cores\n",
      "HPU available: False, using: 0 HPUs\n"
     ]
    },
    {
     "name": "stdout",
     "output_type": "stream",
     "text": [
      "NBEATS Aggregate - Product 3: MAPE = 11.26%  RMSE = 0.3157\n"
     ]
    },
    {
     "data": {
      "application/vnd.jupyter.widget-view+json": {
       "model_id": "7ba6941cd0774b66bd17d158b52910ab",
       "version_major": 2,
       "version_minor": 0
      },
      "text/plain": [
       "Predicting: |          | 0/? [00:00<?, ?it/s]"
      ]
     },
     "metadata": {},
     "output_type": "display_data"
    },
    {
     "name": "stderr",
     "output_type": "stream",
     "text": [
      "GPU available: True (mps), used: True\n",
      "TPU available: False, using: 0 TPU cores\n",
      "HPU available: False, using: 0 HPUs\n"
     ]
    },
    {
     "name": "stdout",
     "output_type": "stream",
     "text": [
      "NBEATS Aggregate - Product 4: MAPE = 7.30%  RMSE = 0.2181\n"
     ]
    },
    {
     "data": {
      "application/vnd.jupyter.widget-view+json": {
       "model_id": "e7de16c335a24f79bb8786d3c5fb7e65",
       "version_major": 2,
       "version_minor": 0
      },
      "text/plain": [
       "Predicting: |          | 0/? [00:00<?, ?it/s]"
      ]
     },
     "metadata": {},
     "output_type": "display_data"
    },
    {
     "name": "stderr",
     "output_type": "stream",
     "text": [
      "GPU available: True (mps), used: True\n",
      "TPU available: False, using: 0 TPU cores\n",
      "HPU available: False, using: 0 HPUs\n"
     ]
    },
    {
     "name": "stdout",
     "output_type": "stream",
     "text": [
      "NBEATS Aggregate - Product 5: MAPE = 12.17%  RMSE = 0.3463\n"
     ]
    },
    {
     "data": {
      "application/vnd.jupyter.widget-view+json": {
       "model_id": "ec92d0793d014a939e9cbfc019f74343",
       "version_major": 2,
       "version_minor": 0
      },
      "text/plain": [
       "Predicting: |          | 0/? [00:00<?, ?it/s]"
      ]
     },
     "metadata": {},
     "output_type": "display_data"
    },
    {
     "name": "stderr",
     "output_type": "stream",
     "text": [
      "GPU available: True (mps), used: True\n",
      "TPU available: False, using: 0 TPU cores\n",
      "HPU available: False, using: 0 HPUs\n"
     ]
    },
    {
     "name": "stdout",
     "output_type": "stream",
     "text": [
      "NBEATS Aggregate - Product 6: MAPE = 10.17%  RMSE = 0.2695\n"
     ]
    },
    {
     "data": {
      "application/vnd.jupyter.widget-view+json": {
       "model_id": "34b5bffa4c014ce9bcc375fdca26907f",
       "version_major": 2,
       "version_minor": 0
      },
      "text/plain": [
       "Predicting: |          | 0/? [00:00<?, ?it/s]"
      ]
     },
     "metadata": {},
     "output_type": "display_data"
    },
    {
     "name": "stderr",
     "output_type": "stream",
     "text": [
      "GPU available: True (mps), used: True\n",
      "TPU available: False, using: 0 TPU cores\n",
      "HPU available: False, using: 0 HPUs\n"
     ]
    },
    {
     "name": "stdout",
     "output_type": "stream",
     "text": [
      "NBEATS Aggregate - Product 7: MAPE = 15.19%  RMSE = 0.3989\n"
     ]
    },
    {
     "data": {
      "application/vnd.jupyter.widget-view+json": {
       "model_id": "53e518556d9d447883408eb97cffeef7",
       "version_major": 2,
       "version_minor": 0
      },
      "text/plain": [
       "Predicting: |          | 0/? [00:00<?, ?it/s]"
      ]
     },
     "metadata": {},
     "output_type": "display_data"
    },
    {
     "name": "stderr",
     "output_type": "stream",
     "text": [
      "GPU available: True (mps), used: True\n",
      "TPU available: False, using: 0 TPU cores\n",
      "HPU available: False, using: 0 HPUs\n"
     ]
    },
    {
     "name": "stdout",
     "output_type": "stream",
     "text": [
      "NBEATS Aggregate - Product 8: MAPE = 6.68%  RMSE = 0.2204\n"
     ]
    },
    {
     "data": {
      "application/vnd.jupyter.widget-view+json": {
       "model_id": "905cd531b34e42d4bcfd4b32cefec86c",
       "version_major": 2,
       "version_minor": 0
      },
      "text/plain": [
       "Predicting: |          | 0/? [00:00<?, ?it/s]"
      ]
     },
     "metadata": {},
     "output_type": "display_data"
    },
    {
     "name": "stderr",
     "output_type": "stream",
     "text": [
      "GPU available: True (mps), used: True\n",
      "TPU available: False, using: 0 TPU cores\n",
      "HPU available: False, using: 0 HPUs\n"
     ]
    },
    {
     "name": "stdout",
     "output_type": "stream",
     "text": [
      "NBEATS Aggregate - Product 9: MAPE = 12.52%  RMSE = 0.3673\n"
     ]
    },
    {
     "data": {
      "application/vnd.jupyter.widget-view+json": {
       "model_id": "b0e27ab6e7ad409d91d49a3f43c49636",
       "version_major": 2,
       "version_minor": 0
      },
      "text/plain": [
       "Predicting: |          | 0/? [00:00<?, ?it/s]"
      ]
     },
     "metadata": {},
     "output_type": "display_data"
    },
    {
     "name": "stderr",
     "output_type": "stream",
     "text": [
      "GPU available: True (mps), used: True\n",
      "TPU available: False, using: 0 TPU cores\n",
      "HPU available: False, using: 0 HPUs\n"
     ]
    },
    {
     "name": "stdout",
     "output_type": "stream",
     "text": [
      "NBEATS Aggregate - Product 10: MAPE = 7.75%  RMSE = 0.2557\n"
     ]
    },
    {
     "data": {
      "application/vnd.jupyter.widget-view+json": {
       "model_id": "e2d4716d56444862af7afac731a26cb0",
       "version_major": 2,
       "version_minor": 0
      },
      "text/plain": [
       "Predicting: |          | 0/? [00:00<?, ?it/s]"
      ]
     },
     "metadata": {},
     "output_type": "display_data"
    },
    {
     "name": "stderr",
     "output_type": "stream",
     "text": [
      "GPU available: True (mps), used: True\n",
      "TPU available: False, using: 0 TPU cores\n",
      "HPU available: False, using: 0 HPUs\n"
     ]
    },
    {
     "name": "stdout",
     "output_type": "stream",
     "text": [
      "NBEATS Aggregate - Product 11: MAPE = 12.81%  RMSE = 0.3503\n"
     ]
    },
    {
     "data": {
      "application/vnd.jupyter.widget-view+json": {
       "model_id": "d59a61492c9246ab90a6657b8b7f728b",
       "version_major": 2,
       "version_minor": 0
      },
      "text/plain": [
       "Predicting: |          | 0/? [00:00<?, ?it/s]"
      ]
     },
     "metadata": {},
     "output_type": "display_data"
    },
    {
     "name": "stderr",
     "output_type": "stream",
     "text": [
      "GPU available: True (mps), used: True\n",
      "TPU available: False, using: 0 TPU cores\n",
      "HPU available: False, using: 0 HPUs\n"
     ]
    },
    {
     "name": "stdout",
     "output_type": "stream",
     "text": [
      "NBEATS Aggregate - Product 12: MAPE = 11.77%  RMSE = 0.3190\n"
     ]
    },
    {
     "data": {
      "application/vnd.jupyter.widget-view+json": {
       "model_id": "9b0bc4ff3ea14580a6539f8fd821f675",
       "version_major": 2,
       "version_minor": 0
      },
      "text/plain": [
       "Predicting: |          | 0/? [00:00<?, ?it/s]"
      ]
     },
     "metadata": {},
     "output_type": "display_data"
    },
    {
     "name": "stderr",
     "output_type": "stream",
     "text": [
      "GPU available: True (mps), used: True\n",
      "TPU available: False, using: 0 TPU cores\n",
      "HPU available: False, using: 0 HPUs\n"
     ]
    },
    {
     "name": "stdout",
     "output_type": "stream",
     "text": [
      "NBEATS Aggregate - Product 13: MAPE = 7.52%  RMSE = 0.2481\n"
     ]
    },
    {
     "data": {
      "application/vnd.jupyter.widget-view+json": {
       "model_id": "f205aa2a49f140cba4d977c32c123f6d",
       "version_major": 2,
       "version_minor": 0
      },
      "text/plain": [
       "Predicting: |          | 0/? [00:00<?, ?it/s]"
      ]
     },
     "metadata": {},
     "output_type": "display_data"
    },
    {
     "name": "stderr",
     "output_type": "stream",
     "text": [
      "GPU available: True (mps), used: True\n",
      "TPU available: False, using: 0 TPU cores\n",
      "HPU available: False, using: 0 HPUs\n"
     ]
    },
    {
     "name": "stdout",
     "output_type": "stream",
     "text": [
      "NBEATS Aggregate - Product 14: MAPE = 9.01%  RMSE = 0.2856\n"
     ]
    },
    {
     "data": {
      "application/vnd.jupyter.widget-view+json": {
       "model_id": "77660c3eea9349a695d1b7c05c6d7eec",
       "version_major": 2,
       "version_minor": 0
      },
      "text/plain": [
       "Predicting: |          | 0/? [00:00<?, ?it/s]"
      ]
     },
     "metadata": {},
     "output_type": "display_data"
    },
    {
     "name": "stderr",
     "output_type": "stream",
     "text": [
      "GPU available: True (mps), used: True\n",
      "TPU available: False, using: 0 TPU cores\n",
      "HPU available: False, using: 0 HPUs\n"
     ]
    },
    {
     "name": "stdout",
     "output_type": "stream",
     "text": [
      "NBEATS Aggregate - Product 15: MAPE = 12.36%  RMSE = 0.3582\n"
     ]
    },
    {
     "data": {
      "application/vnd.jupyter.widget-view+json": {
       "model_id": "53172f4a98294916a3d7fe8b8a87dbbe",
       "version_major": 2,
       "version_minor": 0
      },
      "text/plain": [
       "Predicting: |          | 0/? [00:00<?, ?it/s]"
      ]
     },
     "metadata": {},
     "output_type": "display_data"
    },
    {
     "name": "stderr",
     "output_type": "stream",
     "text": [
      "GPU available: True (mps), used: True\n",
      "TPU available: False, using: 0 TPU cores\n",
      "HPU available: False, using: 0 HPUs\n"
     ]
    },
    {
     "name": "stdout",
     "output_type": "stream",
     "text": [
      "NBEATS Aggregate - Product 16: MAPE = 17.33%  RMSE = 0.5199\n"
     ]
    },
    {
     "data": {
      "application/vnd.jupyter.widget-view+json": {
       "model_id": "0135b45598c043839357ed325fd0b482",
       "version_major": 2,
       "version_minor": 0
      },
      "text/plain": [
       "Predicting: |          | 0/? [00:00<?, ?it/s]"
      ]
     },
     "metadata": {},
     "output_type": "display_data"
    },
    {
     "name": "stderr",
     "output_type": "stream",
     "text": [
      "GPU available: True (mps), used: True\n",
      "TPU available: False, using: 0 TPU cores\n",
      "HPU available: False, using: 0 HPUs\n"
     ]
    },
    {
     "name": "stdout",
     "output_type": "stream",
     "text": [
      "NBEATS Aggregate - Product 17: MAPE = 9.71%  RMSE = 0.3317\n"
     ]
    },
    {
     "data": {
      "application/vnd.jupyter.widget-view+json": {
       "model_id": "a8981f44825d4adcb0e551ce53fea694",
       "version_major": 2,
       "version_minor": 0
      },
      "text/plain": [
       "Predicting: |          | 0/? [00:00<?, ?it/s]"
      ]
     },
     "metadata": {},
     "output_type": "display_data"
    },
    {
     "name": "stderr",
     "output_type": "stream",
     "text": [
      "GPU available: True (mps), used: True\n",
      "TPU available: False, using: 0 TPU cores\n",
      "HPU available: False, using: 0 HPUs\n"
     ]
    },
    {
     "name": "stdout",
     "output_type": "stream",
     "text": [
      "NBEATS Aggregate - Product 18: MAPE = 9.88%  RMSE = 0.3100\n"
     ]
    },
    {
     "data": {
      "application/vnd.jupyter.widget-view+json": {
       "model_id": "d8f8392686704b018a2517c9c7080c7c",
       "version_major": 2,
       "version_minor": 0
      },
      "text/plain": [
       "Predicting: |          | 0/? [00:00<?, ?it/s]"
      ]
     },
     "metadata": {},
     "output_type": "display_data"
    },
    {
     "name": "stderr",
     "output_type": "stream",
     "text": [
      "GPU available: True (mps), used: True\n",
      "TPU available: False, using: 0 TPU cores\n",
      "HPU available: False, using: 0 HPUs\n"
     ]
    },
    {
     "name": "stdout",
     "output_type": "stream",
     "text": [
      "NBEATS Aggregate - Product 19: MAPE = 11.55%  RMSE = 0.3325\n"
     ]
    },
    {
     "data": {
      "application/vnd.jupyter.widget-view+json": {
       "model_id": "46df11fb780147fe931ea04d7efe413a",
       "version_major": 2,
       "version_minor": 0
      },
      "text/plain": [
       "Predicting: |          | 0/? [00:00<?, ?it/s]"
      ]
     },
     "metadata": {},
     "output_type": "display_data"
    },
    {
     "name": "stderr",
     "output_type": "stream",
     "text": [
      "GPU available: True (mps), used: True\n",
      "TPU available: False, using: 0 TPU cores\n",
      "HPU available: False, using: 0 HPUs\n"
     ]
    },
    {
     "name": "stdout",
     "output_type": "stream",
     "text": [
      "RNN Aggregate - Product 0: MAPE = 17.43%  RMSE = 0.5089\n"
     ]
    },
    {
     "data": {
      "application/vnd.jupyter.widget-view+json": {
       "model_id": "5c525e568d8844c59e126bd7b4a8e484",
       "version_major": 2,
       "version_minor": 0
      },
      "text/plain": [
       "Predicting: |          | 0/? [00:00<?, ?it/s]"
      ]
     },
     "metadata": {},
     "output_type": "display_data"
    },
    {
     "name": "stderr",
     "output_type": "stream",
     "text": [
      "GPU available: True (mps), used: True\n",
      "TPU available: False, using: 0 TPU cores\n",
      "HPU available: False, using: 0 HPUs\n"
     ]
    },
    {
     "name": "stdout",
     "output_type": "stream",
     "text": [
      "RNN Aggregate - Product 1: MAPE = 22.14%  RMSE = 0.5675\n"
     ]
    },
    {
     "data": {
      "application/vnd.jupyter.widget-view+json": {
       "model_id": "a367a31eb04e49a1863e08327015e6e8",
       "version_major": 2,
       "version_minor": 0
      },
      "text/plain": [
       "Predicting: |          | 0/? [00:00<?, ?it/s]"
      ]
     },
     "metadata": {},
     "output_type": "display_data"
    },
    {
     "name": "stderr",
     "output_type": "stream",
     "text": [
      "GPU available: True (mps), used: True\n",
      "TPU available: False, using: 0 TPU cores\n",
      "HPU available: False, using: 0 HPUs\n"
     ]
    },
    {
     "name": "stdout",
     "output_type": "stream",
     "text": [
      "RNN Aggregate - Product 2: MAPE = 20.42%  RMSE = 0.6090\n"
     ]
    },
    {
     "data": {
      "application/vnd.jupyter.widget-view+json": {
       "model_id": "1b53e80df30b49dba646f262613e92e5",
       "version_major": 2,
       "version_minor": 0
      },
      "text/plain": [
       "Predicting: |          | 0/? [00:00<?, ?it/s]"
      ]
     },
     "metadata": {},
     "output_type": "display_data"
    },
    {
     "name": "stderr",
     "output_type": "stream",
     "text": [
      "GPU available: True (mps), used: True\n",
      "TPU available: False, using: 0 TPU cores\n",
      "HPU available: False, using: 0 HPUs\n"
     ]
    },
    {
     "name": "stdout",
     "output_type": "stream",
     "text": [
      "RNN Aggregate - Product 3: MAPE = 22.33%  RMSE = 0.6320\n"
     ]
    },
    {
     "data": {
      "application/vnd.jupyter.widget-view+json": {
       "model_id": "63bd939ef0414de7b5ead016e8175364",
       "version_major": 2,
       "version_minor": 0
      },
      "text/plain": [
       "Predicting: |          | 0/? [00:00<?, ?it/s]"
      ]
     },
     "metadata": {},
     "output_type": "display_data"
    },
    {
     "name": "stderr",
     "output_type": "stream",
     "text": [
      "GPU available: True (mps), used: True\n",
      "TPU available: False, using: 0 TPU cores\n",
      "HPU available: False, using: 0 HPUs\n"
     ]
    },
    {
     "name": "stdout",
     "output_type": "stream",
     "text": [
      "RNN Aggregate - Product 4: MAPE = 21.14%  RMSE = 0.6049\n"
     ]
    },
    {
     "data": {
      "application/vnd.jupyter.widget-view+json": {
       "model_id": "cfca2617cfda4d30a4c489cef1544d05",
       "version_major": 2,
       "version_minor": 0
      },
      "text/plain": [
       "Predicting: |          | 0/? [00:00<?, ?it/s]"
      ]
     },
     "metadata": {},
     "output_type": "display_data"
    },
    {
     "name": "stderr",
     "output_type": "stream",
     "text": [
      "GPU available: True (mps), used: True\n",
      "TPU available: False, using: 0 TPU cores\n",
      "HPU available: False, using: 0 HPUs\n"
     ]
    },
    {
     "name": "stdout",
     "output_type": "stream",
     "text": [
      "RNN Aggregate - Product 5: MAPE = 20.53%  RMSE = 0.6057\n"
     ]
    },
    {
     "data": {
      "application/vnd.jupyter.widget-view+json": {
       "model_id": "580b2a0ba68d41daa8848371daa6ae9f",
       "version_major": 2,
       "version_minor": 0
      },
      "text/plain": [
       "Predicting: |          | 0/? [00:00<?, ?it/s]"
      ]
     },
     "metadata": {},
     "output_type": "display_data"
    },
    {
     "name": "stderr",
     "output_type": "stream",
     "text": [
      "GPU available: True (mps), used: True\n",
      "TPU available: False, using: 0 TPU cores\n",
      "HPU available: False, using: 0 HPUs\n"
     ]
    },
    {
     "name": "stdout",
     "output_type": "stream",
     "text": [
      "RNN Aggregate - Product 6: MAPE = 19.16%  RMSE = 0.5200\n"
     ]
    },
    {
     "data": {
      "application/vnd.jupyter.widget-view+json": {
       "model_id": "565ec897cb0c40ecb7ee88d4c25cc96d",
       "version_major": 2,
       "version_minor": 0
      },
      "text/plain": [
       "Predicting: |          | 0/? [00:00<?, ?it/s]"
      ]
     },
     "metadata": {},
     "output_type": "display_data"
    },
    {
     "name": "stdout",
     "output_type": "stream",
     "text": [
      "RNN Aggregate - Product 7: MAPE = 13.92%  RMSE = 0.4405\n"
     ]
    },
    {
     "name": "stderr",
     "output_type": "stream",
     "text": [
      "GPU available: True (mps), used: True\n",
      "TPU available: False, using: 0 TPU cores\n",
      "HPU available: False, using: 0 HPUs\n"
     ]
    },
    {
     "data": {
      "application/vnd.jupyter.widget-view+json": {
       "model_id": "d9f88fe08d40446ab53ee9ef5cc7f661",
       "version_major": 2,
       "version_minor": 0
      },
      "text/plain": [
       "Predicting: |          | 0/? [00:00<?, ?it/s]"
      ]
     },
     "metadata": {},
     "output_type": "display_data"
    },
    {
     "name": "stdout",
     "output_type": "stream",
     "text": [
      "RNN Aggregate - Product 8: MAPE = 11.80%  RMSE = 0.3724\n"
     ]
    },
    {
     "name": "stderr",
     "output_type": "stream",
     "text": [
      "GPU available: True (mps), used: True\n",
      "TPU available: False, using: 0 TPU cores\n",
      "HPU available: False, using: 0 HPUs\n"
     ]
    },
    {
     "data": {
      "application/vnd.jupyter.widget-view+json": {
       "model_id": "93941996c0734d198a698330b9285c63",
       "version_major": 2,
       "version_minor": 0
      },
      "text/plain": [
       "Predicting: |          | 0/? [00:00<?, ?it/s]"
      ]
     },
     "metadata": {},
     "output_type": "display_data"
    },
    {
     "name": "stdout",
     "output_type": "stream",
     "text": [
      "RNN Aggregate - Product 9: MAPE = 17.96%  RMSE = 0.5224\n"
     ]
    },
    {
     "name": "stderr",
     "output_type": "stream",
     "text": [
      "GPU available: True (mps), used: True\n",
      "TPU available: False, using: 0 TPU cores\n",
      "HPU available: False, using: 0 HPUs\n"
     ]
    },
    {
     "data": {
      "application/vnd.jupyter.widget-view+json": {
       "model_id": "bcab7edc497140029a78139d629517b1",
       "version_major": 2,
       "version_minor": 0
      },
      "text/plain": [
       "Predicting: |          | 0/? [00:00<?, ?it/s]"
      ]
     },
     "metadata": {},
     "output_type": "display_data"
    },
    {
     "name": "stderr",
     "output_type": "stream",
     "text": [
      "GPU available: True (mps), used: True\n",
      "TPU available: False, using: 0 TPU cores\n",
      "HPU available: False, using: 0 HPUs\n"
     ]
    },
    {
     "name": "stdout",
     "output_type": "stream",
     "text": [
      "RNN Aggregate - Product 10: MAPE = 17.01%  RMSE = 0.5003\n"
     ]
    },
    {
     "data": {
      "application/vnd.jupyter.widget-view+json": {
       "model_id": "5ecef769ce19464587b122c62e87feac",
       "version_major": 2,
       "version_minor": 0
      },
      "text/plain": [
       "Predicting: |          | 0/? [00:00<?, ?it/s]"
      ]
     },
     "metadata": {},
     "output_type": "display_data"
    },
    {
     "name": "stderr",
     "output_type": "stream",
     "text": [
      "GPU available: True (mps), used: True\n",
      "TPU available: False, using: 0 TPU cores\n",
      "HPU available: False, using: 0 HPUs\n"
     ]
    },
    {
     "name": "stdout",
     "output_type": "stream",
     "text": [
      "RNN Aggregate - Product 11: MAPE = 14.50%  RMSE = 0.3899\n"
     ]
    },
    {
     "data": {
      "application/vnd.jupyter.widget-view+json": {
       "model_id": "69769ab11bba4bdcb2fedc581c048080",
       "version_major": 2,
       "version_minor": 0
      },
      "text/plain": [
       "Predicting: |          | 0/? [00:00<?, ?it/s]"
      ]
     },
     "metadata": {},
     "output_type": "display_data"
    },
    {
     "name": "stdout",
     "output_type": "stream",
     "text": [
      "RNN Aggregate - Product 12: MAPE = 14.40%  RMSE = 0.4164\n"
     ]
    },
    {
     "name": "stderr",
     "output_type": "stream",
     "text": [
      "GPU available: True (mps), used: True\n",
      "TPU available: False, using: 0 TPU cores\n",
      "HPU available: False, using: 0 HPUs\n"
     ]
    },
    {
     "data": {
      "application/vnd.jupyter.widget-view+json": {
       "model_id": "b9727618feaf48b2bf4c1cff60e0b764",
       "version_major": 2,
       "version_minor": 0
      },
      "text/plain": [
       "Predicting: |          | 0/? [00:00<?, ?it/s]"
      ]
     },
     "metadata": {},
     "output_type": "display_data"
    },
    {
     "name": "stdout",
     "output_type": "stream",
     "text": [
      "RNN Aggregate - Product 13: MAPE = 12.74%  RMSE = 0.3780\n"
     ]
    },
    {
     "name": "stderr",
     "output_type": "stream",
     "text": [
      "GPU available: True (mps), used: True\n",
      "TPU available: False, using: 0 TPU cores\n",
      "HPU available: False, using: 0 HPUs\n"
     ]
    },
    {
     "data": {
      "application/vnd.jupyter.widget-view+json": {
       "model_id": "c009dc9696494fcea2492fefea25a374",
       "version_major": 2,
       "version_minor": 0
      },
      "text/plain": [
       "Predicting: |          | 0/? [00:00<?, ?it/s]"
      ]
     },
     "metadata": {},
     "output_type": "display_data"
    },
    {
     "name": "stdout",
     "output_type": "stream",
     "text": [
      "RNN Aggregate - Product 14: MAPE = 12.19%  RMSE = 0.3956\n"
     ]
    },
    {
     "name": "stderr",
     "output_type": "stream",
     "text": [
      "GPU available: True (mps), used: True\n",
      "TPU available: False, using: 0 TPU cores\n",
      "HPU available: False, using: 0 HPUs\n"
     ]
    },
    {
     "data": {
      "application/vnd.jupyter.widget-view+json": {
       "model_id": "a1954de7271148159cb148834b4677ce",
       "version_major": 2,
       "version_minor": 0
      },
      "text/plain": [
       "Predicting: |          | 0/? [00:00<?, ?it/s]"
      ]
     },
     "metadata": {},
     "output_type": "display_data"
    },
    {
     "name": "stdout",
     "output_type": "stream",
     "text": [
      "RNN Aggregate - Product 15: MAPE = 12.36%  RMSE = 0.3765\n"
     ]
    },
    {
     "name": "stderr",
     "output_type": "stream",
     "text": [
      "GPU available: True (mps), used: True\n",
      "TPU available: False, using: 0 TPU cores\n",
      "HPU available: False, using: 0 HPUs\n"
     ]
    },
    {
     "data": {
      "application/vnd.jupyter.widget-view+json": {
       "model_id": "24260857d003493ba950c770db321325",
       "version_major": 2,
       "version_minor": 0
      },
      "text/plain": [
       "Predicting: |          | 0/? [00:00<?, ?it/s]"
      ]
     },
     "metadata": {},
     "output_type": "display_data"
    },
    {
     "name": "stdout",
     "output_type": "stream",
     "text": [
      "RNN Aggregate - Product 16: MAPE = 14.98%  RMSE = 0.4405\n"
     ]
    },
    {
     "name": "stderr",
     "output_type": "stream",
     "text": [
      "GPU available: True (mps), used: True\n",
      "TPU available: False, using: 0 TPU cores\n",
      "HPU available: False, using: 0 HPUs\n"
     ]
    },
    {
     "data": {
      "application/vnd.jupyter.widget-view+json": {
       "model_id": "7364a48f11d748e5b72584afc20f7514",
       "version_major": 2,
       "version_minor": 0
      },
      "text/plain": [
       "Predicting: |          | 0/? [00:00<?, ?it/s]"
      ]
     },
     "metadata": {},
     "output_type": "display_data"
    },
    {
     "name": "stderr",
     "output_type": "stream",
     "text": [
      "GPU available: True (mps), used: True\n",
      "TPU available: False, using: 0 TPU cores\n",
      "HPU available: False, using: 0 HPUs\n"
     ]
    },
    {
     "name": "stdout",
     "output_type": "stream",
     "text": [
      "RNN Aggregate - Product 17: MAPE = 15.35%  RMSE = 0.4691\n"
     ]
    },
    {
     "data": {
      "application/vnd.jupyter.widget-view+json": {
       "model_id": "a644abc7b2f149d28756d82728f03df8",
       "version_major": 2,
       "version_minor": 0
      },
      "text/plain": [
       "Predicting: |          | 0/? [00:00<?, ?it/s]"
      ]
     },
     "metadata": {},
     "output_type": "display_data"
    },
    {
     "name": "stdout",
     "output_type": "stream",
     "text": [
      "RNN Aggregate - Product 18: MAPE = 17.40%  RMSE = 0.5207\n"
     ]
    },
    {
     "name": "stderr",
     "output_type": "stream",
     "text": [
      "GPU available: True (mps), used: True\n",
      "TPU available: False, using: 0 TPU cores\n",
      "HPU available: False, using: 0 HPUs\n"
     ]
    },
    {
     "data": {
      "application/vnd.jupyter.widget-view+json": {
       "model_id": "a161bb982a73499ea747453862013cd2",
       "version_major": 2,
       "version_minor": 0
      },
      "text/plain": [
       "Predicting: |          | 0/? [00:00<?, ?it/s]"
      ]
     },
     "metadata": {},
     "output_type": "display_data"
    },
    {
     "name": "stdout",
     "output_type": "stream",
     "text": [
      "RNN Aggregate - Product 19: MAPE = 14.56%  RMSE = 0.4264\n"
     ]
    }
   ],
   "source": [
    "output_dir = 'models_test'\n",
    "\n",
    "models = [model_nbeats_aggregate, model_rnn_aggregate]\n",
    "model_names = ['NBEATS Aggregate', 'RNN Aggregate']\n",
    "\n",
    "metrics = []\n",
    "\n",
    "for model, model_name in zip(models, model_names):  # for each model\n",
    "    model_dir = os.path.join(output_dir, model_name)\n",
    "    os.makedirs(model_dir, exist_ok=True)\n",
    "\n",
    "    for idx, full_ts in enumerate(full_series_scaled):  # for each product\n",
    "        forecast = model.historical_forecasts(\n",
    "            series=full_ts,\n",
    "            past_covariates=past_covariates_scaled[idx],\n",
    "            start=train_series_scaled[idx].end_time(),\n",
    "            forecast_horizon= 1, # Aggregate to 1 month\n",
    "            retrain=False,\n",
    "            verbose=True\n",
    "        )\n",
    "\n",
    "        test_slice = full_ts.slice_intersect(forecast)\n",
    "        test_df = test_slice.pd_dataframe()\n",
    "        test_df['Future_4Week_Sum'] = (\n",
    "            test_df['Units Sold'][::-1]\n",
    "            .rolling(window=4)\n",
    "            .sum()[::-1]\n",
    "        )\n",
    "        # Remove the last 3 weeks of data (NA)\n",
    "        test_df = test_df[:-3]\n",
    "        truth = TimeSeries.from_dataframe(test_df, value_cols='Future_4Week_Sum')\n",
    "\n",
    "        test_df.to_csv(os.path.join(model_dir, f'ground_truth_product_{idx}.csv'))\n",
    "        forecast.pd_dataframe()[:-3].to_csv(os.path.join(model_dir, f'forecast_product_{idx}.csv'))\n",
    "\n",
    "        mape_score = mape(truth, forecast)\n",
    "        rmse_score = rmse(truth, forecast)\n",
    "        print(f\"{model_name} - Product {idx}: MAPE = {mape_score:.2f}%  RMSE = {rmse_score:.4f}\")\n",
    "\n",
    "        metrics.append({\n",
    "                    'product_id': idx,\n",
    "                    'mape': mape_score,\n",
    "                    'rmse': rmse_score\n",
    "                })\n",
    "\n",
    "    pd.DataFrame(metrics).to_csv(os.path.join(model_dir, 'metrics_summary.csv'), index=False)"
   ]
  },
  {
   "cell_type": "code",
   "execution_count": 27,
   "id": "2c839b66",
   "metadata": {},
   "outputs": [
    {
     "data": {
      "text/plain": [
       "<bound method NDFrame.head of component   Units Sold  Future_4Week_Sum\n",
       "Week                                    \n",
       "2023-08-14    0.548112          2.088235\n",
       "2023-08-21    0.518519          2.263798\n",
       "2023-08-28    0.557553          2.396696\n",
       "2023-09-04    0.464052          2.602033\n",
       "2023-09-11    0.723675          2.801198\n",
       "2023-09-18    0.651416          2.621641\n",
       "2023-09-25    0.762890          2.704067\n",
       "2023-10-02    0.663217          2.518156\n",
       "2023-10-09    0.544118          2.421750\n",
       "2023-10-16    0.733842          2.654140\n",
       "2023-10-23    0.576979          2.796660\n",
       "2023-10-30    0.566812          2.941540\n",
       "2023-11-06    0.776507          2.901416\n",
       "2023-11-13    0.876362          2.754721\n",
       "2023-11-20    0.721859          2.754721\n",
       "2023-11-27    0.526688          2.681373\n",
       "2023-12-04    0.629811          2.747821\n",
       "2023-12-11    0.876362          2.035403\n",
       "2023-12-18    0.648511               NaN\n",
       "2023-12-25    0.593137               NaN\n",
       "2024-01-01   -0.082607               NaN>"
      ]
     },
     "execution_count": 27,
     "metadata": {},
     "output_type": "execute_result"
    }
   ],
   "source": [
    "test_df = test_slice.pd_dataframe()\n",
    "test_df['Future_4Week_Sum'] = (\n",
    "    test_df['Units Sold'][::-1]\n",
    "    .rolling(window=4)\n",
    "    .sum()[::-1]\n",
    ")\n",
    "test_df.head\n"
   ]
  }
 ],
 "metadata": {
  "kernelspec": {
   "display_name": "Python 3",
   "language": "python",
   "name": "python3"
  },
  "language_info": {
   "codemirror_mode": {
    "name": "ipython",
    "version": 3
   },
   "file_extension": ".py",
   "mimetype": "text/x-python",
   "name": "python",
   "nbconvert_exporter": "python",
   "pygments_lexer": "ipython3",
   "version": "3.12.4"
  }
 },
 "nbformat": 4,
 "nbformat_minor": 5
}
